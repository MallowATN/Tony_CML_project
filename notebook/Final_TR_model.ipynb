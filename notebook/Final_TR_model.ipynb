{
 "cells": [
  {
   "cell_type": "code",
   "execution_count": 7,
   "metadata": {},
   "outputs": [],
   "source": [
    "import numpy as np\n",
    "import pandas as pd\n",
    "pd.options.display.max_columns = 30\n",
    "# pd.options.display.max_rows = 300\n",
    "pd.options.display.precision = 5\n",
    "import matplotlib.pyplot as plt\n",
    "import seaborn as sns\n",
    "import plotly.express as px\n",
    "%matplotlib inline\n",
    "import os"
   ]
  },
  {
   "cell_type": "code",
   "execution_count": 8,
   "metadata": {},
   "outputs": [],
   "source": [
    "import warnings \n",
    "warnings.filterwarnings('ignore')"
   ]
  },
  {
   "cell_type": "markdown",
   "metadata": {},
   "source": [
    "## Exploratory Data Analysis"
   ]
  },
  {
   "cell_type": "markdown",
   "metadata": {},
   "source": [
    "### 1. *Reading/Understanding the Data*\n"
   ]
  },
  {
   "cell_type": "code",
   "execution_count": 9,
   "metadata": {},
   "outputs": [],
   "source": [
    "df = pd.read_csv('Account_Sales.csv')"
   ]
  },
  {
   "cell_type": "code",
   "execution_count": 10,
   "metadata": {},
   "outputs": [
    {
     "data": {
      "text/html": [
       "<div>\n",
       "<style scoped>\n",
       "    .dataframe tbody tr th:only-of-type {\n",
       "        vertical-align: middle;\n",
       "    }\n",
       "\n",
       "    .dataframe tbody tr th {\n",
       "        vertical-align: top;\n",
       "    }\n",
       "\n",
       "    .dataframe thead th {\n",
       "        text-align: right;\n",
       "    }\n",
       "</style>\n",
       "<table border=\"1\" class=\"dataframe\">\n",
       "  <thead>\n",
       "    <tr style=\"text-align: right;\">\n",
       "      <th></th>\n",
       "      <th># Won Deals</th>\n",
       "      <th>Account ID</th>\n",
       "      <th>Account Name</th>\n",
       "      <th>Account Source</th>\n",
       "      <th>Account Type</th>\n",
       "      <th>Annual Revenue</th>\n",
       "      <th>Average Age</th>\n",
       "      <th>Average Deal Size</th>\n",
       "      <th>Billing Country</th>\n",
       "      <th>Billing State/Province</th>\n",
       "      <th>Created Date</th>\n",
       "      <th>Customer Priority</th>\n",
       "      <th>Days Since First Deal Close</th>\n",
       "      <th>Days Since Most Recent Deal Close</th>\n",
       "      <th>Employees</th>\n",
       "      <th>First Deal Date</th>\n",
       "      <th>Industry</th>\n",
       "      <th>Number of Locations</th>\n",
       "      <th>Owner ID</th>\n",
       "      <th>Product Rank</th>\n",
       "      <th>Top Product Family</th>\n",
       "      <th>Top Product Name</th>\n",
       "      <th>Top Product Total Price</th>\n",
       "      <th>Total Revenue</th>\n",
       "    </tr>\n",
       "  </thead>\n",
       "  <tbody>\n",
       "    <tr>\n",
       "      <th>0</th>\n",
       "      <td>1</td>\n",
       "      <td>0015e000005ELNLAA4</td>\n",
       "      <td>Morton128 Inc</td>\n",
       "      <td>Web</td>\n",
       "      <td>Customer</td>\n",
       "      <td>1000000</td>\n",
       "      <td>1628.0</td>\n",
       "      <td>1415700</td>\n",
       "      <td>Japan</td>\n",
       "      <td>NaN</td>\n",
       "      <td>2019-05-06T17:23:31.000Z</td>\n",
       "      <td>NaN</td>\n",
       "      <td>-1378</td>\n",
       "      <td>-1378</td>\n",
       "      <td>5000</td>\n",
       "      <td>2021-10-20</td>\n",
       "      <td>Transportation</td>\n",
       "      <td>0</td>\n",
       "      <td>0055e000002OgRdAAK</td>\n",
       "      <td>1</td>\n",
       "      <td>Laptops</td>\n",
       "      <td>Notebook</td>\n",
       "      <td>1415700</td>\n",
       "      <td>1415700</td>\n",
       "    </tr>\n",
       "    <tr>\n",
       "      <th>1</th>\n",
       "      <td>1</td>\n",
       "      <td>0015e000005ELNPAA4</td>\n",
       "      <td>Cobb132 Inc</td>\n",
       "      <td>Employee Referral</td>\n",
       "      <td>Customer</td>\n",
       "      <td>1000000</td>\n",
       "      <td>1455.0</td>\n",
       "      <td>1411200</td>\n",
       "      <td>Taiwan</td>\n",
       "      <td>NaN</td>\n",
       "      <td>2019-05-06T17:23:31.000Z</td>\n",
       "      <td>NaN</td>\n",
       "      <td>-1205</td>\n",
       "      <td>-1205</td>\n",
       "      <td>5000</td>\n",
       "      <td>2021-04-30</td>\n",
       "      <td>Apparel</td>\n",
       "      <td>0</td>\n",
       "      <td>0055e000002OgRmAAK</td>\n",
       "      <td>1</td>\n",
       "      <td>Laptops</td>\n",
       "      <td>Mega laptop</td>\n",
       "      <td>1411200</td>\n",
       "      <td>1411200</td>\n",
       "    </tr>\n",
       "    <tr>\n",
       "      <th>2</th>\n",
       "      <td>1</td>\n",
       "      <td>0015e000005ELNTAA4</td>\n",
       "      <td>Thompson136 Inc</td>\n",
       "      <td>Web</td>\n",
       "      <td>Customer</td>\n",
       "      <td>1000000</td>\n",
       "      <td>1332.0</td>\n",
       "      <td>3428800</td>\n",
       "      <td>Thailand</td>\n",
       "      <td>NaN</td>\n",
       "      <td>2019-05-06T17:23:31.000Z</td>\n",
       "      <td>NaN</td>\n",
       "      <td>-1082</td>\n",
       "      <td>-1082</td>\n",
       "      <td>5000</td>\n",
       "      <td>2020-12-28</td>\n",
       "      <td>Energy</td>\n",
       "      <td>0</td>\n",
       "      <td>0055e000002OgRtAAK</td>\n",
       "      <td>1</td>\n",
       "      <td>Laptops</td>\n",
       "      <td>Light laptop</td>\n",
       "      <td>1726250</td>\n",
       "      <td>3428800</td>\n",
       "    </tr>\n",
       "  </tbody>\n",
       "</table>\n",
       "</div>"
      ],
      "text/plain": [
       "   # Won Deals          Account ID     Account Name     Account Source  \\\n",
       "0            1  0015e000005ELNLAA4    Morton128 Inc                Web   \n",
       "1            1  0015e000005ELNPAA4      Cobb132 Inc  Employee Referral   \n",
       "2            1  0015e000005ELNTAA4  Thompson136 Inc                Web   \n",
       "\n",
       "  Account Type  Annual Revenue  Average Age  Average Deal Size  \\\n",
       "0     Customer         1000000       1628.0            1415700   \n",
       "1     Customer         1000000       1455.0            1411200   \n",
       "2     Customer         1000000       1332.0            3428800   \n",
       "\n",
       "  Billing Country Billing State/Province              Created Date  \\\n",
       "0           Japan                    NaN  2019-05-06T17:23:31.000Z   \n",
       "1          Taiwan                    NaN  2019-05-06T17:23:31.000Z   \n",
       "2        Thailand                    NaN  2019-05-06T17:23:31.000Z   \n",
       "\n",
       "   Customer Priority  Days Since First Deal Close  \\\n",
       "0                NaN                        -1378   \n",
       "1                NaN                        -1205   \n",
       "2                NaN                        -1082   \n",
       "\n",
       "   Days Since Most Recent Deal Close  Employees First Deal Date  \\\n",
       "0                              -1378       5000      2021-10-20   \n",
       "1                              -1205       5000      2021-04-30   \n",
       "2                              -1082       5000      2020-12-28   \n",
       "\n",
       "         Industry  Number of Locations            Owner ID  Product Rank  \\\n",
       "0  Transportation                    0  0055e000002OgRdAAK             1   \n",
       "1         Apparel                    0  0055e000002OgRmAAK             1   \n",
       "2          Energy                    0  0055e000002OgRtAAK             1   \n",
       "\n",
       "  Top Product Family Top Product Name  Top Product Total Price  Total Revenue  \n",
       "0            Laptops         Notebook                  1415700        1415700  \n",
       "1            Laptops      Mega laptop                  1411200        1411200  \n",
       "2            Laptops     Light laptop                  1726250        3428800  "
      ]
     },
     "execution_count": 10,
     "metadata": {},
     "output_type": "execute_result"
    }
   ],
   "source": [
    "df.head(3)"
   ]
  },
  {
   "cell_type": "code",
   "execution_count": 11,
   "metadata": {},
   "outputs": [
    {
     "data": {
      "text/plain": [
       "16774653"
      ]
     },
     "execution_count": 11,
     "metadata": {},
     "output_type": "execute_result"
    }
   ],
   "source": [
    "df[df['Billing Country']=='Singapore']['Total Revenue'].sum()"
   ]
  },
  {
   "cell_type": "code",
   "execution_count": 12,
   "metadata": {},
   "outputs": [
    {
     "data": {
      "text/plain": [
       "106830303"
      ]
     },
     "execution_count": 12,
     "metadata": {},
     "output_type": "execute_result"
    }
   ],
   "source": [
    "df[df['Billing Country']=='Canada']['Total Revenue'].sum()"
   ]
  },
  {
   "cell_type": "code",
   "execution_count": 13,
   "metadata": {},
   "outputs": [
    {
     "data": {
      "text/plain": [
       "(308, 24)"
      ]
     },
     "execution_count": 13,
     "metadata": {},
     "output_type": "execute_result"
    }
   ],
   "source": [
    "# Shape of the Dataframe\n",
    "df.shape"
   ]
  },
  {
   "cell_type": "code",
   "execution_count": 14,
   "metadata": {},
   "outputs": [
    {
     "data": {
      "text/plain": [
       "24"
      ]
     },
     "execution_count": 14,
     "metadata": {},
     "output_type": "execute_result"
    }
   ],
   "source": [
    "# There are 24 columns in the dataset\n",
    "df.columns.value_counts().sum()"
   ]
  },
  {
   "cell_type": "code",
   "execution_count": 15,
   "metadata": {},
   "outputs": [
    {
     "name": "stdout",
     "output_type": "stream",
     "text": [
      "<class 'pandas.core.frame.DataFrame'>\n",
      "RangeIndex: 308 entries, 0 to 307\n",
      "Data columns (total 24 columns):\n",
      " #   Column                             Non-Null Count  Dtype  \n",
      "---  ------                             --------------  -----  \n",
      " 0   # Won Deals                        308 non-null    int64  \n",
      " 1   Account ID                         308 non-null    object \n",
      " 2   Account Name                       308 non-null    object \n",
      " 3   Account Source                     308 non-null    object \n",
      " 4   Account Type                       308 non-null    object \n",
      " 5   Annual Revenue                     308 non-null    int64  \n",
      " 6   Average Age                        308 non-null    float64\n",
      " 7   Average Deal Size                  308 non-null    int64  \n",
      " 8   Billing Country                    308 non-null    object \n",
      " 9   Billing State/Province             130 non-null    object \n",
      " 10  Created Date                       308 non-null    object \n",
      " 11  Customer Priority                  0 non-null      float64\n",
      " 12  Days Since First Deal Close        308 non-null    int64  \n",
      " 13  Days Since Most Recent Deal Close  308 non-null    int64  \n",
      " 14  Employees                          308 non-null    int64  \n",
      " 15  First Deal Date                    308 non-null    object \n",
      " 16  Industry                           308 non-null    object \n",
      " 17  Number of Locations                308 non-null    int64  \n",
      " 18  Owner ID                           308 non-null    object \n",
      " 19  Product Rank                       308 non-null    int64  \n",
      " 20  Top Product Family                 265 non-null    object \n",
      " 21  Top Product Name                   265 non-null    object \n",
      " 22  Top Product Total Price            308 non-null    int64  \n",
      " 23  Total Revenue                      308 non-null    int64  \n",
      "dtypes: float64(2), int64(10), object(12)\n",
      "memory usage: 57.9+ KB\n"
     ]
    }
   ],
   "source": [
    "# Information of the dataframe\n",
    "df.info()"
   ]
  },
  {
   "cell_type": "code",
   "execution_count": 16,
   "metadata": {},
   "outputs": [
    {
     "data": {
      "text/plain": [
       "# Won Deals                            int64\n",
       "Account ID                            object\n",
       "Account Name                          object\n",
       "Account Source                        object\n",
       "Account Type                          object\n",
       "Annual Revenue                         int64\n",
       "Average Age                          float64\n",
       "Average Deal Size                      int64\n",
       "Billing Country                       object\n",
       "Billing State/Province                object\n",
       "Created Date                          object\n",
       "Customer Priority                    float64\n",
       "Days Since First Deal Close            int64\n",
       "Days Since Most Recent Deal Close      int64\n",
       "Employees                              int64\n",
       "First Deal Date                       object\n",
       "Industry                              object\n",
       "Number of Locations                    int64\n",
       "Owner ID                              object\n",
       "Product Rank                           int64\n",
       "Top Product Family                    object\n",
       "Top Product Name                      object\n",
       "Top Product Total Price                int64\n",
       "Total Revenue                          int64\n",
       "dtype: object"
      ]
     },
     "execution_count": 16,
     "metadata": {},
     "output_type": "execute_result"
    }
   ],
   "source": [
    "# The whole dtypes\n",
    "df.dtypes"
   ]
  },
  {
   "cell_type": "code",
   "execution_count": 17,
   "metadata": {},
   "outputs": [
    {
     "data": {
      "text/html": [
       "<div>\n",
       "<style scoped>\n",
       "    .dataframe tbody tr th:only-of-type {\n",
       "        vertical-align: middle;\n",
       "    }\n",
       "\n",
       "    .dataframe tbody tr th {\n",
       "        vertical-align: top;\n",
       "    }\n",
       "\n",
       "    .dataframe thead th {\n",
       "        text-align: right;\n",
       "    }\n",
       "</style>\n",
       "<table border=\"1\" class=\"dataframe\">\n",
       "  <thead>\n",
       "    <tr style=\"text-align: right;\">\n",
       "      <th></th>\n",
       "      <th># Won Deals</th>\n",
       "      <th>Annual Revenue</th>\n",
       "      <th>Average Age</th>\n",
       "      <th>Average Deal Size</th>\n",
       "      <th>Customer Priority</th>\n",
       "      <th>Days Since First Deal Close</th>\n",
       "      <th>Days Since Most Recent Deal Close</th>\n",
       "      <th>Employees</th>\n",
       "      <th>Number of Locations</th>\n",
       "      <th>Product Rank</th>\n",
       "      <th>Top Product Total Price</th>\n",
       "      <th>Total Revenue</th>\n",
       "    </tr>\n",
       "  </thead>\n",
       "  <tbody>\n",
       "    <tr>\n",
       "      <th>0</th>\n",
       "      <td>1</td>\n",
       "      <td>1000000</td>\n",
       "      <td>1628.0</td>\n",
       "      <td>1415700</td>\n",
       "      <td>NaN</td>\n",
       "      <td>-1378</td>\n",
       "      <td>-1378</td>\n",
       "      <td>5000</td>\n",
       "      <td>0</td>\n",
       "      <td>1</td>\n",
       "      <td>1415700</td>\n",
       "      <td>1415700</td>\n",
       "    </tr>\n",
       "    <tr>\n",
       "      <th>1</th>\n",
       "      <td>1</td>\n",
       "      <td>1000000</td>\n",
       "      <td>1455.0</td>\n",
       "      <td>1411200</td>\n",
       "      <td>NaN</td>\n",
       "      <td>-1205</td>\n",
       "      <td>-1205</td>\n",
       "      <td>5000</td>\n",
       "      <td>0</td>\n",
       "      <td>1</td>\n",
       "      <td>1411200</td>\n",
       "      <td>1411200</td>\n",
       "    </tr>\n",
       "    <tr>\n",
       "      <th>2</th>\n",
       "      <td>1</td>\n",
       "      <td>1000000</td>\n",
       "      <td>1332.0</td>\n",
       "      <td>3428800</td>\n",
       "      <td>NaN</td>\n",
       "      <td>-1082</td>\n",
       "      <td>-1082</td>\n",
       "      <td>5000</td>\n",
       "      <td>0</td>\n",
       "      <td>1</td>\n",
       "      <td>1726250</td>\n",
       "      <td>3428800</td>\n",
       "    </tr>\n",
       "    <tr>\n",
       "      <th>3</th>\n",
       "      <td>1</td>\n",
       "      <td>1000000</td>\n",
       "      <td>1635.0</td>\n",
       "      <td>1817900</td>\n",
       "      <td>NaN</td>\n",
       "      <td>-1385</td>\n",
       "      <td>-1385</td>\n",
       "      <td>5000</td>\n",
       "      <td>0</td>\n",
       "      <td>1</td>\n",
       "      <td>1307500</td>\n",
       "      <td>1817900</td>\n",
       "    </tr>\n",
       "    <tr>\n",
       "      <th>4</th>\n",
       "      <td>1</td>\n",
       "      <td>1000000</td>\n",
       "      <td>1515.0</td>\n",
       "      <td>3251640</td>\n",
       "      <td>NaN</td>\n",
       "      <td>-1265</td>\n",
       "      <td>-1265</td>\n",
       "      <td>5000</td>\n",
       "      <td>0</td>\n",
       "      <td>1</td>\n",
       "      <td>2430400</td>\n",
       "      <td>3251640</td>\n",
       "    </tr>\n",
       "    <tr>\n",
       "      <th>...</th>\n",
       "      <td>...</td>\n",
       "      <td>...</td>\n",
       "      <td>...</td>\n",
       "      <td>...</td>\n",
       "      <td>...</td>\n",
       "      <td>...</td>\n",
       "      <td>...</td>\n",
       "      <td>...</td>\n",
       "      <td>...</td>\n",
       "      <td>...</td>\n",
       "      <td>...</td>\n",
       "      <td>...</td>\n",
       "    </tr>\n",
       "    <tr>\n",
       "      <th>303</th>\n",
       "      <td>1</td>\n",
       "      <td>2000000</td>\n",
       "      <td>1232.0</td>\n",
       "      <td>89320</td>\n",
       "      <td>NaN</td>\n",
       "      <td>-982</td>\n",
       "      <td>-982</td>\n",
       "      <td>1100</td>\n",
       "      <td>0</td>\n",
       "      <td>1</td>\n",
       "      <td>89320</td>\n",
       "      <td>89320</td>\n",
       "    </tr>\n",
       "    <tr>\n",
       "      <th>304</th>\n",
       "      <td>1</td>\n",
       "      <td>2000000</td>\n",
       "      <td>1364.0</td>\n",
       "      <td>874780</td>\n",
       "      <td>NaN</td>\n",
       "      <td>-1114</td>\n",
       "      <td>-1114</td>\n",
       "      <td>1100</td>\n",
       "      <td>0</td>\n",
       "      <td>1</td>\n",
       "      <td>644500</td>\n",
       "      <td>874780</td>\n",
       "    </tr>\n",
       "    <tr>\n",
       "      <th>305</th>\n",
       "      <td>1</td>\n",
       "      <td>2000000</td>\n",
       "      <td>1290.0</td>\n",
       "      <td>638750</td>\n",
       "      <td>NaN</td>\n",
       "      <td>-1040</td>\n",
       "      <td>-1040</td>\n",
       "      <td>1100</td>\n",
       "      <td>0</td>\n",
       "      <td>1</td>\n",
       "      <td>638750</td>\n",
       "      <td>638750</td>\n",
       "    </tr>\n",
       "    <tr>\n",
       "      <th>306</th>\n",
       "      <td>1</td>\n",
       "      <td>2000000</td>\n",
       "      <td>1483.0</td>\n",
       "      <td>1193160</td>\n",
       "      <td>NaN</td>\n",
       "      <td>-1233</td>\n",
       "      <td>-1233</td>\n",
       "      <td>1100</td>\n",
       "      <td>0</td>\n",
       "      <td>1</td>\n",
       "      <td>1190000</td>\n",
       "      <td>1193160</td>\n",
       "    </tr>\n",
       "    <tr>\n",
       "      <th>307</th>\n",
       "      <td>1</td>\n",
       "      <td>2000000</td>\n",
       "      <td>1399.0</td>\n",
       "      <td>2208300</td>\n",
       "      <td>NaN</td>\n",
       "      <td>-1149</td>\n",
       "      <td>-1149</td>\n",
       "      <td>1100</td>\n",
       "      <td>0</td>\n",
       "      <td>1</td>\n",
       "      <td>1451800</td>\n",
       "      <td>2208300</td>\n",
       "    </tr>\n",
       "  </tbody>\n",
       "</table>\n",
       "<p>308 rows × 12 columns</p>\n",
       "</div>"
      ],
      "text/plain": [
       "     # Won Deals  Annual Revenue  Average Age  Average Deal Size  \\\n",
       "0              1         1000000       1628.0            1415700   \n",
       "1              1         1000000       1455.0            1411200   \n",
       "2              1         1000000       1332.0            3428800   \n",
       "3              1         1000000       1635.0            1817900   \n",
       "4              1         1000000       1515.0            3251640   \n",
       "..           ...             ...          ...                ...   \n",
       "303            1         2000000       1232.0              89320   \n",
       "304            1         2000000       1364.0             874780   \n",
       "305            1         2000000       1290.0             638750   \n",
       "306            1         2000000       1483.0            1193160   \n",
       "307            1         2000000       1399.0            2208300   \n",
       "\n",
       "     Customer Priority  Days Since First Deal Close  \\\n",
       "0                  NaN                        -1378   \n",
       "1                  NaN                        -1205   \n",
       "2                  NaN                        -1082   \n",
       "3                  NaN                        -1385   \n",
       "4                  NaN                        -1265   \n",
       "..                 ...                          ...   \n",
       "303                NaN                         -982   \n",
       "304                NaN                        -1114   \n",
       "305                NaN                        -1040   \n",
       "306                NaN                        -1233   \n",
       "307                NaN                        -1149   \n",
       "\n",
       "     Days Since Most Recent Deal Close  Employees  Number of Locations  \\\n",
       "0                                -1378       5000                    0   \n",
       "1                                -1205       5000                    0   \n",
       "2                                -1082       5000                    0   \n",
       "3                                -1385       5000                    0   \n",
       "4                                -1265       5000                    0   \n",
       "..                                 ...        ...                  ...   \n",
       "303                               -982       1100                    0   \n",
       "304                              -1114       1100                    0   \n",
       "305                              -1040       1100                    0   \n",
       "306                              -1233       1100                    0   \n",
       "307                              -1149       1100                    0   \n",
       "\n",
       "     Product Rank  Top Product Total Price  Total Revenue  \n",
       "0               1                  1415700        1415700  \n",
       "1               1                  1411200        1411200  \n",
       "2               1                  1726250        3428800  \n",
       "3               1                  1307500        1817900  \n",
       "4               1                  2430400        3251640  \n",
       "..            ...                      ...            ...  \n",
       "303             1                    89320          89320  \n",
       "304             1                   644500         874780  \n",
       "305             1                   638750         638750  \n",
       "306             1                  1190000        1193160  \n",
       "307             1                  1451800        2208300  \n",
       "\n",
       "[308 rows x 12 columns]"
      ]
     },
     "execution_count": 17,
     "metadata": {},
     "output_type": "execute_result"
    }
   ],
   "source": [
    "# dtypes that are numeric\n",
    "df.select_dtypes(include=['number'])"
   ]
  },
  {
   "cell_type": "code",
   "execution_count": 18,
   "metadata": {},
   "outputs": [
    {
     "data": {
      "text/html": [
       "<div>\n",
       "<style scoped>\n",
       "    .dataframe tbody tr th:only-of-type {\n",
       "        vertical-align: middle;\n",
       "    }\n",
       "\n",
       "    .dataframe tbody tr th {\n",
       "        vertical-align: top;\n",
       "    }\n",
       "\n",
       "    .dataframe thead th {\n",
       "        text-align: right;\n",
       "    }\n",
       "</style>\n",
       "<table border=\"1\" class=\"dataframe\">\n",
       "  <thead>\n",
       "    <tr style=\"text-align: right;\">\n",
       "      <th></th>\n",
       "      <th>Account ID</th>\n",
       "      <th>Account Name</th>\n",
       "      <th>Account Source</th>\n",
       "      <th>Account Type</th>\n",
       "      <th>Billing Country</th>\n",
       "      <th>Billing State/Province</th>\n",
       "      <th>Created Date</th>\n",
       "      <th>First Deal Date</th>\n",
       "      <th>Industry</th>\n",
       "      <th>Owner ID</th>\n",
       "      <th>Top Product Family</th>\n",
       "      <th>Top Product Name</th>\n",
       "    </tr>\n",
       "  </thead>\n",
       "  <tbody>\n",
       "    <tr>\n",
       "      <th>0</th>\n",
       "      <td>0015e000005ELNLAA4</td>\n",
       "      <td>Morton128 Inc</td>\n",
       "      <td>Web</td>\n",
       "      <td>Customer</td>\n",
       "      <td>Japan</td>\n",
       "      <td>NaN</td>\n",
       "      <td>2019-05-06T17:23:31.000Z</td>\n",
       "      <td>2021-10-20</td>\n",
       "      <td>Transportation</td>\n",
       "      <td>0055e000002OgRdAAK</td>\n",
       "      <td>Laptops</td>\n",
       "      <td>Notebook</td>\n",
       "    </tr>\n",
       "    <tr>\n",
       "      <th>1</th>\n",
       "      <td>0015e000005ELNPAA4</td>\n",
       "      <td>Cobb132 Inc</td>\n",
       "      <td>Employee Referral</td>\n",
       "      <td>Customer</td>\n",
       "      <td>Taiwan</td>\n",
       "      <td>NaN</td>\n",
       "      <td>2019-05-06T17:23:31.000Z</td>\n",
       "      <td>2021-04-30</td>\n",
       "      <td>Apparel</td>\n",
       "      <td>0055e000002OgRmAAK</td>\n",
       "      <td>Laptops</td>\n",
       "      <td>Mega laptop</td>\n",
       "    </tr>\n",
       "    <tr>\n",
       "      <th>2</th>\n",
       "      <td>0015e000005ELNTAA4</td>\n",
       "      <td>Thompson136 Inc</td>\n",
       "      <td>Web</td>\n",
       "      <td>Customer</td>\n",
       "      <td>Thailand</td>\n",
       "      <td>NaN</td>\n",
       "      <td>2019-05-06T17:23:31.000Z</td>\n",
       "      <td>2020-12-28</td>\n",
       "      <td>Energy</td>\n",
       "      <td>0055e000002OgRtAAK</td>\n",
       "      <td>Laptops</td>\n",
       "      <td>Light laptop</td>\n",
       "    </tr>\n",
       "    <tr>\n",
       "      <th>3</th>\n",
       "      <td>0015e000005ELNUAA4</td>\n",
       "      <td>Ramirez137 Inc</td>\n",
       "      <td>Employee Referral</td>\n",
       "      <td>Customer</td>\n",
       "      <td>Japan</td>\n",
       "      <td>NaN</td>\n",
       "      <td>2019-05-06T17:23:31.000Z</td>\n",
       "      <td>2021-10-27</td>\n",
       "      <td>Electronics</td>\n",
       "      <td>0055e000002OgRmAAK</td>\n",
       "      <td>Laptops</td>\n",
       "      <td>Light laptop</td>\n",
       "    </tr>\n",
       "    <tr>\n",
       "      <th>4</th>\n",
       "      <td>0015e000005ELNbAAO</td>\n",
       "      <td>Quinn144 Inc</td>\n",
       "      <td>Employee Referral</td>\n",
       "      <td>Customer</td>\n",
       "      <td>Brazil</td>\n",
       "      <td>NaN</td>\n",
       "      <td>2019-05-06T17:23:31.000Z</td>\n",
       "      <td>2021-06-29</td>\n",
       "      <td>Engineering</td>\n",
       "      <td>0055e000002OgRtAAK</td>\n",
       "      <td>Laptops</td>\n",
       "      <td>Mega laptop</td>\n",
       "    </tr>\n",
       "    <tr>\n",
       "      <th>...</th>\n",
       "      <td>...</td>\n",
       "      <td>...</td>\n",
       "      <td>...</td>\n",
       "      <td>...</td>\n",
       "      <td>...</td>\n",
       "      <td>...</td>\n",
       "      <td>...</td>\n",
       "      <td>...</td>\n",
       "      <td>...</td>\n",
       "      <td>...</td>\n",
       "      <td>...</td>\n",
       "      <td>...</td>\n",
       "    </tr>\n",
       "    <tr>\n",
       "      <th>303</th>\n",
       "      <td>0015e000005ELd3AAG</td>\n",
       "      <td>Collins928 Inc</td>\n",
       "      <td>Advertisement</td>\n",
       "      <td>Customer</td>\n",
       "      <td>Singapore</td>\n",
       "      <td>NaN</td>\n",
       "      <td>2019-05-06T17:23:31.000Z</td>\n",
       "      <td>2020-09-19</td>\n",
       "      <td>Apparel</td>\n",
       "      <td>0055e000002OgRnAAK</td>\n",
       "      <td>Accessories</td>\n",
       "      <td>Cables</td>\n",
       "    </tr>\n",
       "    <tr>\n",
       "      <th>304</th>\n",
       "      <td>0015e000005ELd9AAG</td>\n",
       "      <td>Brewer934 Inc</td>\n",
       "      <td>Partner</td>\n",
       "      <td>Customer</td>\n",
       "      <td>Brazil</td>\n",
       "      <td>NaN</td>\n",
       "      <td>2019-05-06T17:23:31.000Z</td>\n",
       "      <td>2021-01-29</td>\n",
       "      <td>Insurance</td>\n",
       "      <td>0055e000002OgReAAK</td>\n",
       "      <td>Phones</td>\n",
       "      <td>Space phone 3</td>\n",
       "    </tr>\n",
       "    <tr>\n",
       "      <th>305</th>\n",
       "      <td>0015e000005ELdBAAW</td>\n",
       "      <td>Mendoza936 Inc</td>\n",
       "      <td>Trade Show</td>\n",
       "      <td>Customer</td>\n",
       "      <td>China</td>\n",
       "      <td>NaN</td>\n",
       "      <td>2019-05-06T17:23:31.000Z</td>\n",
       "      <td>2020-11-16</td>\n",
       "      <td>Telecommunications</td>\n",
       "      <td>0055e000002OgRdAAK</td>\n",
       "      <td>Laptops</td>\n",
       "      <td>Light laptop</td>\n",
       "    </tr>\n",
       "    <tr>\n",
       "      <th>306</th>\n",
       "      <td>0015e000005ELdCAAW</td>\n",
       "      <td>Glover937 Inc</td>\n",
       "      <td>Employee Referral</td>\n",
       "      <td>Customer</td>\n",
       "      <td>USA</td>\n",
       "      <td>AZ</td>\n",
       "      <td>2019-05-06T17:23:31.000Z</td>\n",
       "      <td>2021-05-28</td>\n",
       "      <td>Agriculture</td>\n",
       "      <td>0055e000002OgRhAAK</td>\n",
       "      <td>Laptops</td>\n",
       "      <td>Pro laptop</td>\n",
       "    </tr>\n",
       "    <tr>\n",
       "      <th>307</th>\n",
       "      <td>0015e000005ELdJAAW</td>\n",
       "      <td>Holloway944 Inc</td>\n",
       "      <td>Web</td>\n",
       "      <td>Customer</td>\n",
       "      <td>Singapore</td>\n",
       "      <td>NaN</td>\n",
       "      <td>2019-05-06T17:23:31.000Z</td>\n",
       "      <td>2021-03-05</td>\n",
       "      <td>Insurance</td>\n",
       "      <td>0055e000002OgRlAAK</td>\n",
       "      <td>Laptops</td>\n",
       "      <td>Pro laptop</td>\n",
       "    </tr>\n",
       "  </tbody>\n",
       "</table>\n",
       "<p>308 rows × 12 columns</p>\n",
       "</div>"
      ],
      "text/plain": [
       "             Account ID     Account Name     Account Source Account Type  \\\n",
       "0    0015e000005ELNLAA4    Morton128 Inc                Web     Customer   \n",
       "1    0015e000005ELNPAA4      Cobb132 Inc  Employee Referral     Customer   \n",
       "2    0015e000005ELNTAA4  Thompson136 Inc                Web     Customer   \n",
       "3    0015e000005ELNUAA4   Ramirez137 Inc  Employee Referral     Customer   \n",
       "4    0015e000005ELNbAAO     Quinn144 Inc  Employee Referral     Customer   \n",
       "..                  ...              ...                ...          ...   \n",
       "303  0015e000005ELd3AAG   Collins928 Inc      Advertisement     Customer   \n",
       "304  0015e000005ELd9AAG    Brewer934 Inc            Partner     Customer   \n",
       "305  0015e000005ELdBAAW   Mendoza936 Inc         Trade Show     Customer   \n",
       "306  0015e000005ELdCAAW    Glover937 Inc  Employee Referral     Customer   \n",
       "307  0015e000005ELdJAAW  Holloway944 Inc                Web     Customer   \n",
       "\n",
       "    Billing Country Billing State/Province              Created Date  \\\n",
       "0             Japan                    NaN  2019-05-06T17:23:31.000Z   \n",
       "1            Taiwan                    NaN  2019-05-06T17:23:31.000Z   \n",
       "2          Thailand                    NaN  2019-05-06T17:23:31.000Z   \n",
       "3             Japan                    NaN  2019-05-06T17:23:31.000Z   \n",
       "4            Brazil                    NaN  2019-05-06T17:23:31.000Z   \n",
       "..              ...                    ...                       ...   \n",
       "303       Singapore                    NaN  2019-05-06T17:23:31.000Z   \n",
       "304          Brazil                    NaN  2019-05-06T17:23:31.000Z   \n",
       "305           China                    NaN  2019-05-06T17:23:31.000Z   \n",
       "306             USA                     AZ  2019-05-06T17:23:31.000Z   \n",
       "307       Singapore                    NaN  2019-05-06T17:23:31.000Z   \n",
       "\n",
       "    First Deal Date            Industry            Owner ID  \\\n",
       "0        2021-10-20      Transportation  0055e000002OgRdAAK   \n",
       "1        2021-04-30             Apparel  0055e000002OgRmAAK   \n",
       "2        2020-12-28              Energy  0055e000002OgRtAAK   \n",
       "3        2021-10-27         Electronics  0055e000002OgRmAAK   \n",
       "4        2021-06-29         Engineering  0055e000002OgRtAAK   \n",
       "..              ...                 ...                 ...   \n",
       "303      2020-09-19             Apparel  0055e000002OgRnAAK   \n",
       "304      2021-01-29           Insurance  0055e000002OgReAAK   \n",
       "305      2020-11-16  Telecommunications  0055e000002OgRdAAK   \n",
       "306      2021-05-28         Agriculture  0055e000002OgRhAAK   \n",
       "307      2021-03-05           Insurance  0055e000002OgRlAAK   \n",
       "\n",
       "    Top Product Family Top Product Name  \n",
       "0              Laptops         Notebook  \n",
       "1              Laptops      Mega laptop  \n",
       "2              Laptops     Light laptop  \n",
       "3              Laptops     Light laptop  \n",
       "4              Laptops      Mega laptop  \n",
       "..                 ...              ...  \n",
       "303        Accessories           Cables  \n",
       "304             Phones    Space phone 3  \n",
       "305            Laptops     Light laptop  \n",
       "306            Laptops       Pro laptop  \n",
       "307            Laptops       Pro laptop  \n",
       "\n",
       "[308 rows x 12 columns]"
      ]
     },
     "execution_count": 18,
     "metadata": {},
     "output_type": "execute_result"
    }
   ],
   "source": [
    "# dtypes that are 'objects'\n",
    "df.select_dtypes(include=['object'])"
   ]
  },
  {
   "cell_type": "code",
   "execution_count": 19,
   "metadata": {},
   "outputs": [
    {
     "data": {
      "text/html": [
       "<div>\n",
       "<style scoped>\n",
       "    .dataframe tbody tr th:only-of-type {\n",
       "        vertical-align: middle;\n",
       "    }\n",
       "\n",
       "    .dataframe tbody tr th {\n",
       "        vertical-align: top;\n",
       "    }\n",
       "\n",
       "    .dataframe thead th {\n",
       "        text-align: right;\n",
       "    }\n",
       "</style>\n",
       "<table border=\"1\" class=\"dataframe\">\n",
       "  <thead>\n",
       "    <tr style=\"text-align: right;\">\n",
       "      <th></th>\n",
       "      <th>count</th>\n",
       "      <th>mean</th>\n",
       "      <th>std</th>\n",
       "      <th>min</th>\n",
       "      <th>25%</th>\n",
       "      <th>50%</th>\n",
       "      <th>75%</th>\n",
       "      <th>max</th>\n",
       "    </tr>\n",
       "  </thead>\n",
       "  <tbody>\n",
       "    <tr>\n",
       "      <th># Won Deals</th>\n",
       "      <td>308.0</td>\n",
       "      <td>1.26623e+00</td>\n",
       "      <td>5.17350e-01</td>\n",
       "      <td>1.0</td>\n",
       "      <td>1.00</td>\n",
       "      <td>1.0</td>\n",
       "      <td>1.00000e+00</td>\n",
       "      <td>3.00000e+00</td>\n",
       "    </tr>\n",
       "    <tr>\n",
       "      <th>Annual Revenue</th>\n",
       "      <td>308.0</td>\n",
       "      <td>1.55656e+08</td>\n",
       "      <td>2.90221e+08</td>\n",
       "      <td>500000.0</td>\n",
       "      <td>1000000.00</td>\n",
       "      <td>2000000.0</td>\n",
       "      <td>2.00000e+06</td>\n",
       "      <td>7.00000e+08</td>\n",
       "    </tr>\n",
       "    <tr>\n",
       "      <th>Average Age</th>\n",
       "      <td>308.0</td>\n",
       "      <td>1.46414e+03</td>\n",
       "      <td>1.09730e+02</td>\n",
       "      <td>1205.0</td>\n",
       "      <td>1390.50</td>\n",
       "      <td>1472.0</td>\n",
       "      <td>1.55362e+03</td>\n",
       "      <td>1.64300e+03</td>\n",
       "    </tr>\n",
       "    <tr>\n",
       "      <th>Average Deal Size</th>\n",
       "      <td>308.0</td>\n",
       "      <td>1.04467e+06</td>\n",
       "      <td>1.10888e+06</td>\n",
       "      <td>5280.0</td>\n",
       "      <td>211139.50</td>\n",
       "      <td>661268.5</td>\n",
       "      <td>1.44190e+06</td>\n",
       "      <td>7.74719e+06</td>\n",
       "    </tr>\n",
       "    <tr>\n",
       "      <th>Customer Priority</th>\n",
       "      <td>0.0</td>\n",
       "      <td>NaN</td>\n",
       "      <td>NaN</td>\n",
       "      <td>NaN</td>\n",
       "      <td>NaN</td>\n",
       "      <td>NaN</td>\n",
       "      <td>NaN</td>\n",
       "      <td>NaN</td>\n",
       "    </tr>\n",
       "    <tr>\n",
       "      <th>Days Since First Deal Close</th>\n",
       "      <td>308.0</td>\n",
       "      <td>-1.19531e+03</td>\n",
       "      <td>1.22888e+02</td>\n",
       "      <td>-1393.0</td>\n",
       "      <td>-1297.25</td>\n",
       "      <td>-1206.5</td>\n",
       "      <td>-1.08275e+03</td>\n",
       "      <td>-9.46000e+02</td>\n",
       "    </tr>\n",
       "    <tr>\n",
       "      <th>Days Since Most Recent Deal Close</th>\n",
       "      <td>308.0</td>\n",
       "      <td>-1.23303e+03</td>\n",
       "      <td>1.14349e+02</td>\n",
       "      <td>-1395.0</td>\n",
       "      <td>-1329.00</td>\n",
       "      <td>-1250.0</td>\n",
       "      <td>-1.16825e+03</td>\n",
       "      <td>-9.55000e+02</td>\n",
       "    </tr>\n",
       "    <tr>\n",
       "      <th>Employees</th>\n",
       "      <td>308.0</td>\n",
       "      <td>4.88864e+03</td>\n",
       "      <td>3.64844e+03</td>\n",
       "      <td>400.0</td>\n",
       "      <td>1000.00</td>\n",
       "      <td>4000.0</td>\n",
       "      <td>8.00000e+03</td>\n",
       "      <td>1.00000e+04</td>\n",
       "    </tr>\n",
       "    <tr>\n",
       "      <th>Number of Locations</th>\n",
       "      <td>308.0</td>\n",
       "      <td>0.00000e+00</td>\n",
       "      <td>0.00000e+00</td>\n",
       "      <td>0.0</td>\n",
       "      <td>0.00</td>\n",
       "      <td>0.0</td>\n",
       "      <td>0.00000e+00</td>\n",
       "      <td>0.00000e+00</td>\n",
       "    </tr>\n",
       "    <tr>\n",
       "      <th>Product Rank</th>\n",
       "      <td>308.0</td>\n",
       "      <td>8.60390e-01</td>\n",
       "      <td>3.47146e-01</td>\n",
       "      <td>0.0</td>\n",
       "      <td>1.00</td>\n",
       "      <td>1.0</td>\n",
       "      <td>1.00000e+00</td>\n",
       "      <td>1.00000e+00</td>\n",
       "    </tr>\n",
       "    <tr>\n",
       "      <th>Top Product Total Price</th>\n",
       "      <td>308.0</td>\n",
       "      <td>8.73589e+05</td>\n",
       "      <td>9.13284e+05</td>\n",
       "      <td>0.0</td>\n",
       "      <td>87960.00</td>\n",
       "      <td>650500.0</td>\n",
       "      <td>1.42218e+06</td>\n",
       "      <td>4.19125e+06</td>\n",
       "    </tr>\n",
       "    <tr>\n",
       "      <th>Total Revenue</th>\n",
       "      <td>308.0</td>\n",
       "      <td>1.35924e+06</td>\n",
       "      <td>1.49242e+06</td>\n",
       "      <td>5280.0</td>\n",
       "      <td>230257.50</td>\n",
       "      <td>788017.5</td>\n",
       "      <td>2.16957e+06</td>\n",
       "      <td>7.74719e+06</td>\n",
       "    </tr>\n",
       "  </tbody>\n",
       "</table>\n",
       "</div>"
      ],
      "text/plain": [
       "                                   count         mean          std       min  \\\n",
       "# Won Deals                        308.0  1.26623e+00  5.17350e-01       1.0   \n",
       "Annual Revenue                     308.0  1.55656e+08  2.90221e+08  500000.0   \n",
       "Average Age                        308.0  1.46414e+03  1.09730e+02    1205.0   \n",
       "Average Deal Size                  308.0  1.04467e+06  1.10888e+06    5280.0   \n",
       "Customer Priority                    0.0          NaN          NaN       NaN   \n",
       "Days Since First Deal Close        308.0 -1.19531e+03  1.22888e+02   -1393.0   \n",
       "Days Since Most Recent Deal Close  308.0 -1.23303e+03  1.14349e+02   -1395.0   \n",
       "Employees                          308.0  4.88864e+03  3.64844e+03     400.0   \n",
       "Number of Locations                308.0  0.00000e+00  0.00000e+00       0.0   \n",
       "Product Rank                       308.0  8.60390e-01  3.47146e-01       0.0   \n",
       "Top Product Total Price            308.0  8.73589e+05  9.13284e+05       0.0   \n",
       "Total Revenue                      308.0  1.35924e+06  1.49242e+06    5280.0   \n",
       "\n",
       "                                          25%        50%          75%  \\\n",
       "# Won Deals                              1.00        1.0  1.00000e+00   \n",
       "Annual Revenue                     1000000.00  2000000.0  2.00000e+06   \n",
       "Average Age                           1390.50     1472.0  1.55362e+03   \n",
       "Average Deal Size                   211139.50   661268.5  1.44190e+06   \n",
       "Customer Priority                         NaN        NaN          NaN   \n",
       "Days Since First Deal Close          -1297.25    -1206.5 -1.08275e+03   \n",
       "Days Since Most Recent Deal Close    -1329.00    -1250.0 -1.16825e+03   \n",
       "Employees                             1000.00     4000.0  8.00000e+03   \n",
       "Number of Locations                      0.00        0.0  0.00000e+00   \n",
       "Product Rank                             1.00        1.0  1.00000e+00   \n",
       "Top Product Total Price              87960.00   650500.0  1.42218e+06   \n",
       "Total Revenue                       230257.50   788017.5  2.16957e+06   \n",
       "\n",
       "                                           max  \n",
       "# Won Deals                        3.00000e+00  \n",
       "Annual Revenue                     7.00000e+08  \n",
       "Average Age                        1.64300e+03  \n",
       "Average Deal Size                  7.74719e+06  \n",
       "Customer Priority                          NaN  \n",
       "Days Since First Deal Close       -9.46000e+02  \n",
       "Days Since Most Recent Deal Close -9.55000e+02  \n",
       "Employees                          1.00000e+04  \n",
       "Number of Locations                0.00000e+00  \n",
       "Product Rank                       1.00000e+00  \n",
       "Top Product Total Price            4.19125e+06  \n",
       "Total Revenue                      7.74719e+06  "
      ]
     },
     "execution_count": 19,
     "metadata": {},
     "output_type": "execute_result"
    }
   ],
   "source": [
    "# Descriptive Statistics\n",
    "df.describe().T "
   ]
  },
  {
   "cell_type": "code",
   "execution_count": 20,
   "metadata": {},
   "outputs": [
    {
     "data": {
      "text/plain": [
       "count    3.08000e+02\n",
       "mean     1.35924e+06\n",
       "std      1.49242e+06\n",
       "min      5.28000e+03\n",
       "25%      2.30258e+05\n",
       "50%      7.88018e+05\n",
       "75%      2.16957e+06\n",
       "max      7.74719e+06\n",
       "Name: Total Revenue, dtype: float64"
      ]
     },
     "execution_count": 20,
     "metadata": {},
     "output_type": "execute_result"
    }
   ],
   "source": [
    "df['Total Revenue'].describe()"
   ]
  },
  {
   "cell_type": "markdown",
   "metadata": {},
   "source": [
    "The distance from the min to the 25th percentile has a huge difference, which is larger than the 75th percentile vs max. The data might not be normally distributed, but will be checked for normality using log transformation later on."
   ]
  },
  {
   "cell_type": "code",
   "execution_count": 21,
   "metadata": {},
   "outputs": [
    {
     "data": {
      "text/plain": [
       "# Won Deals                          0.00000\n",
       "Account ID                           0.00000\n",
       "Account Name                         0.00000\n",
       "Account Source                       0.00000\n",
       "Account Type                         0.00000\n",
       "Annual Revenue                       0.00000\n",
       "Average Age                          0.00000\n",
       "Average Deal Size                    0.00000\n",
       "Billing Country                      0.00000\n",
       "Billing State/Province               0.57792\n",
       "Created Date                         0.00000\n",
       "Customer Priority                    1.00000\n",
       "Days Since First Deal Close          0.00000\n",
       "Days Since Most Recent Deal Close    0.00000\n",
       "Employees                            0.00000\n",
       "First Deal Date                      0.00000\n",
       "Industry                             0.00000\n",
       "Number of Locations                  0.00000\n",
       "Owner ID                             0.00000\n",
       "Product Rank                         0.00000\n",
       "Top Product Family                   0.13961\n",
       "Top Product Name                     0.13961\n",
       "Top Product Total Price              0.00000\n",
       "Total Revenue                        0.00000\n",
       "dtype: float64"
      ]
     },
     "execution_count": 21,
     "metadata": {},
     "output_type": "execute_result"
    }
   ],
   "source": [
    "# Percentage of NaN values in the dataset\n",
    "df.isnull().sum()/len(df)"
   ]
  },
  {
   "cell_type": "code",
   "execution_count": 22,
   "metadata": {},
   "outputs": [
    {
     "data": {
      "text/plain": [
       "0"
      ]
     },
     "execution_count": 22,
     "metadata": {},
     "output_type": "execute_result"
    }
   ],
   "source": [
    "# We have 0 duplicates in our dataframe\n",
    "df.duplicated().sum()"
   ]
  },
  {
   "cell_type": "code",
   "execution_count": 23,
   "metadata": {},
   "outputs": [
    {
     "data": {
      "text/plain": [
       "array([[<AxesSubplot:title={'center':'# Won Deals'}>,\n",
       "        <AxesSubplot:title={'center':'Annual Revenue'}>,\n",
       "        <AxesSubplot:title={'center':'Average Age'}>],\n",
       "       [<AxesSubplot:title={'center':'Average Deal Size'}>,\n",
       "        <AxesSubplot:title={'center':'Customer Priority'}>,\n",
       "        <AxesSubplot:title={'center':'Days Since First Deal Close'}>],\n",
       "       [<AxesSubplot:title={'center':'Days Since Most Recent Deal Close'}>,\n",
       "        <AxesSubplot:title={'center':'Employees'}>,\n",
       "        <AxesSubplot:title={'center':'Number of Locations'}>],\n",
       "       [<AxesSubplot:title={'center':'Product Rank'}>,\n",
       "        <AxesSubplot:title={'center':'Top Product Total Price'}>,\n",
       "        <AxesSubplot:title={'center':'Total Revenue'}>]], dtype=object)"
      ]
     },
     "execution_count": 23,
     "metadata": {},
     "output_type": "execute_result"
    },
    {
     "data": {
      "image/png": "[encoded data removed]",
      "text/plain": [
       "<Figure size 2000x1200 with 12 Axes>"
      ]
     },
     "metadata": {},
     "output_type": "display_data"
    }
   ],
   "source": [
    "df.hist(bins=50, figsize=(20,12))"
   ]
  },
  {
   "cell_type": "markdown",
   "metadata": {},
   "source": [
    "### 2. *Data Preparation*"
   ]
  },
  {
   "cell_type": "markdown",
   "metadata": {},
   "source": [
    "We're looking for \"Total Revenue\" as our predicted output, so we use the seaborn visualization for correlation"
   ]
  },
  {
   "cell_type": "code",
   "execution_count": 24,
   "metadata": {},
   "outputs": [
    {
     "data": {
      "text/plain": [
       "Total Revenue                        1.00000\n",
       "Top Product Total Price              0.88648\n",
       "Average Deal Size                    0.87630\n",
       "# Won Deals                          0.44836\n",
       "Product Rank                         0.29716\n",
       "Days Since First Deal Close          0.15834\n",
       "Employees                            0.10058\n",
       "Annual Revenue                       0.05735\n",
       "Average Age                         -0.03167\n",
       "Days Since Most Recent Deal Close   -0.11360\n",
       "Customer Priority                        NaN\n",
       "Number of Locations                      NaN\n",
       "Name: Total Revenue, dtype: float64"
      ]
     },
     "execution_count": 24,
     "metadata": {},
     "output_type": "execute_result"
    }
   ],
   "source": [
    "# Pearson Coefficient of the correlation of the 'Total Revenue'\n",
    "df.corr()['Total Revenue'].sort_values(ascending=False)"
   ]
  },
  {
   "cell_type": "code",
   "execution_count": 25,
   "metadata": {},
   "outputs": [
    {
     "data": {
      "text/html": [
       "<div>\n",
       "<style scoped>\n",
       "    .dataframe tbody tr th:only-of-type {\n",
       "        vertical-align: middle;\n",
       "    }\n",
       "\n",
       "    .dataframe tbody tr th {\n",
       "        vertical-align: top;\n",
       "    }\n",
       "\n",
       "    .dataframe thead th {\n",
       "        text-align: right;\n",
       "    }\n",
       "</style>\n",
       "<table border=\"1\" class=\"dataframe\">\n",
       "  <thead>\n",
       "    <tr style=\"text-align: right;\">\n",
       "      <th></th>\n",
       "      <th># Won Deals</th>\n",
       "      <th>Account ID</th>\n",
       "      <th>Account Name</th>\n",
       "      <th>Account Source</th>\n",
       "      <th>Account Type</th>\n",
       "      <th>Annual Revenue</th>\n",
       "      <th>Average Age</th>\n",
       "      <th>Average Deal Size</th>\n",
       "      <th>Billing Country</th>\n",
       "      <th>Billing State/Province</th>\n",
       "      <th>Created Date</th>\n",
       "      <th>Customer Priority</th>\n",
       "      <th>Days Since First Deal Close</th>\n",
       "      <th>Days Since Most Recent Deal Close</th>\n",
       "      <th>Employees</th>\n",
       "      <th>First Deal Date</th>\n",
       "      <th>Industry</th>\n",
       "      <th>Number of Locations</th>\n",
       "      <th>Owner ID</th>\n",
       "      <th>Product Rank</th>\n",
       "      <th>Top Product Family</th>\n",
       "      <th>Top Product Name</th>\n",
       "      <th>Top Product Total Price</th>\n",
       "      <th>Total Revenue</th>\n",
       "    </tr>\n",
       "  </thead>\n",
       "  <tbody>\n",
       "    <tr>\n",
       "      <th>0</th>\n",
       "      <td>1</td>\n",
       "      <td>0015e000005ELNLAA4</td>\n",
       "      <td>Morton128 Inc</td>\n",
       "      <td>Web</td>\n",
       "      <td>Customer</td>\n",
       "      <td>1000000</td>\n",
       "      <td>1628.0</td>\n",
       "      <td>1415700</td>\n",
       "      <td>Japan</td>\n",
       "      <td>NaN</td>\n",
       "      <td>2019-05-06T17:23:31.000Z</td>\n",
       "      <td>NaN</td>\n",
       "      <td>-1378</td>\n",
       "      <td>-1378</td>\n",
       "      <td>5000</td>\n",
       "      <td>2021-10-20</td>\n",
       "      <td>Transportation</td>\n",
       "      <td>0</td>\n",
       "      <td>0055e000002OgRdAAK</td>\n",
       "      <td>1</td>\n",
       "      <td>Laptops</td>\n",
       "      <td>Notebook</td>\n",
       "      <td>1415700</td>\n",
       "      <td>1415700</td>\n",
       "    </tr>\n",
       "    <tr>\n",
       "      <th>1</th>\n",
       "      <td>1</td>\n",
       "      <td>0015e000005ELNPAA4</td>\n",
       "      <td>Cobb132 Inc</td>\n",
       "      <td>Employee Referral</td>\n",
       "      <td>Customer</td>\n",
       "      <td>1000000</td>\n",
       "      <td>1455.0</td>\n",
       "      <td>1411200</td>\n",
       "      <td>Taiwan</td>\n",
       "      <td>NaN</td>\n",
       "      <td>2019-05-06T17:23:31.000Z</td>\n",
       "      <td>NaN</td>\n",
       "      <td>-1205</td>\n",
       "      <td>-1205</td>\n",
       "      <td>5000</td>\n",
       "      <td>2021-04-30</td>\n",
       "      <td>Apparel</td>\n",
       "      <td>0</td>\n",
       "      <td>0055e000002OgRmAAK</td>\n",
       "      <td>1</td>\n",
       "      <td>Laptops</td>\n",
       "      <td>Mega laptop</td>\n",
       "      <td>1411200</td>\n",
       "      <td>1411200</td>\n",
       "    </tr>\n",
       "  </tbody>\n",
       "</table>\n",
       "</div>"
      ],
      "text/plain": [
       "   # Won Deals          Account ID   Account Name     Account Source  \\\n",
       "0            1  0015e000005ELNLAA4  Morton128 Inc                Web   \n",
       "1            1  0015e000005ELNPAA4    Cobb132 Inc  Employee Referral   \n",
       "\n",
       "  Account Type  Annual Revenue  Average Age  Average Deal Size  \\\n",
       "0     Customer         1000000       1628.0            1415700   \n",
       "1     Customer         1000000       1455.0            1411200   \n",
       "\n",
       "  Billing Country Billing State/Province              Created Date  \\\n",
       "0           Japan                    NaN  2019-05-06T17:23:31.000Z   \n",
       "1          Taiwan                    NaN  2019-05-06T17:23:31.000Z   \n",
       "\n",
       "   Customer Priority  Days Since First Deal Close  \\\n",
       "0                NaN                        -1378   \n",
       "1                NaN                        -1205   \n",
       "\n",
       "   Days Since Most Recent Deal Close  Employees First Deal Date  \\\n",
       "0                              -1378       5000      2021-10-20   \n",
       "1                              -1205       5000      2021-04-30   \n",
       "\n",
       "         Industry  Number of Locations            Owner ID  Product Rank  \\\n",
       "0  Transportation                    0  0055e000002OgRdAAK             1   \n",
       "1         Apparel                    0  0055e000002OgRmAAK             1   \n",
       "\n",
       "  Top Product Family Top Product Name  Top Product Total Price  Total Revenue  \n",
       "0            Laptops         Notebook                  1415700        1415700  \n",
       "1            Laptops      Mega laptop                  1411200        1411200  "
      ]
     },
     "execution_count": 25,
     "metadata": {},
     "output_type": "execute_result"
    }
   ],
   "source": [
    "df.head(2)"
   ]
  },
  {
   "cell_type": "markdown",
   "metadata": {},
   "source": [
    "Filtering out what features seems relevant "
   ]
  },
  {
   "cell_type": "code",
   "execution_count": 26,
   "metadata": {},
   "outputs": [],
   "source": [
    "df1 = df[['# Won Deals', \n",
    "    # 'Account ID', 'Account Name',\n",
    "    'Account Source',\n",
    "    'Account Type', 'Annual Revenue', 'Average Age', 'Average Deal Size',\n",
    "    'Billing Country', \n",
    "   'Billing State/Province', \n",
    "    # 'Created Date',\n",
    "    'Customer Priority', \n",
    "    'Days Since First Deal Close', 'Days Since Most Recent Deal Close', \n",
    "    'Employees', \n",
    "    'First Deal Date', 'Industry', \n",
    "    'Number of Locations',\n",
    "    'Owner ID',\n",
    "    'Product Rank',\n",
    "    'Top Product Family', \n",
    "    'Top Product Name', \n",
    "    'Top Product Total Price',\n",
    "    'Total Revenue']]"
   ]
  },
  {
   "cell_type": "code",
   "execution_count": 27,
   "metadata": {},
   "outputs": [
    {
     "data": {
      "text/html": [
       "<div>\n",
       "<style scoped>\n",
       "    .dataframe tbody tr th:only-of-type {\n",
       "        vertical-align: middle;\n",
       "    }\n",
       "\n",
       "    .dataframe tbody tr th {\n",
       "        vertical-align: top;\n",
       "    }\n",
       "\n",
       "    .dataframe thead th {\n",
       "        text-align: right;\n",
       "    }\n",
       "</style>\n",
       "<table border=\"1\" class=\"dataframe\">\n",
       "  <thead>\n",
       "    <tr style=\"text-align: right;\">\n",
       "      <th></th>\n",
       "      <th># Won Deals</th>\n",
       "      <th>Account Source</th>\n",
       "      <th>Account Type</th>\n",
       "      <th>Annual Revenue</th>\n",
       "      <th>Average Age</th>\n",
       "      <th>Average Deal Size</th>\n",
       "      <th>Billing Country</th>\n",
       "      <th>Billing State/Province</th>\n",
       "      <th>Customer Priority</th>\n",
       "      <th>Days Since First Deal Close</th>\n",
       "      <th>Days Since Most Recent Deal Close</th>\n",
       "      <th>Employees</th>\n",
       "      <th>First Deal Date</th>\n",
       "      <th>Industry</th>\n",
       "      <th>Number of Locations</th>\n",
       "      <th>Owner ID</th>\n",
       "      <th>Product Rank</th>\n",
       "      <th>Top Product Family</th>\n",
       "      <th>Top Product Name</th>\n",
       "      <th>Top Product Total Price</th>\n",
       "      <th>Total Revenue</th>\n",
       "    </tr>\n",
       "  </thead>\n",
       "  <tbody>\n",
       "    <tr>\n",
       "      <th>0</th>\n",
       "      <td>1</td>\n",
       "      <td>Web</td>\n",
       "      <td>Customer</td>\n",
       "      <td>1000000</td>\n",
       "      <td>1628.0</td>\n",
       "      <td>1415700</td>\n",
       "      <td>Japan</td>\n",
       "      <td>NaN</td>\n",
       "      <td>NaN</td>\n",
       "      <td>-1378</td>\n",
       "      <td>-1378</td>\n",
       "      <td>5000</td>\n",
       "      <td>2021-10-20</td>\n",
       "      <td>Transportation</td>\n",
       "      <td>0</td>\n",
       "      <td>0055e000002OgRdAAK</td>\n",
       "      <td>1</td>\n",
       "      <td>Laptops</td>\n",
       "      <td>Notebook</td>\n",
       "      <td>1415700</td>\n",
       "      <td>1415700</td>\n",
       "    </tr>\n",
       "    <tr>\n",
       "      <th>1</th>\n",
       "      <td>1</td>\n",
       "      <td>Employee Referral</td>\n",
       "      <td>Customer</td>\n",
       "      <td>1000000</td>\n",
       "      <td>1455.0</td>\n",
       "      <td>1411200</td>\n",
       "      <td>Taiwan</td>\n",
       "      <td>NaN</td>\n",
       "      <td>NaN</td>\n",
       "      <td>-1205</td>\n",
       "      <td>-1205</td>\n",
       "      <td>5000</td>\n",
       "      <td>2021-04-30</td>\n",
       "      <td>Apparel</td>\n",
       "      <td>0</td>\n",
       "      <td>0055e000002OgRmAAK</td>\n",
       "      <td>1</td>\n",
       "      <td>Laptops</td>\n",
       "      <td>Mega laptop</td>\n",
       "      <td>1411200</td>\n",
       "      <td>1411200</td>\n",
       "    </tr>\n",
       "    <tr>\n",
       "      <th>2</th>\n",
       "      <td>1</td>\n",
       "      <td>Web</td>\n",
       "      <td>Customer</td>\n",
       "      <td>1000000</td>\n",
       "      <td>1332.0</td>\n",
       "      <td>3428800</td>\n",
       "      <td>Thailand</td>\n",
       "      <td>NaN</td>\n",
       "      <td>NaN</td>\n",
       "      <td>-1082</td>\n",
       "      <td>-1082</td>\n",
       "      <td>5000</td>\n",
       "      <td>2020-12-28</td>\n",
       "      <td>Energy</td>\n",
       "      <td>0</td>\n",
       "      <td>0055e000002OgRtAAK</td>\n",
       "      <td>1</td>\n",
       "      <td>Laptops</td>\n",
       "      <td>Light laptop</td>\n",
       "      <td>1726250</td>\n",
       "      <td>3428800</td>\n",
       "    </tr>\n",
       "    <tr>\n",
       "      <th>3</th>\n",
       "      <td>1</td>\n",
       "      <td>Employee Referral</td>\n",
       "      <td>Customer</td>\n",
       "      <td>1000000</td>\n",
       "      <td>1635.0</td>\n",
       "      <td>1817900</td>\n",
       "      <td>Japan</td>\n",
       "      <td>NaN</td>\n",
       "      <td>NaN</td>\n",
       "      <td>-1385</td>\n",
       "      <td>-1385</td>\n",
       "      <td>5000</td>\n",
       "      <td>2021-10-27</td>\n",
       "      <td>Electronics</td>\n",
       "      <td>0</td>\n",
       "      <td>0055e000002OgRmAAK</td>\n",
       "      <td>1</td>\n",
       "      <td>Laptops</td>\n",
       "      <td>Light laptop</td>\n",
       "      <td>1307500</td>\n",
       "      <td>1817900</td>\n",
       "    </tr>\n",
       "    <tr>\n",
       "      <th>4</th>\n",
       "      <td>1</td>\n",
       "      <td>Employee Referral</td>\n",
       "      <td>Customer</td>\n",
       "      <td>1000000</td>\n",
       "      <td>1515.0</td>\n",
       "      <td>3251640</td>\n",
       "      <td>Brazil</td>\n",
       "      <td>NaN</td>\n",
       "      <td>NaN</td>\n",
       "      <td>-1265</td>\n",
       "      <td>-1265</td>\n",
       "      <td>5000</td>\n",
       "      <td>2021-06-29</td>\n",
       "      <td>Engineering</td>\n",
       "      <td>0</td>\n",
       "      <td>0055e000002OgRtAAK</td>\n",
       "      <td>1</td>\n",
       "      <td>Laptops</td>\n",
       "      <td>Mega laptop</td>\n",
       "      <td>2430400</td>\n",
       "      <td>3251640</td>\n",
       "    </tr>\n",
       "    <tr>\n",
       "      <th>...</th>\n",
       "      <td>...</td>\n",
       "      <td>...</td>\n",
       "      <td>...</td>\n",
       "      <td>...</td>\n",
       "      <td>...</td>\n",
       "      <td>...</td>\n",
       "      <td>...</td>\n",
       "      <td>...</td>\n",
       "      <td>...</td>\n",
       "      <td>...</td>\n",
       "      <td>...</td>\n",
       "      <td>...</td>\n",
       "      <td>...</td>\n",
       "      <td>...</td>\n",
       "      <td>...</td>\n",
       "      <td>...</td>\n",
       "      <td>...</td>\n",
       "      <td>...</td>\n",
       "      <td>...</td>\n",
       "      <td>...</td>\n",
       "      <td>...</td>\n",
       "    </tr>\n",
       "    <tr>\n",
       "      <th>303</th>\n",
       "      <td>1</td>\n",
       "      <td>Advertisement</td>\n",
       "      <td>Customer</td>\n",
       "      <td>2000000</td>\n",
       "      <td>1232.0</td>\n",
       "      <td>89320</td>\n",
       "      <td>Singapore</td>\n",
       "      <td>NaN</td>\n",
       "      <td>NaN</td>\n",
       "      <td>-982</td>\n",
       "      <td>-982</td>\n",
       "      <td>1100</td>\n",
       "      <td>2020-09-19</td>\n",
       "      <td>Apparel</td>\n",
       "      <td>0</td>\n",
       "      <td>0055e000002OgRnAAK</td>\n",
       "      <td>1</td>\n",
       "      <td>Accessories</td>\n",
       "      <td>Cables</td>\n",
       "      <td>89320</td>\n",
       "      <td>89320</td>\n",
       "    </tr>\n",
       "    <tr>\n",
       "      <th>304</th>\n",
       "      <td>1</td>\n",
       "      <td>Partner</td>\n",
       "      <td>Customer</td>\n",
       "      <td>2000000</td>\n",
       "      <td>1364.0</td>\n",
       "      <td>874780</td>\n",
       "      <td>Brazil</td>\n",
       "      <td>NaN</td>\n",
       "      <td>NaN</td>\n",
       "      <td>-1114</td>\n",
       "      <td>-1114</td>\n",
       "      <td>1100</td>\n",
       "      <td>2021-01-29</td>\n",
       "      <td>Insurance</td>\n",
       "      <td>0</td>\n",
       "      <td>0055e000002OgReAAK</td>\n",
       "      <td>1</td>\n",
       "      <td>Phones</td>\n",
       "      <td>Space phone 3</td>\n",
       "      <td>644500</td>\n",
       "      <td>874780</td>\n",
       "    </tr>\n",
       "    <tr>\n",
       "      <th>305</th>\n",
       "      <td>1</td>\n",
       "      <td>Trade Show</td>\n",
       "      <td>Customer</td>\n",
       "      <td>2000000</td>\n",
       "      <td>1290.0</td>\n",
       "      <td>638750</td>\n",
       "      <td>China</td>\n",
       "      <td>NaN</td>\n",
       "      <td>NaN</td>\n",
       "      <td>-1040</td>\n",
       "      <td>-1040</td>\n",
       "      <td>1100</td>\n",
       "      <td>2020-11-16</td>\n",
       "      <td>Telecommunications</td>\n",
       "      <td>0</td>\n",
       "      <td>0055e000002OgRdAAK</td>\n",
       "      <td>1</td>\n",
       "      <td>Laptops</td>\n",
       "      <td>Light laptop</td>\n",
       "      <td>638750</td>\n",
       "      <td>638750</td>\n",
       "    </tr>\n",
       "    <tr>\n",
       "      <th>306</th>\n",
       "      <td>1</td>\n",
       "      <td>Employee Referral</td>\n",
       "      <td>Customer</td>\n",
       "      <td>2000000</td>\n",
       "      <td>1483.0</td>\n",
       "      <td>1193160</td>\n",
       "      <td>USA</td>\n",
       "      <td>AZ</td>\n",
       "      <td>NaN</td>\n",
       "      <td>-1233</td>\n",
       "      <td>-1233</td>\n",
       "      <td>1100</td>\n",
       "      <td>2021-05-28</td>\n",
       "      <td>Agriculture</td>\n",
       "      <td>0</td>\n",
       "      <td>0055e000002OgRhAAK</td>\n",
       "      <td>1</td>\n",
       "      <td>Laptops</td>\n",
       "      <td>Pro laptop</td>\n",
       "      <td>1190000</td>\n",
       "      <td>1193160</td>\n",
       "    </tr>\n",
       "    <tr>\n",
       "      <th>307</th>\n",
       "      <td>1</td>\n",
       "      <td>Web</td>\n",
       "      <td>Customer</td>\n",
       "      <td>2000000</td>\n",
       "      <td>1399.0</td>\n",
       "      <td>2208300</td>\n",
       "      <td>Singapore</td>\n",
       "      <td>NaN</td>\n",
       "      <td>NaN</td>\n",
       "      <td>-1149</td>\n",
       "      <td>-1149</td>\n",
       "      <td>1100</td>\n",
       "      <td>2021-03-05</td>\n",
       "      <td>Insurance</td>\n",
       "      <td>0</td>\n",
       "      <td>0055e000002OgRlAAK</td>\n",
       "      <td>1</td>\n",
       "      <td>Laptops</td>\n",
       "      <td>Pro laptop</td>\n",
       "      <td>1451800</td>\n",
       "      <td>2208300</td>\n",
       "    </tr>\n",
       "  </tbody>\n",
       "</table>\n",
       "<p>308 rows × 21 columns</p>\n",
       "</div>"
      ],
      "text/plain": [
       "     # Won Deals     Account Source Account Type  Annual Revenue  Average Age  \\\n",
       "0              1                Web     Customer         1000000       1628.0   \n",
       "1              1  Employee Referral     Customer         1000000       1455.0   \n",
       "2              1                Web     Customer         1000000       1332.0   \n",
       "3              1  Employee Referral     Customer         1000000       1635.0   \n",
       "4              1  Employee Referral     Customer         1000000       1515.0   \n",
       "..           ...                ...          ...             ...          ...   \n",
       "303            1      Advertisement     Customer         2000000       1232.0   \n",
       "304            1            Partner     Customer         2000000       1364.0   \n",
       "305            1         Trade Show     Customer         2000000       1290.0   \n",
       "306            1  Employee Referral     Customer         2000000       1483.0   \n",
       "307            1                Web     Customer         2000000       1399.0   \n",
       "\n",
       "     Average Deal Size Billing Country Billing State/Province  \\\n",
       "0              1415700           Japan                    NaN   \n",
       "1              1411200          Taiwan                    NaN   \n",
       "2              3428800        Thailand                    NaN   \n",
       "3              1817900           Japan                    NaN   \n",
       "4              3251640          Brazil                    NaN   \n",
       "..                 ...             ...                    ...   \n",
       "303              89320       Singapore                    NaN   \n",
       "304             874780          Brazil                    NaN   \n",
       "305             638750           China                    NaN   \n",
       "306            1193160             USA                     AZ   \n",
       "307            2208300       Singapore                    NaN   \n",
       "\n",
       "     Customer Priority  Days Since First Deal Close  \\\n",
       "0                  NaN                        -1378   \n",
       "1                  NaN                        -1205   \n",
       "2                  NaN                        -1082   \n",
       "3                  NaN                        -1385   \n",
       "4                  NaN                        -1265   \n",
       "..                 ...                          ...   \n",
       "303                NaN                         -982   \n",
       "304                NaN                        -1114   \n",
       "305                NaN                        -1040   \n",
       "306                NaN                        -1233   \n",
       "307                NaN                        -1149   \n",
       "\n",
       "     Days Since Most Recent Deal Close  Employees First Deal Date  \\\n",
       "0                                -1378       5000      2021-10-20   \n",
       "1                                -1205       5000      2021-04-30   \n",
       "2                                -1082       5000      2020-12-28   \n",
       "3                                -1385       5000      2021-10-27   \n",
       "4                                -1265       5000      2021-06-29   \n",
       "..                                 ...        ...             ...   \n",
       "303                               -982       1100      2020-09-19   \n",
       "304                              -1114       1100      2021-01-29   \n",
       "305                              -1040       1100      2020-11-16   \n",
       "306                              -1233       1100      2021-05-28   \n",
       "307                              -1149       1100      2021-03-05   \n",
       "\n",
       "               Industry  Number of Locations            Owner ID  \\\n",
       "0        Transportation                    0  0055e000002OgRdAAK   \n",
       "1               Apparel                    0  0055e000002OgRmAAK   \n",
       "2                Energy                    0  0055e000002OgRtAAK   \n",
       "3           Electronics                    0  0055e000002OgRmAAK   \n",
       "4           Engineering                    0  0055e000002OgRtAAK   \n",
       "..                  ...                  ...                 ...   \n",
       "303             Apparel                    0  0055e000002OgRnAAK   \n",
       "304           Insurance                    0  0055e000002OgReAAK   \n",
       "305  Telecommunications                    0  0055e000002OgRdAAK   \n",
       "306         Agriculture                    0  0055e000002OgRhAAK   \n",
       "307           Insurance                    0  0055e000002OgRlAAK   \n",
       "\n",
       "     Product Rank Top Product Family Top Product Name  \\\n",
       "0               1            Laptops         Notebook   \n",
       "1               1            Laptops      Mega laptop   \n",
       "2               1            Laptops     Light laptop   \n",
       "3               1            Laptops     Light laptop   \n",
       "4               1            Laptops      Mega laptop   \n",
       "..            ...                ...              ...   \n",
       "303             1        Accessories           Cables   \n",
       "304             1             Phones    Space phone 3   \n",
       "305             1            Laptops     Light laptop   \n",
       "306             1            Laptops       Pro laptop   \n",
       "307             1            Laptops       Pro laptop   \n",
       "\n",
       "     Top Product Total Price  Total Revenue  \n",
       "0                    1415700        1415700  \n",
       "1                    1411200        1411200  \n",
       "2                    1726250        3428800  \n",
       "3                    1307500        1817900  \n",
       "4                    2430400        3251640  \n",
       "..                       ...            ...  \n",
       "303                    89320          89320  \n",
       "304                   644500         874780  \n",
       "305                   638750         638750  \n",
       "306                  1190000        1193160  \n",
       "307                  1451800        2208300  \n",
       "\n",
       "[308 rows x 21 columns]"
      ]
     },
     "execution_count": 27,
     "metadata": {},
     "output_type": "execute_result"
    }
   ],
   "source": [
    "df1"
   ]
  },
  {
   "cell_type": "markdown",
   "metadata": {},
   "source": [
    "----------------------------------------------SCRATCH WORK---------------------------------------------------"
   ]
  },
  {
   "cell_type": "markdown",
   "metadata": {},
   "source": [
    "The features below are just scratch work to find what features to select. Most features that are commented out might be interesting to look at later."
   ]
  },
  {
   "cell_type": "code",
   "execution_count": 28,
   "metadata": {},
   "outputs": [
    {
     "name": "stdout",
     "output_type": "stream",
     "text": [
      "[1 2 3]\n"
     ]
    }
   ],
   "source": [
    "print(df['# Won Deals'].unique())"
   ]
  },
  {
   "cell_type": "code",
   "execution_count": 29,
   "metadata": {},
   "outputs": [
    {
     "name": "stdout",
     "output_type": "stream",
     "text": [
      "['Customer' 'Partner']\n",
      "['Japan' 'Taiwan' 'Thailand' 'Brazil' 'Canada' 'USA' 'Korea' 'France'\n",
      " 'India' 'Normway' 'Hong Kong' 'Germany' 'United Kingdom' 'Switzerland'\n",
      " 'Denmark' 'Mexico' 'Italy' 'Sweden' 'Russian' 'Singapore' 'Belgium'\n",
      " 'Turkey' 'China' 'Australia' 'Spain']\n",
      "['Transportation' 'Apparel' 'Energy' 'Electronics' 'Engineering'\n",
      " 'Insurance' 'Biotechnology' 'Education' 'Technology' 'Finance' 'Retail'\n",
      " 'Banking' 'Manufacturing' 'Telecommunications' 'Consulting' 'Utilities'\n",
      " 'Media' 'Communications' 'Healthcare' 'Agriculture']\n"
     ]
    }
   ],
   "source": [
    "# Useful as Categorical Attributes\n",
    "print(df['Account Type'].unique())\n",
    "print(df['Billing Country'].unique())\n",
    "print(df['Industry'].unique())"
   ]
  },
  {
   "cell_type": "code",
   "execution_count": 30,
   "metadata": {},
   "outputs": [
    {
     "name": "stdout",
     "output_type": "stream",
     "text": [
      "[0]\n"
     ]
    }
   ],
   "source": [
    "#Not really useful if all the values are 0\n",
    "print(df['Number of Locations'].unique())"
   ]
  },
  {
   "cell_type": "code",
   "execution_count": 31,
   "metadata": {},
   "outputs": [
    {
     "data": {
      "text/plain": [
       "array(['0055e000002OgRdAAK', '0055e000002OgRmAAK', '0055e000002OgRtAAK',\n",
       "       '0055e000002OgRiAAK', '0055e000002OgReAAK', '0055e000002OgRrAAK',\n",
       "       '0055e000002OgRsAAK', '0055e000002OgRpAAK', '0055e000002OgRcAAK',\n",
       "       '0055e000002OgRhAAK', '0055e000002OgRnAAK', '0055e000002OgRlAAK',\n",
       "       '0055e000002OgRfAAK', '0055e000002OgRuAAK', '0055e000002OgRkAAK',\n",
       "       '0055e000002OgRqAAK', '0055e000002OgRgAAK', '0055e000002OgRjAAK'],\n",
       "      dtype=object)"
      ]
     },
     "execution_count": 31,
     "metadata": {},
     "output_type": "execute_result"
    }
   ],
   "source": [
    "df['Owner ID'].unique()"
   ]
  },
  {
   "cell_type": "code",
   "execution_count": 32,
   "metadata": {},
   "outputs": [
    {
     "name": "stdout",
     "output_type": "stream",
     "text": [
      "['Laptops' 'Tablets' 'Digital Media' 'Phones' nan 'Accessories']\n"
     ]
    }
   ],
   "source": [
    "#REPLACE NAN with 'OTHERS'.. Looks useful for visualization \n",
    "print(df['Top Product Family'].unique())"
   ]
  },
  {
   "cell_type": "code",
   "execution_count": 33,
   "metadata": {},
   "outputs": [
    {
     "name": "stdout",
     "output_type": "stream",
     "text": [
      "['Notebook' 'Mega laptop' 'Light laptop' 'Light tablet 2' 'Books'\n",
      " 'Courses' 'Space phone 3' 'Certifications' 'Pro laptop' 'Space phone 2'\n",
      " 'Mini tablet 2' nan 'Keyboard' 'Mouse' 'Light tablet' 'Cables'\n",
      " 'Mini tablet' 'Cases']\n"
     ]
    }
   ],
   "source": [
    "#Top Product Family should be good enough to find sales of different tech sectors\n",
    "print(df['Top Product Name'].unique())"
   ]
  },
  {
   "cell_type": "markdown",
   "metadata": {},
   "source": [
    "--------------------------------------------END OF SCRATCH WORK---------------------------------------------------"
   ]
  },
  {
   "cell_type": "markdown",
   "metadata": {},
   "source": [
    "Reviewing the new dataframe again..."
   ]
  },
  {
   "cell_type": "code",
   "execution_count": 34,
   "metadata": {},
   "outputs": [
    {
     "data": {
      "text/plain": [
       "# Won Deals                            int64\n",
       "Account Source                        object\n",
       "Account Type                          object\n",
       "Annual Revenue                         int64\n",
       "Average Age                          float64\n",
       "Average Deal Size                      int64\n",
       "Billing Country                       object\n",
       "Billing State/Province                object\n",
       "Customer Priority                    float64\n",
       "Days Since First Deal Close            int64\n",
       "Days Since Most Recent Deal Close      int64\n",
       "Employees                              int64\n",
       "First Deal Date                       object\n",
       "Industry                              object\n",
       "Number of Locations                    int64\n",
       "Owner ID                              object\n",
       "Product Rank                           int64\n",
       "Top Product Family                    object\n",
       "Top Product Name                      object\n",
       "Top Product Total Price                int64\n",
       "Total Revenue                          int64\n",
       "dtype: object"
      ]
     },
     "execution_count": 34,
     "metadata": {},
     "output_type": "execute_result"
    }
   ],
   "source": [
    "df1.dtypes"
   ]
  },
  {
   "cell_type": "code",
   "execution_count": 35,
   "metadata": {},
   "outputs": [
    {
     "name": "stdout",
     "output_type": "stream",
     "text": [
      "(308, 21)\n"
     ]
    }
   ],
   "source": [
    "print(df1.shape)"
   ]
  },
  {
   "cell_type": "code",
   "execution_count": 36,
   "metadata": {},
   "outputs": [
    {
     "data": {
      "text/plain": [
       "# Won Deals                            0\n",
       "Account Source                         0\n",
       "Account Type                           0\n",
       "Annual Revenue                         0\n",
       "Average Age                            0\n",
       "Average Deal Size                      0\n",
       "Billing Country                        0\n",
       "Billing State/Province               178\n",
       "Customer Priority                    308\n",
       "Days Since First Deal Close            0\n",
       "Days Since Most Recent Deal Close      0\n",
       "Employees                              0\n",
       "First Deal Date                        0\n",
       "Industry                               0\n",
       "Number of Locations                    0\n",
       "Owner ID                               0\n",
       "Product Rank                           0\n",
       "Top Product Family                    43\n",
       "Top Product Name                      43\n",
       "Top Product Total Price                0\n",
       "Total Revenue                          0\n",
       "dtype: int64"
      ]
     },
     "execution_count": 36,
     "metadata": {},
     "output_type": "execute_result"
    }
   ],
   "source": [
    "df1.isnull().sum()"
   ]
  },
  {
   "cell_type": "code",
   "execution_count": 37,
   "metadata": {},
   "outputs": [
    {
     "data": {
      "text/plain": [
       "Total Revenue                        1.00000\n",
       "Top Product Total Price              0.88648\n",
       "Average Deal Size                    0.87630\n",
       "# Won Deals                          0.44836\n",
       "Product Rank                         0.29716\n",
       "Days Since First Deal Close          0.15834\n",
       "Employees                            0.10058\n",
       "Annual Revenue                       0.05735\n",
       "Average Age                         -0.03167\n",
       "Days Since Most Recent Deal Close   -0.11360\n",
       "Customer Priority                        NaN\n",
       "Number of Locations                      NaN\n",
       "Name: Total Revenue, dtype: float64"
      ]
     },
     "execution_count": 37,
     "metadata": {},
     "output_type": "execute_result"
    }
   ],
   "source": [
    "df1.corr()['Total Revenue'].sort_values(ascending=False)"
   ]
  },
  {
   "cell_type": "code",
   "execution_count": 38,
   "metadata": {},
   "outputs": [
    {
     "data": {
      "text/html": [
       "<div>\n",
       "<style scoped>\n",
       "    .dataframe tbody tr th:only-of-type {\n",
       "        vertical-align: middle;\n",
       "    }\n",
       "\n",
       "    .dataframe tbody tr th {\n",
       "        vertical-align: top;\n",
       "    }\n",
       "\n",
       "    .dataframe thead th {\n",
       "        text-align: right;\n",
       "    }\n",
       "</style>\n",
       "<table border=\"1\" class=\"dataframe\">\n",
       "  <thead>\n",
       "    <tr style=\"text-align: right;\">\n",
       "      <th></th>\n",
       "      <th># Won Deals</th>\n",
       "      <th>Account Source</th>\n",
       "      <th>Account Type</th>\n",
       "      <th>Annual Revenue</th>\n",
       "      <th>Average Age</th>\n",
       "      <th>Average Deal Size</th>\n",
       "      <th>Billing Country</th>\n",
       "      <th>Billing State/Province</th>\n",
       "      <th>Customer Priority</th>\n",
       "      <th>Days Since First Deal Close</th>\n",
       "      <th>Days Since Most Recent Deal Close</th>\n",
       "      <th>Employees</th>\n",
       "      <th>First Deal Date</th>\n",
       "      <th>Industry</th>\n",
       "      <th>Number of Locations</th>\n",
       "      <th>Owner ID</th>\n",
       "      <th>Product Rank</th>\n",
       "      <th>Top Product Family</th>\n",
       "      <th>Top Product Name</th>\n",
       "      <th>Top Product Total Price</th>\n",
       "      <th>Total Revenue</th>\n",
       "    </tr>\n",
       "  </thead>\n",
       "  <tbody>\n",
       "    <tr>\n",
       "      <th>0</th>\n",
       "      <td>1</td>\n",
       "      <td>Web</td>\n",
       "      <td>Customer</td>\n",
       "      <td>1000000</td>\n",
       "      <td>1628.0</td>\n",
       "      <td>1415700</td>\n",
       "      <td>Japan</td>\n",
       "      <td>NaN</td>\n",
       "      <td>NaN</td>\n",
       "      <td>-1378</td>\n",
       "      <td>-1378</td>\n",
       "      <td>5000</td>\n",
       "      <td>2021-10-20</td>\n",
       "      <td>Transportation</td>\n",
       "      <td>0</td>\n",
       "      <td>0055e000002OgRdAAK</td>\n",
       "      <td>1</td>\n",
       "      <td>Laptops</td>\n",
       "      <td>Notebook</td>\n",
       "      <td>1415700</td>\n",
       "      <td>1415700</td>\n",
       "    </tr>\n",
       "    <tr>\n",
       "      <th>1</th>\n",
       "      <td>1</td>\n",
       "      <td>Employee Referral</td>\n",
       "      <td>Customer</td>\n",
       "      <td>1000000</td>\n",
       "      <td>1455.0</td>\n",
       "      <td>1411200</td>\n",
       "      <td>Taiwan</td>\n",
       "      <td>NaN</td>\n",
       "      <td>NaN</td>\n",
       "      <td>-1205</td>\n",
       "      <td>-1205</td>\n",
       "      <td>5000</td>\n",
       "      <td>2021-04-30</td>\n",
       "      <td>Apparel</td>\n",
       "      <td>0</td>\n",
       "      <td>0055e000002OgRmAAK</td>\n",
       "      <td>1</td>\n",
       "      <td>Laptops</td>\n",
       "      <td>Mega laptop</td>\n",
       "      <td>1411200</td>\n",
       "      <td>1411200</td>\n",
       "    </tr>\n",
       "    <tr>\n",
       "      <th>2</th>\n",
       "      <td>1</td>\n",
       "      <td>Web</td>\n",
       "      <td>Customer</td>\n",
       "      <td>1000000</td>\n",
       "      <td>1332.0</td>\n",
       "      <td>3428800</td>\n",
       "      <td>Thailand</td>\n",
       "      <td>NaN</td>\n",
       "      <td>NaN</td>\n",
       "      <td>-1082</td>\n",
       "      <td>-1082</td>\n",
       "      <td>5000</td>\n",
       "      <td>2020-12-28</td>\n",
       "      <td>Energy</td>\n",
       "      <td>0</td>\n",
       "      <td>0055e000002OgRtAAK</td>\n",
       "      <td>1</td>\n",
       "      <td>Laptops</td>\n",
       "      <td>Light laptop</td>\n",
       "      <td>1726250</td>\n",
       "      <td>3428800</td>\n",
       "    </tr>\n",
       "  </tbody>\n",
       "</table>\n",
       "</div>"
      ],
      "text/plain": [
       "   # Won Deals     Account Source Account Type  Annual Revenue  Average Age  \\\n",
       "0            1                Web     Customer         1000000       1628.0   \n",
       "1            1  Employee Referral     Customer         1000000       1455.0   \n",
       "2            1                Web     Customer         1000000       1332.0   \n",
       "\n",
       "   Average Deal Size Billing Country Billing State/Province  \\\n",
       "0            1415700           Japan                    NaN   \n",
       "1            1411200          Taiwan                    NaN   \n",
       "2            3428800        Thailand                    NaN   \n",
       "\n",
       "   Customer Priority  Days Since First Deal Close  \\\n",
       "0                NaN                        -1378   \n",
       "1                NaN                        -1205   \n",
       "2                NaN                        -1082   \n",
       "\n",
       "   Days Since Most Recent Deal Close  Employees First Deal Date  \\\n",
       "0                              -1378       5000      2021-10-20   \n",
       "1                              -1205       5000      2021-04-30   \n",
       "2                              -1082       5000      2020-12-28   \n",
       "\n",
       "         Industry  Number of Locations            Owner ID  Product Rank  \\\n",
       "0  Transportation                    0  0055e000002OgRdAAK             1   \n",
       "1         Apparel                    0  0055e000002OgRmAAK             1   \n",
       "2          Energy                    0  0055e000002OgRtAAK             1   \n",
       "\n",
       "  Top Product Family Top Product Name  Top Product Total Price  Total Revenue  \n",
       "0            Laptops         Notebook                  1415700        1415700  \n",
       "1            Laptops      Mega laptop                  1411200        1411200  \n",
       "2            Laptops     Light laptop                  1726250        3428800  "
      ]
     },
     "execution_count": 38,
     "metadata": {},
     "output_type": "execute_result"
    }
   ],
   "source": [
    "df1.head(3)"
   ]
  },
  {
   "cell_type": "markdown",
   "metadata": {},
   "source": [
    "### 3. *Feature Engineering*"
   ]
  },
  {
   "cell_type": "markdown",
   "metadata": {},
   "source": [
    "The First Deal Date has date dtype as an object... We convert to datetime64 and extract the 'Year' and 'Month' to add to dataframe"
   ]
  },
  {
   "cell_type": "code",
   "execution_count": 39,
   "metadata": {},
   "outputs": [],
   "source": [
    "# The First Deal Date has date dtype as an object... We convert to \n",
    "df1['First Deal Date'] = pd.to_datetime(df1['First Deal Date'], format = '%Y-%m')\n",
    "df1['First Deal Year'] = df1['First Deal Date'].dt.year\n",
    "df1['First Deal Month'] = df1['First Deal Date'].dt.month\n",
    "df1 = df1.drop('First Deal Date', axis=1)"
   ]
  },
  {
   "cell_type": "code",
   "execution_count": 40,
   "metadata": {},
   "outputs": [
    {
     "data": {
      "text/plain": [
       "# Won Deals                            int64\n",
       "Account Source                        object\n",
       "Account Type                          object\n",
       "Annual Revenue                         int64\n",
       "Average Age                          float64\n",
       "Average Deal Size                      int64\n",
       "Billing Country                       object\n",
       "Billing State/Province                object\n",
       "Customer Priority                    float64\n",
       "Days Since First Deal Close            int64\n",
       "Days Since Most Recent Deal Close      int64\n",
       "Employees                              int64\n",
       "Industry                              object\n",
       "Number of Locations                    int64\n",
       "Owner ID                              object\n",
       "Product Rank                           int64\n",
       "Top Product Family                    object\n",
       "Top Product Name                      object\n",
       "Top Product Total Price                int64\n",
       "Total Revenue                          int64\n",
       "First Deal Year                        int64\n",
       "First Deal Month                       int64\n",
       "dtype: object"
      ]
     },
     "execution_count": 40,
     "metadata": {},
     "output_type": "execute_result"
    }
   ],
   "source": [
    "df1.dtypes"
   ]
  },
  {
   "cell_type": "markdown",
   "metadata": {},
   "source": [
    "We replace NaN as 'Others' so we can one-hot encode later on for categorical attributes for the 'Top Product Family' and 'Top Product Name'"
   ]
  },
  {
   "cell_type": "code",
   "execution_count": 41,
   "metadata": {},
   "outputs": [
    {
     "name": "stdout",
     "output_type": "stream",
     "text": [
      "['Laptops' 'Tablets' 'Digital Media' 'Phones' 'Others_Family'\n",
      " 'Accessories']\n"
     ]
    }
   ],
   "source": [
    "df1['Top Product Family'] = df1['Top Product Family'].replace(np.nan,'Others_Family')\n",
    "print(df1['Top Product Family'].unique())"
   ]
  },
  {
   "cell_type": "code",
   "execution_count": 42,
   "metadata": {},
   "outputs": [],
   "source": [
    "df1['Top Product Name'] = df1['Top Product Name'].replace(np.nan,'Others_Product')"
   ]
  },
  {
   "cell_type": "code",
   "execution_count": 43,
   "metadata": {},
   "outputs": [],
   "source": [
    "df1['Billing State/Province'] = df1['Billing State/Province'].replace(np.nan,'NON-US')"
   ]
  },
  {
   "cell_type": "code",
   "execution_count": 44,
   "metadata": {},
   "outputs": [
    {
     "name": "stdout",
     "output_type": "stream",
     "text": [
      "<class 'pandas.core.frame.DataFrame'>\n",
      "RangeIndex: 308 entries, 0 to 307\n",
      "Data columns (total 22 columns):\n",
      " #   Column                             Non-Null Count  Dtype  \n",
      "---  ------                             --------------  -----  \n",
      " 0   # Won Deals                        308 non-null    int64  \n",
      " 1   Account Source                     308 non-null    object \n",
      " 2   Account Type                       308 non-null    object \n",
      " 3   Annual Revenue                     308 non-null    int64  \n",
      " 4   Average Age                        308 non-null    float64\n",
      " 5   Average Deal Size                  308 non-null    int64  \n",
      " 6   Billing Country                    308 non-null    object \n",
      " 7   Billing State/Province             308 non-null    object \n",
      " 8   Customer Priority                  0 non-null      float64\n",
      " 9   Days Since First Deal Close        308 non-null    int64  \n",
      " 10  Days Since Most Recent Deal Close  308 non-null    int64  \n",
      " 11  Employees                          308 non-null    int64  \n",
      " 12  Industry                           308 non-null    object \n",
      " 13  Number of Locations                308 non-null    int64  \n",
      " 14  Owner ID                           308 non-null    object \n",
      " 15  Product Rank                       308 non-null    int64  \n",
      " 16  Top Product Family                 308 non-null    object \n",
      " 17  Top Product Name                   308 non-null    object \n",
      " 18  Top Product Total Price            308 non-null    int64  \n",
      " 19  Total Revenue                      308 non-null    int64  \n",
      " 20  First Deal Year                    308 non-null    int64  \n",
      " 21  First Deal Month                   308 non-null    int64  \n",
      "dtypes: float64(2), int64(12), object(8)\n",
      "memory usage: 53.1+ KB\n"
     ]
    }
   ],
   "source": [
    "# We can see we have fixed the missing data and captured the main features to process for the prediction model\n",
    "df1.info()"
   ]
  },
  {
   "cell_type": "code",
   "execution_count": 45,
   "metadata": {},
   "outputs": [
    {
     "data": {
      "text/plain": [
       "# Won Deals                            0\n",
       "Account Source                         0\n",
       "Account Type                           0\n",
       "Annual Revenue                         0\n",
       "Average Age                            0\n",
       "Average Deal Size                      0\n",
       "Billing Country                        0\n",
       "Billing State/Province                 0\n",
       "Customer Priority                    308\n",
       "Days Since First Deal Close            0\n",
       "Days Since Most Recent Deal Close      0\n",
       "Employees                              0\n",
       "Industry                               0\n",
       "Number of Locations                    0\n",
       "Owner ID                               0\n",
       "Product Rank                           0\n",
       "Top Product Family                     0\n",
       "Top Product Name                       0\n",
       "Top Product Total Price                0\n",
       "Total Revenue                          0\n",
       "First Deal Year                        0\n",
       "First Deal Month                       0\n",
       "dtype: int64"
      ]
     },
     "execution_count": 45,
     "metadata": {},
     "output_type": "execute_result"
    }
   ],
   "source": [
    "df1.isnull().sum()"
   ]
  },
  {
   "cell_type": "markdown",
   "metadata": {},
   "source": [
    "We don't know which customers are priority, so we'll drop it from the dataframe"
   ]
  },
  {
   "cell_type": "code",
   "execution_count": 46,
   "metadata": {},
   "outputs": [],
   "source": [
    "df1 = df1.drop('Customer Priority', axis=1)"
   ]
  },
  {
   "cell_type": "code",
   "execution_count": 47,
   "metadata": {},
   "outputs": [
    {
     "data": {
      "text/plain": [
       "Total Revenue                        1.00000\n",
       "Top Product Total Price              0.88648\n",
       "Average Deal Size                    0.87630\n",
       "# Won Deals                          0.44836\n",
       "Product Rank                         0.29716\n",
       "Days Since First Deal Close          0.15834\n",
       "Employees                            0.10058\n",
       "Annual Revenue                       0.05735\n",
       "First Deal Month                     0.00308\n",
       "Average Age                         -0.03167\n",
       "Days Since Most Recent Deal Close   -0.11360\n",
       "First Deal Year                     -0.12445\n",
       "Number of Locations                      NaN\n",
       "Name: Total Revenue, dtype: float64"
      ]
     },
     "execution_count": 47,
     "metadata": {},
     "output_type": "execute_result"
    }
   ],
   "source": [
    "df1.corr()['Total Revenue'].sort_values(ascending=False)"
   ]
  },
  {
   "cell_type": "code",
   "execution_count": 48,
   "metadata": {},
   "outputs": [
    {
     "data": {
      "text/plain": [
       "array([0], dtype=int64)"
      ]
     },
     "execution_count": 48,
     "metadata": {},
     "output_type": "execute_result"
    }
   ],
   "source": [
    "df1['Number of Locations'].unique()"
   ]
  },
  {
   "cell_type": "code",
   "execution_count": 49,
   "metadata": {},
   "outputs": [],
   "source": [
    "df1 = df1.drop('Number of Locations', axis=1)"
   ]
  },
  {
   "cell_type": "code",
   "execution_count": 50,
   "metadata": {},
   "outputs": [
    {
     "data": {
      "text/html": [
       "<div>\n",
       "<style scoped>\n",
       "    .dataframe tbody tr th:only-of-type {\n",
       "        vertical-align: middle;\n",
       "    }\n",
       "\n",
       "    .dataframe tbody tr th {\n",
       "        vertical-align: top;\n",
       "    }\n",
       "\n",
       "    .dataframe thead th {\n",
       "        text-align: right;\n",
       "    }\n",
       "</style>\n",
       "<table border=\"1\" class=\"dataframe\">\n",
       "  <thead>\n",
       "    <tr style=\"text-align: right;\">\n",
       "      <th></th>\n",
       "      <th># Won Deals</th>\n",
       "      <th>Account Source</th>\n",
       "      <th>Account Type</th>\n",
       "      <th>Annual Revenue</th>\n",
       "      <th>Average Age</th>\n",
       "      <th>Average Deal Size</th>\n",
       "      <th>Billing Country</th>\n",
       "      <th>Billing State/Province</th>\n",
       "      <th>Days Since First Deal Close</th>\n",
       "      <th>Days Since Most Recent Deal Close</th>\n",
       "      <th>Employees</th>\n",
       "      <th>Industry</th>\n",
       "      <th>Owner ID</th>\n",
       "      <th>Product Rank</th>\n",
       "      <th>Top Product Family</th>\n",
       "      <th>Top Product Name</th>\n",
       "      <th>Top Product Total Price</th>\n",
       "      <th>Total Revenue</th>\n",
       "      <th>First Deal Year</th>\n",
       "      <th>First Deal Month</th>\n",
       "    </tr>\n",
       "  </thead>\n",
       "  <tbody>\n",
       "    <tr>\n",
       "      <th>0</th>\n",
       "      <td>1</td>\n",
       "      <td>Web</td>\n",
       "      <td>Customer</td>\n",
       "      <td>1000000</td>\n",
       "      <td>1628.0</td>\n",
       "      <td>1415700</td>\n",
       "      <td>Japan</td>\n",
       "      <td>NON-US</td>\n",
       "      <td>-1378</td>\n",
       "      <td>-1378</td>\n",
       "      <td>5000</td>\n",
       "      <td>Transportation</td>\n",
       "      <td>0055e000002OgRdAAK</td>\n",
       "      <td>1</td>\n",
       "      <td>Laptops</td>\n",
       "      <td>Notebook</td>\n",
       "      <td>1415700</td>\n",
       "      <td>1415700</td>\n",
       "      <td>2021</td>\n",
       "      <td>10</td>\n",
       "    </tr>\n",
       "    <tr>\n",
       "      <th>1</th>\n",
       "      <td>1</td>\n",
       "      <td>Employee Referral</td>\n",
       "      <td>Customer</td>\n",
       "      <td>1000000</td>\n",
       "      <td>1455.0</td>\n",
       "      <td>1411200</td>\n",
       "      <td>Taiwan</td>\n",
       "      <td>NON-US</td>\n",
       "      <td>-1205</td>\n",
       "      <td>-1205</td>\n",
       "      <td>5000</td>\n",
       "      <td>Apparel</td>\n",
       "      <td>0055e000002OgRmAAK</td>\n",
       "      <td>1</td>\n",
       "      <td>Laptops</td>\n",
       "      <td>Mega laptop</td>\n",
       "      <td>1411200</td>\n",
       "      <td>1411200</td>\n",
       "      <td>2021</td>\n",
       "      <td>4</td>\n",
       "    </tr>\n",
       "  </tbody>\n",
       "</table>\n",
       "</div>"
      ],
      "text/plain": [
       "   # Won Deals     Account Source Account Type  Annual Revenue  Average Age  \\\n",
       "0            1                Web     Customer         1000000       1628.0   \n",
       "1            1  Employee Referral     Customer         1000000       1455.0   \n",
       "\n",
       "   Average Deal Size Billing Country Billing State/Province  \\\n",
       "0            1415700           Japan                 NON-US   \n",
       "1            1411200          Taiwan                 NON-US   \n",
       "\n",
       "   Days Since First Deal Close  Days Since Most Recent Deal Close  Employees  \\\n",
       "0                        -1378                              -1378       5000   \n",
       "1                        -1205                              -1205       5000   \n",
       "\n",
       "         Industry            Owner ID  Product Rank Top Product Family  \\\n",
       "0  Transportation  0055e000002OgRdAAK             1            Laptops   \n",
       "1         Apparel  0055e000002OgRmAAK             1            Laptops   \n",
       "\n",
       "  Top Product Name  Top Product Total Price  Total Revenue  First Deal Year  \\\n",
       "0         Notebook                  1415700        1415700             2021   \n",
       "1      Mega laptop                  1411200        1411200             2021   \n",
       "\n",
       "   First Deal Month  \n",
       "0                10  \n",
       "1                 4  "
      ]
     },
     "execution_count": 50,
     "metadata": {},
     "output_type": "execute_result"
    }
   ],
   "source": [
    "df1.head(2)"
   ]
  },
  {
   "cell_type": "code",
   "execution_count": 51,
   "metadata": {},
   "outputs": [],
   "source": [
    "df1['Average Age'] = df['Average Age'].astype(int)"
   ]
  },
  {
   "cell_type": "code",
   "execution_count": 52,
   "metadata": {},
   "outputs": [
    {
     "data": {
      "text/plain": [
       "0      1628\n",
       "1      1455\n",
       "2      1332\n",
       "3      1635\n",
       "4      1515\n",
       "       ... \n",
       "303    1232\n",
       "304    1364\n",
       "305    1290\n",
       "306    1483\n",
       "307    1399\n",
       "Name: Average Age, Length: 308, dtype: int32"
      ]
     },
     "execution_count": 52,
     "metadata": {},
     "output_type": "execute_result"
    }
   ],
   "source": [
    "df['Average Age'].astype(int)"
   ]
  },
  {
   "cell_type": "code",
   "execution_count": 53,
   "metadata": {},
   "outputs": [],
   "source": [
    "# Only useful if you're selectively looking in the US, we can use Billing Country instead.\n",
    "df1 = df1.drop('Billing State/Province',axis=1)"
   ]
  },
  {
   "cell_type": "code",
   "execution_count": 54,
   "metadata": {},
   "outputs": [],
   "source": [
    "# We can probably drop the Product Name and only use the Top Product Family feature, since it's too selective.\n",
    "df1 = df1.drop('Top Product Name', axis=1)"
   ]
  },
  {
   "cell_type": "code",
   "execution_count": 55,
   "metadata": {},
   "outputs": [
    {
     "data": {
      "text/html": [
       "<div>\n",
       "<style scoped>\n",
       "    .dataframe tbody tr th:only-of-type {\n",
       "        vertical-align: middle;\n",
       "    }\n",
       "\n",
       "    .dataframe tbody tr th {\n",
       "        vertical-align: top;\n",
       "    }\n",
       "\n",
       "    .dataframe thead th {\n",
       "        text-align: right;\n",
       "    }\n",
       "</style>\n",
       "<table border=\"1\" class=\"dataframe\">\n",
       "  <thead>\n",
       "    <tr style=\"text-align: right;\">\n",
       "      <th></th>\n",
       "      <th># Won Deals</th>\n",
       "      <th>Account Source</th>\n",
       "      <th>Account Type</th>\n",
       "      <th>Annual Revenue</th>\n",
       "      <th>Average Age</th>\n",
       "      <th>Average Deal Size</th>\n",
       "      <th>Billing Country</th>\n",
       "      <th>Days Since First Deal Close</th>\n",
       "      <th>Days Since Most Recent Deal Close</th>\n",
       "      <th>Employees</th>\n",
       "      <th>Industry</th>\n",
       "      <th>Owner ID</th>\n",
       "      <th>Product Rank</th>\n",
       "      <th>Top Product Family</th>\n",
       "      <th>Top Product Total Price</th>\n",
       "      <th>Total Revenue</th>\n",
       "      <th>First Deal Year</th>\n",
       "      <th>First Deal Month</th>\n",
       "    </tr>\n",
       "  </thead>\n",
       "  <tbody>\n",
       "    <tr>\n",
       "      <th>0</th>\n",
       "      <td>1</td>\n",
       "      <td>Web</td>\n",
       "      <td>Customer</td>\n",
       "      <td>1000000</td>\n",
       "      <td>1628</td>\n",
       "      <td>1415700</td>\n",
       "      <td>Japan</td>\n",
       "      <td>-1378</td>\n",
       "      <td>-1378</td>\n",
       "      <td>5000</td>\n",
       "      <td>Transportation</td>\n",
       "      <td>0055e000002OgRdAAK</td>\n",
       "      <td>1</td>\n",
       "      <td>Laptops</td>\n",
       "      <td>1415700</td>\n",
       "      <td>1415700</td>\n",
       "      <td>2021</td>\n",
       "      <td>10</td>\n",
       "    </tr>\n",
       "    <tr>\n",
       "      <th>1</th>\n",
       "      <td>1</td>\n",
       "      <td>Employee Referral</td>\n",
       "      <td>Customer</td>\n",
       "      <td>1000000</td>\n",
       "      <td>1455</td>\n",
       "      <td>1411200</td>\n",
       "      <td>Taiwan</td>\n",
       "      <td>-1205</td>\n",
       "      <td>-1205</td>\n",
       "      <td>5000</td>\n",
       "      <td>Apparel</td>\n",
       "      <td>0055e000002OgRmAAK</td>\n",
       "      <td>1</td>\n",
       "      <td>Laptops</td>\n",
       "      <td>1411200</td>\n",
       "      <td>1411200</td>\n",
       "      <td>2021</td>\n",
       "      <td>4</td>\n",
       "    </tr>\n",
       "  </tbody>\n",
       "</table>\n",
       "</div>"
      ],
      "text/plain": [
       "   # Won Deals     Account Source Account Type  Annual Revenue  Average Age  \\\n",
       "0            1                Web     Customer         1000000         1628   \n",
       "1            1  Employee Referral     Customer         1000000         1455   \n",
       "\n",
       "   Average Deal Size Billing Country  Days Since First Deal Close  \\\n",
       "0            1415700           Japan                        -1378   \n",
       "1            1411200          Taiwan                        -1205   \n",
       "\n",
       "   Days Since Most Recent Deal Close  Employees        Industry  \\\n",
       "0                              -1378       5000  Transportation   \n",
       "1                              -1205       5000         Apparel   \n",
       "\n",
       "             Owner ID  Product Rank Top Product Family  \\\n",
       "0  0055e000002OgRdAAK             1            Laptops   \n",
       "1  0055e000002OgRmAAK             1            Laptops   \n",
       "\n",
       "   Top Product Total Price  Total Revenue  First Deal Year  First Deal Month  \n",
       "0                  1415700        1415700             2021                10  \n",
       "1                  1411200        1411200             2021                 4  "
      ]
     },
     "execution_count": 55,
     "metadata": {},
     "output_type": "execute_result"
    }
   ],
   "source": [
    "df1.head(2)"
   ]
  },
  {
   "cell_type": "code",
   "execution_count": 56,
   "metadata": {},
   "outputs": [
    {
     "data": {
      "text/plain": [
       "(308, 18)"
      ]
     },
     "execution_count": 56,
     "metadata": {},
     "output_type": "execute_result"
    }
   ],
   "source": [
    "df1.shape"
   ]
  },
  {
   "cell_type": "code",
   "execution_count": null,
   "metadata": {},
   "outputs": [],
   "source": []
  },
  {
   "cell_type": "markdown",
   "metadata": {},
   "source": [
    "### 4. *Data Visualization*"
   ]
  },
  {
   "cell_type": "markdown",
   "metadata": {},
   "source": [
    "Viewing the distribution of our Target Variable: df1('Total Revenue')"
   ]
  },
  {
   "cell_type": "code",
   "execution_count": 57,
   "metadata": {},
   "outputs": [
    {
     "data": {
      "text/plain": [
       "count    3.08000e+02\n",
       "mean     1.35924e+06\n",
       "std      1.49242e+06\n",
       "min      5.28000e+03\n",
       "25%      2.30258e+05\n",
       "50%      7.88018e+05\n",
       "75%      2.16957e+06\n",
       "max      7.74719e+06\n",
       "Name: Total Revenue, dtype: float64"
      ]
     },
     "execution_count": 57,
     "metadata": {},
     "output_type": "execute_result"
    }
   ],
   "source": [
    "df1['Total Revenue'].describe()"
   ]
  },
  {
   "cell_type": "code",
   "execution_count": 58,
   "metadata": {},
   "outputs": [
    {
     "data": {
      "text/plain": [
       "Text(0.5, 0.98, 'Distribution of Total Revenue')"
      ]
     },
     "execution_count": 58,
     "metadata": {},
     "output_type": "execute_result"
    },
    {
     "data": {
      "image/png": "[encoded data removed]",
      "text/plain": [
       "<Figure size 2000x1200 with 2 Axes>"
      ]
     },
     "metadata": {},
     "output_type": "display_data"
    }
   ],
   "source": [
    "TITLE = 'Distribution of Total Revenue'\n",
    "\n",
    "# Creating two subplots and figure\n",
    "fig, (ax_before, ax_after) = plt.subplots(1,2, figsize=(20,12))\n",
    "\n",
    "# axis before np transformation\n",
    "sns.histplot(df1['Total Revenue'], bins=25, ax=ax_before)\n",
    "\n",
    "# axis after Log transformation\n",
    "sns.histplot(np.log(df1['Total Revenue']), bins=25, ax=ax_after)\n",
    "\n",
    "ax_before.set(title='before log transformation', xlabel='Total Revenue', ylabel='Density')\n",
    "ax_after.set(title='after log transformation', xlabel='Total Revenue', ylabel='Density')\n",
    "fig.suptitle(TITLE, fontsize=30)"
   ]
  },
  {
   "cell_type": "markdown",
   "metadata": {},
   "source": [
    "So we see that this is not normally distributed, as it has a longer tail on the right. So it's a Right Skewed distribution, where skewness is an asymmetrical measurement of the distribution. For a value of 1.66, that is highly skewed distribution"
   ]
  },
  {
   "cell_type": "code",
   "execution_count": 59,
   "metadata": {},
   "outputs": [
    {
     "name": "stdout",
     "output_type": "stream",
     "text": [
      "Skewness: 1.667351\n"
     ]
    }
   ],
   "source": [
    "print('Skewness: %f' % df1['Total Revenue'].skew())"
   ]
  },
  {
   "cell_type": "markdown",
   "metadata": {},
   "source": [
    "If we apply the log transformation of the Total Revenue distribution, it's more distributed with a skewness value of -0.56, which is moderately negative skewed, but close to a fairly symmetrical distribution."
   ]
  },
  {
   "cell_type": "code",
   "execution_count": 60,
   "metadata": {},
   "outputs": [
    {
     "data": {
      "text/plain": [
       "-0.5571959503165252"
      ]
     },
     "execution_count": 60,
     "metadata": {},
     "output_type": "execute_result"
    }
   ],
   "source": [
    "np.log(df1['Total Revenue']).skew()"
   ]
  },
  {
   "cell_type": "markdown",
   "metadata": {},
   "source": [
    "Viewing the Correlation Matrix:"
   ]
  },
  {
   "cell_type": "code",
   "execution_count": 61,
   "metadata": {},
   "outputs": [
    {
     "data": {
      "text/plain": [
       "<AxesSubplot:>"
      ]
     },
     "execution_count": 61,
     "metadata": {},
     "output_type": "execute_result"
    },
    {
     "data": {
      "image/png": "[encoded data removed]",
      "text/plain": [
       "<Figure size 2000x800 with 2 Axes>"
      ]
     },
     "metadata": {},
     "output_type": "display_data"
    }
   ],
   "source": [
    "plt.figure(figsize=(20,8))\n",
    "sns.heatmap(df1.corr(), annot=True, cmap='viridis')"
   ]
  },
  {
   "cell_type": "markdown",
   "metadata": {},
   "source": [
    "There is a high correlation between the target variable ('Total Revenue') and the following numeric features:\n",
    "* Top Product Total Price\n",
    "* Average Deal Size\n",
    "* Number of Won Deals\n",
    "* Product Rank"
   ]
  },
  {
   "cell_type": "markdown",
   "metadata": {},
   "source": [
    "Distribution of the First Deal by Months:"
   ]
  },
  {
   "cell_type": "code",
   "execution_count": 62,
   "metadata": {},
   "outputs": [
    {
     "data": {
      "text/plain": [
       "<AxesSubplot:title={'center':'Top Months of the First Deals from 2020-2021'}, xlabel='Month', ylabel='Frequency'>"
      ]
     },
     "execution_count": 62,
     "metadata": {},
     "output_type": "execute_result"
    },
    {
     "data": {
      "image/png": "[encoded data removed]",
      "text/plain": [
       "<Figure size 640x480 with 1 Axes>"
      ]
     },
     "metadata": {},
     "output_type": "display_data"
    }
   ],
   "source": [
    "ax = df1['First Deal Month'].value_counts()\n",
    "ax.plot(kind='bar', title='Top Months of the First Deals from 2020-2021', xlabel='Month',ylabel='Frequency')"
   ]
  },
  {
   "cell_type": "markdown",
   "metadata": {},
   "source": [
    "Whatever the product is, most of the 'First Deals' occur on October, April, August.\n",
    "* October is usually the time of Black Friday/Cyber Monday promotions\n",
    "* April is usually related to Easter promotions\n",
    "* August is usually related to 'Back to School' promotions\n",
    "\n",
    "\n",
    "The least sales occur between January to March, it seems."
   ]
  },
  {
   "cell_type": "code",
   "execution_count": 63,
   "metadata": {},
   "outputs": [],
   "source": [
    "df['First Deal Date'] = pd.to_datetime(df['First Deal Date'], format = '%Y-%m')\n",
    "df['First Deal Month'] = df['First Deal Date'].dt.month\n",
    "Sales = df.groupby(['First Deal Month','Billing Country'])['Total Revenue'].mean().reset_index(name='Total Revenue').round(2)"
   ]
  },
  {
   "cell_type": "code",
   "execution_count": 64,
   "metadata": {},
   "outputs": [],
   "source": [
    "# !pip install --upgrade nbformat"
   ]
  },
  {
   "cell_type": "code",
   "execution_count": 65,
   "metadata": {},
   "outputs": [
    {
     "data": {
      "application/vnd.plotly.v1+json": {
       "config": {
        "plotlyServerURL": "https://plot.ly"
       },
       "data": [
        {
         "hovertemplate": "Billing Country=Brazil<br>First Deal Month=%{x}<br>Total Revenue=%{y}<extra></extra>",
         "legendgroup": "Brazil",
         "line": {
          "color": "#E48F72",
          "dash": "solid"
         },
         "marker": {
          "symbol": "circle"
         },
         "mode": "markers+lines",
         "name": "Brazil",
         "orientation": "v",
         "showlegend": true,
         "type": "scatter",
         "x": [
          1,
          6,
          11,
          12
         ],
         "xaxis": "x",
         "y": [
          2903790,
          3251640,
          3285248,
          3247560
         ],
         "yaxis": "y"
        },
        {
         "hovertemplate": "Billing Country=Canada<br>First Deal Month=%{x}<br>Total Revenue=%{y}<extra></extra>",
         "legendgroup": "Canada",
         "line": {
          "color": "#FC6955",
          "dash": "solid"
         },
         "marker": {
          "symbol": "circle"
         },
         "mode": "markers+lines",
         "name": "Canada",
         "orientation": "v",
         "showlegend": true,
         "type": "scatter",
         "x": [
          1,
          2,
          3,
          4,
          5,
          6,
          7,
          8,
          9,
          10,
          11,
          12
         ],
         "xaxis": "x",
         "y": [
          805000,
          1532963.33,
          2081609,
          1563644.43,
          2171900,
          2196490,
          1614475,
          1700180.4,
          1054634.17,
          1350046.56,
          79550,
          2596047.67
         ],
         "yaxis": "y"
        },
        {
         "hovertemplate": "Billing Country=Japan<br>First Deal Month=%{x}<br>Total Revenue=%{y}<extra></extra>",
         "legendgroup": "Japan",
         "line": {
          "color": "#7E7DCD",
          "dash": "solid"
         },
         "marker": {
          "symbol": "circle"
         },
         "mode": "markers+lines",
         "name": "Japan",
         "orientation": "v",
         "showlegend": true,
         "type": "scatter",
         "x": [
          1,
          2,
          4,
          5,
          7,
          8,
          9,
          10,
          11,
          12
         ],
         "xaxis": "x",
         "y": [
          948450,
          950000,
          198981.67,
          3263870,
          1318873,
          1222494.2,
          698636.14,
          1360967.86,
          256275,
          1081262.5
         ],
         "yaxis": "y"
        },
        {
         "hovertemplate": "Billing Country=Normway<br>First Deal Month=%{x}<br>Total Revenue=%{y}<extra></extra>",
         "legendgroup": "Normway",
         "line": {
          "color": "#BC7196",
          "dash": "solid"
         },
         "marker": {
          "symbol": "circle"
         },
         "mode": "markers+lines",
         "name": "Normway",
         "orientation": "v",
         "showlegend": true,
         "type": "scatter",
         "x": [
          1,
          2,
          4,
          5,
          6,
          7,
          8,
          9,
          10,
          12
         ],
         "xaxis": "x",
         "y": [
          9000,
          1241600,
          524400,
          775200,
          657600,
          1511905,
          5424400,
          583800,
          2574700,
          339815
         ],
         "yaxis": "y"
        },
        {
         "hovertemplate": "Billing Country=Spain<br>First Deal Month=%{x}<br>Total Revenue=%{y}<extra></extra>",
         "legendgroup": "Spain",
         "line": {
          "color": "#86CE00",
          "dash": "solid"
         },
         "marker": {
          "symbol": "circle"
         },
         "mode": "markers+lines",
         "name": "Spain",
         "orientation": "v",
         "showlegend": true,
         "type": "scatter",
         "x": [
          1,
          10,
          11
         ],
         "xaxis": "x",
         "y": [
          143072.5,
          2942705,
          4107365
         ],
         "yaxis": "y"
        },
        {
         "hovertemplate": "Billing Country=Switzerland<br>First Deal Month=%{x}<br>Total Revenue=%{y}<extra></extra>",
         "legendgroup": "Switzerland",
         "line": {
          "color": "#E3EE9E",
          "dash": "solid"
         },
         "marker": {
          "symbol": "circle"
         },
         "mode": "markers+lines",
         "name": "Switzerland",
         "orientation": "v",
         "showlegend": true,
         "type": "scatter",
         "x": [
          1,
          2,
          4,
          7,
          9,
          10
         ],
         "xaxis": "x",
         "y": [
          249600,
          230520,
          1341417.75,
          200400,
          2880800,
          1350790
         ],
         "yaxis": "y"
        },
        {
         "hovertemplate": "Billing Country=Taiwan<br>First Deal Month=%{x}<br>Total Revenue=%{y}<extra></extra>",
         "legendgroup": "Taiwan",
         "line": {
          "color": "#22FFA7",
          "dash": "solid"
         },
         "marker": {
          "symbol": "circle"
         },
         "mode": "markers+lines",
         "name": "Taiwan",
         "orientation": "v",
         "showlegend": true,
         "type": "scatter",
         "x": [
          1,
          4,
          5,
          7,
          10
         ],
         "xaxis": "x",
         "y": [
          4342235,
          1411200,
          263500,
          1277885.67,
          60760
         ],
         "yaxis": "y"
        },
        {
         "hovertemplate": "Billing Country=USA<br>First Deal Month=%{x}<br>Total Revenue=%{y}<extra></extra>",
         "legendgroup": "USA",
         "line": {
          "color": "#FF0092",
          "dash": "solid"
         },
         "marker": {
          "symbol": "circle"
         },
         "mode": "markers+lines",
         "name": "USA",
         "orientation": "v",
         "showlegend": true,
         "type": "scatter",
         "x": [
          1,
          2,
          3,
          4,
          5,
          6,
          7,
          8,
          9,
          10,
          11,
          12
         ],
         "xaxis": "x",
         "y": [
          1537019,
          642226.67,
          640059.5,
          1609432.64,
          943503.75,
          1022361.6,
          1360399.14,
          2310394.14,
          614741.71,
          728140.6,
          1620091,
          1457972.67
         ],
         "yaxis": "y"
        },
        {
         "hovertemplate": "Billing Country=Australia<br>First Deal Month=%{x}<br>Total Revenue=%{y}<extra></extra>",
         "legendgroup": "Australia",
         "line": {
          "color": "#C9FBE5",
          "dash": "solid"
         },
         "marker": {
          "symbol": "circle"
         },
         "mode": "markers+lines",
         "name": "Australia",
         "orientation": "v",
         "showlegend": true,
         "type": "scatter",
         "x": [
          2,
          3,
          5,
          8
         ],
         "xaxis": "x",
         "y": [
          105210,
          2155875,
          2684465,
          2698769
         ],
         "yaxis": "y"
        },
        {
         "hovertemplate": "Billing Country=Belgium<br>First Deal Month=%{x}<br>Total Revenue=%{y}<extra></extra>",
         "legendgroup": "Belgium",
         "line": {
          "color": "#B68E00",
          "dash": "solid"
         },
         "marker": {
          "symbol": "circle"
         },
         "mode": "markers+lines",
         "name": "Belgium",
         "orientation": "v",
         "showlegend": true,
         "type": "scatter",
         "x": [
          2,
          5,
          6,
          8,
          10
         ],
         "xaxis": "x",
         "y": [
          2038037,
          1417400,
          483745,
          399300,
          1518190
         ],
         "yaxis": "y"
        },
        {
         "hovertemplate": "Billing Country=Denmark<br>First Deal Month=%{x}<br>Total Revenue=%{y}<extra></extra>",
         "legendgroup": "Denmark",
         "line": {
          "color": "#00B5F7",
          "dash": "solid"
         },
         "marker": {
          "symbol": "circle"
         },
         "mode": "markers+lines",
         "name": "Denmark",
         "orientation": "v",
         "showlegend": true,
         "type": "scatter",
         "x": [
          3,
          4,
          5,
          7,
          8,
          11
         ],
         "xaxis": "x",
         "y": [
          316726,
          72720,
          1169162.5,
          2124300,
          323550,
          1871462.5
         ],
         "yaxis": "y"
        },
        {
         "hovertemplate": "Billing Country=Germany<br>First Deal Month=%{x}<br>Total Revenue=%{y}<extra></extra>",
         "legendgroup": "Germany",
         "line": {
          "color": "#6E899C",
          "dash": "solid"
         },
         "marker": {
          "symbol": "circle"
         },
         "mode": "markers+lines",
         "name": "Germany",
         "orientation": "v",
         "showlegend": true,
         "type": "scatter",
         "x": [
          3,
          4,
          5,
          6,
          9,
          10
         ],
         "xaxis": "x",
         "y": [
          725146,
          2701945,
          2101255,
          21640,
          594875,
          242700
         ],
         "yaxis": "y"
        },
        {
         "hovertemplate": "Billing Country=Hong Kong<br>First Deal Month=%{x}<br>Total Revenue=%{y}<extra></extra>",
         "legendgroup": "Hong Kong",
         "line": {
          "color": "#D626FF",
          "dash": "solid"
         },
         "marker": {
          "symbol": "circle"
         },
         "mode": "markers+lines",
         "name": "Hong Kong",
         "orientation": "v",
         "showlegend": true,
         "type": "scatter",
         "x": [
          3,
          4,
          5,
          9,
          11
         ],
         "xaxis": "x",
         "y": [
          466893,
          1505940,
          1853874,
          804275,
          1861862
         ],
         "yaxis": "y"
        },
        {
         "hovertemplate": "Billing Country=Singapore<br>First Deal Month=%{x}<br>Total Revenue=%{y}<extra></extra>",
         "legendgroup": "Singapore",
         "line": {
          "color": "#DC587D",
          "dash": "solid"
         },
         "marker": {
          "symbol": "circle"
         },
         "mode": "markers+lines",
         "name": "Singapore",
         "orientation": "v",
         "showlegend": true,
         "type": "scatter",
         "x": [
          3,
          4,
          5,
          7,
          8,
          9,
          10,
          11
         ],
         "xaxis": "x",
         "y": [
          2208300,
          1590600,
          761000,
          5140365,
          195750,
          83060,
          4169710,
          782352.67
         ],
         "yaxis": "y"
        },
        {
         "hovertemplate": "Billing Country=China<br>First Deal Month=%{x}<br>Total Revenue=%{y}<extra></extra>",
         "legendgroup": "China",
         "line": {
          "color": "#EEA6FB",
          "dash": "solid"
         },
         "marker": {
          "symbol": "circle"
         },
         "mode": "markers+lines",
         "name": "China",
         "orientation": "v",
         "showlegend": true,
         "type": "scatter",
         "x": [
          4,
          5,
          7,
          8,
          10,
          11,
          12
         ],
         "xaxis": "x",
         "y": [
          459280,
          2205998,
          128265,
          358100,
          491550,
          1118405,
          2604140
         ],
         "yaxis": "y"
        },
        {
         "hovertemplate": "Billing Country=India<br>First Deal Month=%{x}<br>Total Revenue=%{y}<extra></extra>",
         "legendgroup": "India",
         "line": {
          "color": "#479B55",
          "dash": "solid"
         },
         "marker": {
          "symbol": "circle"
         },
         "mode": "markers+lines",
         "name": "India",
         "orientation": "v",
         "showlegend": true,
         "type": "scatter",
         "x": [
          4,
          7,
          8,
          9,
          11
         ],
         "xaxis": "x",
         "y": [
          1805710,
          1813725,
          591432,
          1418640,
          88200
         ],
         "yaxis": "y"
        },
        {
         "hovertemplate": "Billing Country=Mexico<br>First Deal Month=%{x}<br>Total Revenue=%{y}<extra></extra>",
         "legendgroup": "Mexico",
         "line": {
          "color": "#FF9616",
          "dash": "solid"
         },
         "marker": {
          "symbol": "circle"
         },
         "mode": "markers+lines",
         "name": "Mexico",
         "orientation": "v",
         "showlegend": true,
         "type": "scatter",
         "x": [
          4,
          6,
          7,
          11,
          12
         ],
         "xaxis": "x",
         "y": [
          789160,
          1307405,
          229470,
          1848100,
          386375
         ],
         "yaxis": "y"
        },
        {
         "hovertemplate": "Billing Country=Sweden<br>First Deal Month=%{x}<br>Total Revenue=%{y}<extra></extra>",
         "legendgroup": "Sweden",
         "line": {
          "color": "#F6F926",
          "dash": "solid"
         },
         "marker": {
          "symbol": "circle"
         },
         "mode": "markers+lines",
         "name": "Sweden",
         "orientation": "v",
         "showlegend": true,
         "type": "scatter",
         "x": [
          4,
          7,
          8,
          9,
          10,
          12
         ],
         "xaxis": "x",
         "y": [
          43355,
          2535805,
          576680.5,
          94283,
          2207200,
          1438500
         ],
         "yaxis": "y"
        },
        {
         "hovertemplate": "Billing Country=France<br>First Deal Month=%{x}<br>Total Revenue=%{y}<extra></extra>",
         "legendgroup": "France",
         "line": {
          "color": "#0DF9FF",
          "dash": "solid"
         },
         "marker": {
          "symbol": "circle"
         },
         "mode": "markers+lines",
         "name": "France",
         "orientation": "v",
         "showlegend": true,
         "type": "scatter",
         "x": [
          5,
          8,
          10
         ],
         "xaxis": "x",
         "y": [
          466000,
          2630075,
          123280
         ],
         "yaxis": "y"
        },
        {
         "hovertemplate": "Billing Country=Italy<br>First Deal Month=%{x}<br>Total Revenue=%{y}<extra></extra>",
         "legendgroup": "Italy",
         "line": {
          "color": "#FE00CE",
          "dash": "solid"
         },
         "marker": {
          "symbol": "circle"
         },
         "mode": "markers+lines",
         "name": "Italy",
         "orientation": "v",
         "showlegend": true,
         "type": "scatter",
         "x": [
          5,
          7,
          8,
          10,
          11
         ],
         "xaxis": "x",
         "y": [
          1755000,
          5280,
          418010,
          1970742.5,
          218204
         ],
         "yaxis": "y"
        },
        {
         "hovertemplate": "Billing Country=Korea<br>First Deal Month=%{x}<br>Total Revenue=%{y}<extra></extra>",
         "legendgroup": "Korea",
         "line": {
          "color": "#FED4C4",
          "dash": "solid"
         },
         "marker": {
          "symbol": "circle"
         },
         "mode": "markers+lines",
         "name": "Korea",
         "orientation": "v",
         "showlegend": true,
         "type": "scatter",
         "x": [
          5,
          6,
          10,
          12
         ],
         "xaxis": "x",
         "y": [
          875880,
          3712300,
          1062195,
          3198400
         ],
         "yaxis": "y"
        },
        {
         "hovertemplate": "Billing Country=Russian<br>First Deal Month=%{x}<br>Total Revenue=%{y}<extra></extra>",
         "legendgroup": "Russian",
         "line": {
          "color": "#6A76FC",
          "dash": "solid"
         },
         "marker": {
          "symbol": "circle"
         },
         "mode": "markers+lines",
         "name": "Russian",
         "orientation": "v",
         "showlegend": true,
         "type": "scatter",
         "x": [
          5,
          6,
          9,
          10,
          12
         ],
         "xaxis": "x",
         "y": [
          476918,
          435960,
          352350,
          2374500,
          93714
         ],
         "yaxis": "y"
        },
        {
         "hovertemplate": "Billing Country=Thailand<br>First Deal Month=%{x}<br>Total Revenue=%{y}<extra></extra>",
         "legendgroup": "Thailand",
         "line": {
          "color": "#00FE35",
          "dash": "solid"
         },
         "marker": {
          "symbol": "circle"
         },
         "mode": "markers+lines",
         "name": "Thailand",
         "orientation": "v",
         "showlegend": true,
         "type": "scatter",
         "x": [
          5,
          6,
          8,
          9,
          10,
          12
         ],
         "xaxis": "x",
         "y": [
          681410,
          146771,
          453399,
          1533140,
          154353,
          3428800
         ],
         "yaxis": "y"
        },
        {
         "hovertemplate": "Billing Country=United Kingdom<br>First Deal Month=%{x}<br>Total Revenue=%{y}<extra></extra>",
         "legendgroup": "United Kingdom",
         "line": {
          "color": "#FD3216",
          "dash": "solid"
         },
         "marker": {
          "symbol": "circle"
         },
         "mode": "markers+lines",
         "name": "United Kingdom",
         "orientation": "v",
         "showlegend": true,
         "type": "scatter",
         "x": [
          5,
          8,
          9
         ],
         "xaxis": "x",
         "y": [
          499928,
          66246,
          623750
         ],
         "yaxis": "y"
        },
        {
         "hovertemplate": "Billing Country=Turkey<br>First Deal Month=%{x}<br>Total Revenue=%{y}<extra></extra>",
         "legendgroup": "Turkey",
         "line": {
          "color": "#E48F72",
          "dash": "solid"
         },
         "marker": {
          "symbol": "circle"
         },
         "mode": "markers+lines",
         "name": "Turkey",
         "orientation": "v",
         "showlegend": true,
         "type": "scatter",
         "x": [
          8,
          10
         ],
         "xaxis": "x",
         "y": [
          238018,
          2389600
         ],
         "yaxis": "y"
        }
       ],
       "layout": {
        "legend": {
         "title": {
          "text": "Billing Country"
         },
         "tracegroupgap": 0
        },
        "margin": {
         "t": 60
        },
        "template": {
         "data": {
          "bar": [
           {
            "error_x": {
             "color": "#2a3f5f"
            },
            "error_y": {
             "color": "#2a3f5f"
            },
            "marker": {
             "line": {
              "color": "#E5ECF6",
              "width": 0.5
             },
             "pattern": {
              "fillmode": "overlay",
              "size": 10,
              "solidity": 0.2
             }
            },
            "type": "bar"
           }
          ],
          "barpolar": [
           {
            "marker": {
             "line": {
              "color": "#E5ECF6",
              "width": 0.5
             },
             "pattern": {
              "fillmode": "overlay",
              "size": 10,
              "solidity": 0.2
             }
            },
            "type": "barpolar"
           }
          ],
          "carpet": [
           {
            "aaxis": {
             "endlinecolor": "#2a3f5f",
             "gridcolor": "white",
             "linecolor": "white",
             "minorgridcolor": "white",
             "startlinecolor": "#2a3f5f"
            },
            "baxis": {
             "endlinecolor": "#2a3f5f",
             "gridcolor": "white",
             "linecolor": "white",
             "minorgridcolor": "white",
             "startlinecolor": "#2a3f5f"
            },
            "type": "carpet"
           }
          ],
          "choropleth": [
           {
            "colorbar": {
             "outlinewidth": 0,
             "ticks": ""
            },
            "type": "choropleth"
           }
          ],
          "contour": [
           {
            "colorbar": {
             "outlinewidth": 0,
             "ticks": ""
            },
            "colorscale": [
             [
              0,
              "#0d0887"
             ],
             [
              0.1111111111111111,
              "#46039f"
             ],
             [
              0.2222222222222222,
              "#7201a8"
             ],
             [
              0.3333333333333333,
              "#9c179e"
             ],
             [
              0.4444444444444444,
              "#bd3786"
             ],
             [
              0.5555555555555556,
              "#d8576b"
             ],
             [
              0.6666666666666666,
              "#ed7953"
             ],
             [
              0.7777777777777778,
              "#fb9f3a"
             ],
             [
              0.8888888888888888,
              "#fdca26"
             ],
             [
              1,
              "#f0f921"
             ]
            ],
            "type": "contour"
           }
          ],
          "contourcarpet": [
           {
            "colorbar": {
             "outlinewidth": 0,
             "ticks": ""
            },
            "type": "contourcarpet"
           }
          ],
          "heatmap": [
           {
            "colorbar": {
             "outlinewidth": 0,
             "ticks": ""
            },
            "colorscale": [
             [
              0,
              "#0d0887"
             ],
             [
              0.1111111111111111,
              "#46039f"
             ],
             [
              0.2222222222222222,
              "#7201a8"
             ],
             [
              0.3333333333333333,
              "#9c179e"
             ],
             [
              0.4444444444444444,
              "#bd3786"
             ],
             [
              0.5555555555555556,
              "#d8576b"
             ],
             [
              0.6666666666666666,
              "#ed7953"
             ],
             [
              0.7777777777777778,
              "#fb9f3a"
             ],
             [
              0.8888888888888888,
              "#fdca26"
             ],
             [
              1,
              "#f0f921"
             ]
            ],
            "type": "heatmap"
           }
          ],
          "heatmapgl": [
           {
            "colorbar": {
             "outlinewidth": 0,
             "ticks": ""
            },
            "colorscale": [
             [
              0,
              "#0d0887"
             ],
             [
              0.1111111111111111,
              "#46039f"
             ],
             [
              0.2222222222222222,
              "#7201a8"
             ],
             [
              0.3333333333333333,
              "#9c179e"
             ],
             [
              0.4444444444444444,
              "#bd3786"
             ],
             [
              0.5555555555555556,
              "#d8576b"
             ],
             [
              0.6666666666666666,
              "#ed7953"
             ],
             [
              0.7777777777777778,
              "#fb9f3a"
             ],
             [
              0.8888888888888888,
              "#fdca26"
             ],
             [
              1,
              "#f0f921"
             ]
            ],
            "type": "heatmapgl"
           }
          ],
          "histogram": [
           {
            "marker": {
             "pattern": {
              "fillmode": "overlay",
              "size": 10,
              "solidity": 0.2
             }
            },
            "type": "histogram"
           }
          ],
          "histogram2d": [
           {
            "colorbar": {
             "outlinewidth": 0,
             "ticks": ""
            },
            "colorscale": [
             [
              0,
              "#0d0887"
             ],
             [
              0.1111111111111111,
              "#46039f"
             ],
             [
              0.2222222222222222,
              "#7201a8"
             ],
             [
              0.3333333333333333,
              "#9c179e"
             ],
             [
              0.4444444444444444,
              "#bd3786"
             ],
             [
              0.5555555555555556,
              "#d8576b"
             ],
             [
              0.6666666666666666,
              "#ed7953"
             ],
             [
              0.7777777777777778,
              "#fb9f3a"
             ],
             [
              0.8888888888888888,
              "#fdca26"
             ],
             [
              1,
              "#f0f921"
             ]
            ],
            "type": "histogram2d"
           }
          ],
          "histogram2dcontour": [
           {
            "colorbar": {
             "outlinewidth": 0,
             "ticks": ""
            },
            "colorscale": [
             [
              0,
              "#0d0887"
             ],
             [
              0.1111111111111111,
              "#46039f"
             ],
             [
              0.2222222222222222,
              "#7201a8"
             ],
             [
              0.3333333333333333,
              "#9c179e"
             ],
             [
              0.4444444444444444,
              "#bd3786"
             ],
             [
              0.5555555555555556,
              "#d8576b"
             ],
             [
              0.6666666666666666,
              "#ed7953"
             ],
             [
              0.7777777777777778,
              "#fb9f3a"
             ],
             [
              0.8888888888888888,
              "#fdca26"
             ],
             [
              1,
              "#f0f921"
             ]
            ],
            "type": "histogram2dcontour"
           }
          ],
          "mesh3d": [
           {
            "colorbar": {
             "outlinewidth": 0,
             "ticks": ""
            },
            "type": "mesh3d"
           }
          ],
          "parcoords": [
           {
            "line": {
             "colorbar": {
              "outlinewidth": 0,
              "ticks": ""
             }
            },
            "type": "parcoords"
           }
          ],
          "pie": [
           {
            "automargin": true,
            "type": "pie"
           }
          ],
          "scatter": [
           {
            "fillpattern": {
             "fillmode": "overlay",
             "size": 10,
             "solidity": 0.2
            },
            "type": "scatter"
           }
          ],
          "scatter3d": [
           {
            "line": {
             "colorbar": {
              "outlinewidth": 0,
              "ticks": ""
             }
            },
            "marker": {
             "colorbar": {
              "outlinewidth": 0,
              "ticks": ""
             }
            },
            "type": "scatter3d"
           }
          ],
          "scattercarpet": [
           {
            "marker": {
             "colorbar": {
              "outlinewidth": 0,
              "ticks": ""
             }
            },
            "type": "scattercarpet"
           }
          ],
          "scattergeo": [
           {
            "marker": {
             "colorbar": {
              "outlinewidth": 0,
              "ticks": ""
             }
            },
            "type": "scattergeo"
           }
          ],
          "scattergl": [
           {
            "marker": {
             "colorbar": {
              "outlinewidth": 0,
              "ticks": ""
             }
            },
            "type": "scattergl"
           }
          ],
          "scattermapbox": [
           {
            "marker": {
             "colorbar": {
              "outlinewidth": 0,
              "ticks": ""
             }
            },
            "type": "scattermapbox"
           }
          ],
          "scatterpolar": [
           {
            "marker": {
             "colorbar": {
              "outlinewidth": 0,
              "ticks": ""
             }
            },
            "type": "scatterpolar"
           }
          ],
          "scatterpolargl": [
           {
            "marker": {
             "colorbar": {
              "outlinewidth": 0,
              "ticks": ""
             }
            },
            "type": "scatterpolargl"
           }
          ],
          "scatterternary": [
           {
            "marker": {
             "colorbar": {
              "outlinewidth": 0,
              "ticks": ""
             }
            },
            "type": "scatterternary"
           }
          ],
          "surface": [
           {
            "colorbar": {
             "outlinewidth": 0,
             "ticks": ""
            },
            "colorscale": [
             [
              0,
              "#0d0887"
             ],
             [
              0.1111111111111111,
              "#46039f"
             ],
             [
              0.2222222222222222,
              "#7201a8"
             ],
             [
              0.3333333333333333,
              "#9c179e"
             ],
             [
              0.4444444444444444,
              "#bd3786"
             ],
             [
              0.5555555555555556,
              "#d8576b"
             ],
             [
              0.6666666666666666,
              "#ed7953"
             ],
             [
              0.7777777777777778,
              "#fb9f3a"
             ],
             [
              0.8888888888888888,
              "#fdca26"
             ],
             [
              1,
              "#f0f921"
             ]
            ],
            "type": "surface"
           }
          ],
          "table": [
           {
            "cells": {
             "fill": {
              "color": "#EBF0F8"
             },
             "line": {
              "color": "white"
             }
            },
            "header": {
             "fill": {
              "color": "#C8D4E3"
             },
             "line": {
              "color": "white"
             }
            },
            "type": "table"
           }
          ]
         },
         "layout": {
          "annotationdefaults": {
           "arrowcolor": "#2a3f5f",
           "arrowhead": 0,
           "arrowwidth": 1
          },
          "autotypenumbers": "strict",
          "coloraxis": {
           "colorbar": {
            "outlinewidth": 0,
            "ticks": ""
           }
          },
          "colorscale": {
           "diverging": [
            [
             0,
             "#8e0152"
            ],
            [
             0.1,
             "#c51b7d"
            ],
            [
             0.2,
             "#de77ae"
            ],
            [
             0.3,
             "#f1b6da"
            ],
            [
             0.4,
             "#fde0ef"
            ],
            [
             0.5,
             "#f7f7f7"
            ],
            [
             0.6,
             "#e6f5d0"
            ],
            [
             0.7,
             "#b8e186"
            ],
            [
             0.8,
             "#7fbc41"
            ],
            [
             0.9,
             "#4d9221"
            ],
            [
             1,
             "#276419"
            ]
           ],
           "sequential": [
            [
             0,
             "#0d0887"
            ],
            [
             0.1111111111111111,
             "#46039f"
            ],
            [
             0.2222222222222222,
             "#7201a8"
            ],
            [
             0.3333333333333333,
             "#9c179e"
            ],
            [
             0.4444444444444444,
             "#bd3786"
            ],
            [
             0.5555555555555556,
             "#d8576b"
            ],
            [
             0.6666666666666666,
             "#ed7953"
            ],
            [
             0.7777777777777778,
             "#fb9f3a"
            ],
            [
             0.8888888888888888,
             "#fdca26"
            ],
            [
             1,
             "#f0f921"
            ]
           ],
           "sequentialminus": [
            [
             0,
             "#0d0887"
            ],
            [
             0.1111111111111111,
             "#46039f"
            ],
            [
             0.2222222222222222,
             "#7201a8"
            ],
            [
             0.3333333333333333,
             "#9c179e"
            ],
            [
             0.4444444444444444,
             "#bd3786"
            ],
            [
             0.5555555555555556,
             "#d8576b"
            ],
            [
             0.6666666666666666,
             "#ed7953"
            ],
            [
             0.7777777777777778,
             "#fb9f3a"
            ],
            [
             0.8888888888888888,
             "#fdca26"
            ],
            [
             1,
             "#f0f921"
            ]
           ]
          },
          "colorway": [
           "#636efa",
           "#EF553B",
           "#00cc96",
           "#ab63fa",
           "#FFA15A",
           "#19d3f3",
           "#FF6692",
           "#B6E880",
           "#FF97FF",
           "#FECB52"
          ],
          "font": {
           "color": "#2a3f5f"
          },
          "geo": {
           "bgcolor": "white",
           "lakecolor": "white",
           "landcolor": "#E5ECF6",
           "showlakes": true,
           "showland": true,
           "subunitcolor": "white"
          },
          "hoverlabel": {
           "align": "left"
          },
          "hovermode": "closest",
          "mapbox": {
           "style": "light"
          },
          "paper_bgcolor": "white",
          "plot_bgcolor": "#E5ECF6",
          "polar": {
           "angularaxis": {
            "gridcolor": "white",
            "linecolor": "white",
            "ticks": ""
           },
           "bgcolor": "#E5ECF6",
           "radialaxis": {
            "gridcolor": "white",
            "linecolor": "white",
            "ticks": ""
           }
          },
          "scene": {
           "xaxis": {
            "backgroundcolor": "#E5ECF6",
            "gridcolor": "white",
            "gridwidth": 2,
            "linecolor": "white",
            "showbackground": true,
            "ticks": "",
            "zerolinecolor": "white"
           },
           "yaxis": {
            "backgroundcolor": "#E5ECF6",
            "gridcolor": "white",
            "gridwidth": 2,
            "linecolor": "white",
            "showbackground": true,
            "ticks": "",
            "zerolinecolor": "white"
           },
           "zaxis": {
            "backgroundcolor": "#E5ECF6",
            "gridcolor": "white",
            "gridwidth": 2,
            "linecolor": "white",
            "showbackground": true,
            "ticks": "",
            "zerolinecolor": "white"
           }
          },
          "shapedefaults": {
           "line": {
            "color": "#2a3f5f"
           }
          },
          "ternary": {
           "aaxis": {
            "gridcolor": "white",
            "linecolor": "white",
            "ticks": ""
           },
           "baxis": {
            "gridcolor": "white",
            "linecolor": "white",
            "ticks": ""
           },
           "bgcolor": "#E5ECF6",
           "caxis": {
            "gridcolor": "white",
            "linecolor": "white",
            "ticks": ""
           }
          },
          "title": {
           "x": 0.05
          },
          "xaxis": {
           "automargin": true,
           "gridcolor": "white",
           "linecolor": "white",
           "ticks": "",
           "title": {
            "standoff": 15
           },
           "zerolinecolor": "white",
           "zerolinewidth": 2
          },
          "yaxis": {
           "automargin": true,
           "gridcolor": "white",
           "linecolor": "white",
           "ticks": "",
           "title": {
            "standoff": 15
           },
           "zerolinecolor": "white",
           "zerolinewidth": 2
          }
         }
        },
        "title": {
         "text": "Mean Average Revenue per Countries"
        },
        "xaxis": {
         "anchor": "y",
         "domain": [
          0,
          1
         ],
         "title": {
          "text": "Month"
         }
        },
        "yaxis": {
         "anchor": "x",
         "domain": [
          0,
          1
         ],
         "title": {
          "text": "Average Revenue"
         }
        }
       }
      }
     },
     "metadata": {},
     "output_type": "display_data"
    }
   ],
   "source": [
    "import plotly.express as px\n",
    "Sales = df.groupby(['First Deal Month','Billing Country'])['Total Revenue'].mean().reset_index(name='Total Revenue').round(2)\n",
    "fig = px.line(Sales, x='First Deal Month',y='Total Revenue', color='Billing Country', color_discrete_sequence=px.colors.qualitative.Light24_r)\n",
    "fig.update_traces(mode='markers+lines')\n",
    "fig.update_layout(title='Mean Average Revenue per Countries', xaxis_title='Month',yaxis_title='Average Revenue')\n",
    "fig.show()"
   ]
  },
  {
   "cell_type": "markdown",
   "metadata": {},
   "source": [
    "This graph is a bit messy, but with plotly, it's interactive where we can hover over these lines to find out the mean revenue of each different country by months... or uncheck the country on the right side of the graph you wish to select. Note, this does not mean that it's the highest total revenue. Need to account for the number of clients as well, which will be shown in a bar graph later\n",
    "* We can see that the average mean revenue from Singapore peaks on July and October.\n",
    "* Normway had the highest mean revenue on August\n",
    "* Most of the mean revenue for each country usually falls under 2.5M Total Revenue\n",
    "* Brazil stayed stagnant around 3M mean Revenue\n",
    "* Spain has a linear pattern from January to December, where most mean revenue occurs on December"
   ]
  },
  {
   "cell_type": "markdown",
   "metadata": {},
   "source": [
    "We can also view te sales of different technologies as well"
   ]
  },
  {
   "cell_type": "code",
   "execution_count": 66,
   "metadata": {},
   "outputs": [
    {
     "data": {
      "application/vnd.plotly.v1+json": {
       "config": {
        "plotlyServerURL": "https://plot.ly"
       },
       "data": [
        {
         "hovertemplate": "Top Product Family=Accessories<br>First Deal Month=%{x}<br>Total Revenue=%{y}<extra></extra>",
         "legendgroup": "Accessories",
         "line": {
          "color": "#E48F72",
          "dash": "solid"
         },
         "marker": {
          "symbol": "circle"
         },
         "mode": "markers+lines",
         "name": "Accessories",
         "orientation": "v",
         "showlegend": true,
         "type": "scatter",
         "x": [
          1,
          2,
          3,
          4,
          5,
          6,
          7,
          8,
          9,
          10,
          11,
          12
         ],
         "xaxis": "x",
         "y": [
          33600,
          105210,
          96419,
          154665,
          46280,
          80165,
          105130,
          229590.2,
          115085,
          100340,
          147524,
          77531.33
         ],
         "yaxis": "y"
        },
        {
         "hovertemplate": "Top Product Family=Laptops<br>First Deal Month=%{x}<br>Total Revenue=%{y}<extra></extra>",
         "legendgroup": "Laptops",
         "line": {
          "color": "#FC6955",
          "dash": "solid"
         },
         "marker": {
          "symbol": "circle"
         },
         "mode": "markers+lines",
         "name": "Laptops",
         "orientation": "v",
         "showlegend": true,
         "type": "scatter",
         "x": [
          1,
          2,
          3,
          4,
          5,
          6,
          7,
          8,
          9,
          10,
          11,
          12
         ],
         "xaxis": "x",
         "y": [
          2500634,
          1700847.4,
          2900381,
          2843064.7,
          2853232.55,
          2744589.17,
          2536718.29,
          2799158.13,
          1580923,
          2575925.67,
          2422866.7,
          2850189.62
         ],
         "yaxis": "y"
        },
        {
         "hovertemplate": "Top Product Family=Others_Family<br>First Deal Month=%{x}<br>Total Revenue=%{y}<extra></extra>",
         "legendgroup": "Others_Family",
         "line": {
          "color": "#7E7DCD",
          "dash": "solid"
         },
         "marker": {
          "symbol": "circle"
         },
         "mode": "markers+lines",
         "name": "Others_Family",
         "orientation": "v",
         "showlegend": true,
         "type": "scatter",
         "x": [
          1,
          3,
          4,
          5,
          6,
          7,
          8,
          9,
          10,
          11,
          12
         ],
         "xaxis": "x",
         "y": [
          281241.5,
          391809.5,
          237261.3,
          365724.25,
          244258,
          205701.5,
          276964.57,
          175915.75,
          227893.86,
          218204,
          401291
         ],
         "yaxis": "y"
        },
        {
         "hovertemplate": "Top Product Family=Phones<br>First Deal Month=%{x}<br>Total Revenue=%{y}<extra></extra>",
         "legendgroup": "Phones",
         "line": {
          "color": "#BC7196",
          "dash": "solid"
         },
         "marker": {
          "symbol": "circle"
         },
         "mode": "markers+lines",
         "name": "Phones",
         "orientation": "v",
         "showlegend": true,
         "type": "scatter",
         "x": [
          1,
          2,
          4,
          5,
          6,
          7,
          8,
          9,
          10,
          11,
          12
         ],
         "xaxis": "x",
         "y": [
          695170,
          950000,
          834870,
          432141.67,
          758298.33,
          603810,
          367037.5,
          991624,
          123280,
          256275,
          414582.5
         ],
         "yaxis": "y"
        },
        {
         "hovertemplate": "Top Product Family=Tablets<br>First Deal Month=%{x}<br>Total Revenue=%{y}<extra></extra>",
         "legendgroup": "Tablets",
         "line": {
          "color": "#86CE00",
          "dash": "solid"
         },
         "marker": {
          "symbol": "circle"
         },
         "mode": "markers+lines",
         "name": "Tablets",
         "orientation": "v",
         "showlegend": true,
         "type": "scatter",
         "x": [
          1,
          2,
          3,
          4,
          5,
          6,
          7,
          8,
          9,
          10,
          11,
          12
         ],
         "xaxis": "x",
         "y": [
          3918295,
          791840,
          633067.5,
          1632264.56,
          1534323.67,
          1148575,
          1446906.67,
          417900,
          687055.56,
          1159257.33,
          2055950,
          1438500
         ],
         "yaxis": "y"
        },
        {
         "hovertemplate": "Top Product Family=Digital Media<br>First Deal Month=%{x}<br>Total Revenue=%{y}<extra></extra>",
         "legendgroup": "Digital Media",
         "line": {
          "color": "#E3EE9E",
          "dash": "solid"
         },
         "marker": {
          "symbol": "circle"
         },
         "mode": "markers+lines",
         "name": "Digital Media",
         "orientation": "v",
         "showlegend": true,
         "type": "scatter",
         "x": [
          2,
          3,
          4,
          5,
          6,
          7,
          8,
          10,
          11,
          12
         ],
         "xaxis": "x",
         "y": [
          246550,
          456513,
          248476.67,
          293760,
          269400,
          164555,
          202846.67,
          119520,
          140307.33,
          1301648
         ],
         "yaxis": "y"
        }
       ],
       "layout": {
        "legend": {
         "title": {
          "text": "Top Product Family"
         },
         "tracegroupgap": 0
        },
        "margin": {
         "t": 60
        },
        "template": {
         "data": {
          "bar": [
           {
            "error_x": {
             "color": "#2a3f5f"
            },
            "error_y": {
             "color": "#2a3f5f"
            },
            "marker": {
             "line": {
              "color": "#E5ECF6",
              "width": 0.5
             },
             "pattern": {
              "fillmode": "overlay",
              "size": 10,
              "solidity": 0.2
             }
            },
            "type": "bar"
           }
          ],
          "barpolar": [
           {
            "marker": {
             "line": {
              "color": "#E5ECF6",
              "width": 0.5
             },
             "pattern": {
              "fillmode": "overlay",
              "size": 10,
              "solidity": 0.2
             }
            },
            "type": "barpolar"
           }
          ],
          "carpet": [
           {
            "aaxis": {
             "endlinecolor": "#2a3f5f",
             "gridcolor": "white",
             "linecolor": "white",
             "minorgridcolor": "white",
             "startlinecolor": "#2a3f5f"
            },
            "baxis": {
             "endlinecolor": "#2a3f5f",
             "gridcolor": "white",
             "linecolor": "white",
             "minorgridcolor": "white",
             "startlinecolor": "#2a3f5f"
            },
            "type": "carpet"
           }
          ],
          "choropleth": [
           {
            "colorbar": {
             "outlinewidth": 0,
             "ticks": ""
            },
            "type": "choropleth"
           }
          ],
          "contour": [
           {
            "colorbar": {
             "outlinewidth": 0,
             "ticks": ""
            },
            "colorscale": [
             [
              0,
              "#0d0887"
             ],
             [
              0.1111111111111111,
              "#46039f"
             ],
             [
              0.2222222222222222,
              "#7201a8"
             ],
             [
              0.3333333333333333,
              "#9c179e"
             ],
             [
              0.4444444444444444,
              "#bd3786"
             ],
             [
              0.5555555555555556,
              "#d8576b"
             ],
             [
              0.6666666666666666,
              "#ed7953"
             ],
             [
              0.7777777777777778,
              "#fb9f3a"
             ],
             [
              0.8888888888888888,
              "#fdca26"
             ],
             [
              1,
              "#f0f921"
             ]
            ],
            "type": "contour"
           }
          ],
          "contourcarpet": [
           {
            "colorbar": {
             "outlinewidth": 0,
             "ticks": ""
            },
            "type": "contourcarpet"
           }
          ],
          "heatmap": [
           {
            "colorbar": {
             "outlinewidth": 0,
             "ticks": ""
            },
            "colorscale": [
             [
              0,
              "#0d0887"
             ],
             [
              0.1111111111111111,
              "#46039f"
             ],
             [
              0.2222222222222222,
              "#7201a8"
             ],
             [
              0.3333333333333333,
              "#9c179e"
             ],
             [
              0.4444444444444444,
              "#bd3786"
             ],
             [
              0.5555555555555556,
              "#d8576b"
             ],
             [
              0.6666666666666666,
              "#ed7953"
             ],
             [
              0.7777777777777778,
              "#fb9f3a"
             ],
             [
              0.8888888888888888,
              "#fdca26"
             ],
             [
              1,
              "#f0f921"
             ]
            ],
            "type": "heatmap"
           }
          ],
          "heatmapgl": [
           {
            "colorbar": {
             "outlinewidth": 0,
             "ticks": ""
            },
            "colorscale": [
             [
              0,
              "#0d0887"
             ],
             [
              0.1111111111111111,
              "#46039f"
             ],
             [
              0.2222222222222222,
              "#7201a8"
             ],
             [
              0.3333333333333333,
              "#9c179e"
             ],
             [
              0.4444444444444444,
              "#bd3786"
             ],
             [
              0.5555555555555556,
              "#d8576b"
             ],
             [
              0.6666666666666666,
              "#ed7953"
             ],
             [
              0.7777777777777778,
              "#fb9f3a"
             ],
             [
              0.8888888888888888,
              "#fdca26"
             ],
             [
              1,
              "#f0f921"
             ]
            ],
            "type": "heatmapgl"
           }
          ],
          "histogram": [
           {
            "marker": {
             "pattern": {
              "fillmode": "overlay",
              "size": 10,
              "solidity": 0.2
             }
            },
            "type": "histogram"
           }
          ],
          "histogram2d": [
           {
            "colorbar": {
             "outlinewidth": 0,
             "ticks": ""
            },
            "colorscale": [
             [
              0,
              "#0d0887"
             ],
             [
              0.1111111111111111,
              "#46039f"
             ],
             [
              0.2222222222222222,
              "#7201a8"
             ],
             [
              0.3333333333333333,
              "#9c179e"
             ],
             [
              0.4444444444444444,
              "#bd3786"
             ],
             [
              0.5555555555555556,
              "#d8576b"
             ],
             [
              0.6666666666666666,
              "#ed7953"
             ],
             [
              0.7777777777777778,
              "#fb9f3a"
             ],
             [
              0.8888888888888888,
              "#fdca26"
             ],
             [
              1,
              "#f0f921"
             ]
            ],
            "type": "histogram2d"
           }
          ],
          "histogram2dcontour": [
           {
            "colorbar": {
             "outlinewidth": 0,
             "ticks": ""
            },
            "colorscale": [
             [
              0,
              "#0d0887"
             ],
             [
              0.1111111111111111,
              "#46039f"
             ],
             [
              0.2222222222222222,
              "#7201a8"
             ],
             [
              0.3333333333333333,
              "#9c179e"
             ],
             [
              0.4444444444444444,
              "#bd3786"
             ],
             [
              0.5555555555555556,
              "#d8576b"
             ],
             [
              0.6666666666666666,
              "#ed7953"
             ],
             [
              0.7777777777777778,
              "#fb9f3a"
             ],
             [
              0.8888888888888888,
              "#fdca26"
             ],
             [
              1,
              "#f0f921"
             ]
            ],
            "type": "histogram2dcontour"
           }
          ],
          "mesh3d": [
           {
            "colorbar": {
             "outlinewidth": 0,
             "ticks": ""
            },
            "type": "mesh3d"
           }
          ],
          "parcoords": [
           {
            "line": {
             "colorbar": {
              "outlinewidth": 0,
              "ticks": ""
             }
            },
            "type": "parcoords"
           }
          ],
          "pie": [
           {
            "automargin": true,
            "type": "pie"
           }
          ],
          "scatter": [
           {
            "fillpattern": {
             "fillmode": "overlay",
             "size": 10,
             "solidity": 0.2
            },
            "type": "scatter"
           }
          ],
          "scatter3d": [
           {
            "line": {
             "colorbar": {
              "outlinewidth": 0,
              "ticks": ""
             }
            },
            "marker": {
             "colorbar": {
              "outlinewidth": 0,
              "ticks": ""
             }
            },
            "type": "scatter3d"
           }
          ],
          "scattercarpet": [
           {
            "marker": {
             "colorbar": {
              "outlinewidth": 0,
              "ticks": ""
             }
            },
            "type": "scattercarpet"
           }
          ],
          "scattergeo": [
           {
            "marker": {
             "colorbar": {
              "outlinewidth": 0,
              "ticks": ""
             }
            },
            "type": "scattergeo"
           }
          ],
          "scattergl": [
           {
            "marker": {
             "colorbar": {
              "outlinewidth": 0,
              "ticks": ""
             }
            },
            "type": "scattergl"
           }
          ],
          "scattermapbox": [
           {
            "marker": {
             "colorbar": {
              "outlinewidth": 0,
              "ticks": ""
             }
            },
            "type": "scattermapbox"
           }
          ],
          "scatterpolar": [
           {
            "marker": {
             "colorbar": {
              "outlinewidth": 0,
              "ticks": ""
             }
            },
            "type": "scatterpolar"
           }
          ],
          "scatterpolargl": [
           {
            "marker": {
             "colorbar": {
              "outlinewidth": 0,
              "ticks": ""
             }
            },
            "type": "scatterpolargl"
           }
          ],
          "scatterternary": [
           {
            "marker": {
             "colorbar": {
              "outlinewidth": 0,
              "ticks": ""
             }
            },
            "type": "scatterternary"
           }
          ],
          "surface": [
           {
            "colorbar": {
             "outlinewidth": 0,
             "ticks": ""
            },
            "colorscale": [
             [
              0,
              "#0d0887"
             ],
             [
              0.1111111111111111,
              "#46039f"
             ],
             [
              0.2222222222222222,
              "#7201a8"
             ],
             [
              0.3333333333333333,
              "#9c179e"
             ],
             [
              0.4444444444444444,
              "#bd3786"
             ],
             [
              0.5555555555555556,
              "#d8576b"
             ],
             [
              0.6666666666666666,
              "#ed7953"
             ],
             [
              0.7777777777777778,
              "#fb9f3a"
             ],
             [
              0.8888888888888888,
              "#fdca26"
             ],
             [
              1,
              "#f0f921"
             ]
            ],
            "type": "surface"
           }
          ],
          "table": [
           {
            "cells": {
             "fill": {
              "color": "#EBF0F8"
             },
             "line": {
              "color": "white"
             }
            },
            "header": {
             "fill": {
              "color": "#C8D4E3"
             },
             "line": {
              "color": "white"
             }
            },
            "type": "table"
           }
          ]
         },
         "layout": {
          "annotationdefaults": {
           "arrowcolor": "#2a3f5f",
           "arrowhead": 0,
           "arrowwidth": 1
          },
          "autotypenumbers": "strict",
          "coloraxis": {
           "colorbar": {
            "outlinewidth": 0,
            "ticks": ""
           }
          },
          "colorscale": {
           "diverging": [
            [
             0,
             "#8e0152"
            ],
            [
             0.1,
             "#c51b7d"
            ],
            [
             0.2,
             "#de77ae"
            ],
            [
             0.3,
             "#f1b6da"
            ],
            [
             0.4,
             "#fde0ef"
            ],
            [
             0.5,
             "#f7f7f7"
            ],
            [
             0.6,
             "#e6f5d0"
            ],
            [
             0.7,
             "#b8e186"
            ],
            [
             0.8,
             "#7fbc41"
            ],
            [
             0.9,
             "#4d9221"
            ],
            [
             1,
             "#276419"
            ]
           ],
           "sequential": [
            [
             0,
             "#0d0887"
            ],
            [
             0.1111111111111111,
             "#46039f"
            ],
            [
             0.2222222222222222,
             "#7201a8"
            ],
            [
             0.3333333333333333,
             "#9c179e"
            ],
            [
             0.4444444444444444,
             "#bd3786"
            ],
            [
             0.5555555555555556,
             "#d8576b"
            ],
            [
             0.6666666666666666,
             "#ed7953"
            ],
            [
             0.7777777777777778,
             "#fb9f3a"
            ],
            [
             0.8888888888888888,
             "#fdca26"
            ],
            [
             1,
             "#f0f921"
            ]
           ],
           "sequentialminus": [
            [
             0,
             "#0d0887"
            ],
            [
             0.1111111111111111,
             "#46039f"
            ],
            [
             0.2222222222222222,
             "#7201a8"
            ],
            [
             0.3333333333333333,
             "#9c179e"
            ],
            [
             0.4444444444444444,
             "#bd3786"
            ],
            [
             0.5555555555555556,
             "#d8576b"
            ],
            [
             0.6666666666666666,
             "#ed7953"
            ],
            [
             0.7777777777777778,
             "#fb9f3a"
            ],
            [
             0.8888888888888888,
             "#fdca26"
            ],
            [
             1,
             "#f0f921"
            ]
           ]
          },
          "colorway": [
           "#636efa",
           "#EF553B",
           "#00cc96",
           "#ab63fa",
           "#FFA15A",
           "#19d3f3",
           "#FF6692",
           "#B6E880",
           "#FF97FF",
           "#FECB52"
          ],
          "font": {
           "color": "#2a3f5f"
          },
          "geo": {
           "bgcolor": "white",
           "lakecolor": "white",
           "landcolor": "#E5ECF6",
           "showlakes": true,
           "showland": true,
           "subunitcolor": "white"
          },
          "hoverlabel": {
           "align": "left"
          },
          "hovermode": "closest",
          "mapbox": {
           "style": "light"
          },
          "paper_bgcolor": "white",
          "plot_bgcolor": "#E5ECF6",
          "polar": {
           "angularaxis": {
            "gridcolor": "white",
            "linecolor": "white",
            "ticks": ""
           },
           "bgcolor": "#E5ECF6",
           "radialaxis": {
            "gridcolor": "white",
            "linecolor": "white",
            "ticks": ""
           }
          },
          "scene": {
           "xaxis": {
            "backgroundcolor": "#E5ECF6",
            "gridcolor": "white",
            "gridwidth": 2,
            "linecolor": "white",
            "showbackground": true,
            "ticks": "",
            "zerolinecolor": "white"
           },
           "yaxis": {
            "backgroundcolor": "#E5ECF6",
            "gridcolor": "white",
            "gridwidth": 2,
            "linecolor": "white",
            "showbackground": true,
            "ticks": "",
            "zerolinecolor": "white"
           },
           "zaxis": {
            "backgroundcolor": "#E5ECF6",
            "gridcolor": "white",
            "gridwidth": 2,
            "linecolor": "white",
            "showbackground": true,
            "ticks": "",
            "zerolinecolor": "white"
           }
          },
          "shapedefaults": {
           "line": {
            "color": "#2a3f5f"
           }
          },
          "ternary": {
           "aaxis": {
            "gridcolor": "white",
            "linecolor": "white",
            "ticks": ""
           },
           "baxis": {
            "gridcolor": "white",
            "linecolor": "white",
            "ticks": ""
           },
           "bgcolor": "#E5ECF6",
           "caxis": {
            "gridcolor": "white",
            "linecolor": "white",
            "ticks": ""
           }
          },
          "title": {
           "x": 0.05
          },
          "xaxis": {
           "automargin": true,
           "gridcolor": "white",
           "linecolor": "white",
           "ticks": "",
           "title": {
            "standoff": 15
           },
           "zerolinecolor": "white",
           "zerolinewidth": 2
          },
          "yaxis": {
           "automargin": true,
           "gridcolor": "white",
           "linecolor": "white",
           "ticks": "",
           "title": {
            "standoff": 15
           },
           "zerolinecolor": "white",
           "zerolinewidth": 2
          }
         }
        },
        "title": {
         "text": "Mean Revenue by Months per Product Category between 2020-2021"
        },
        "xaxis": {
         "anchor": "y",
         "domain": [
          0,
          1
         ],
         "title": {
          "text": "Month"
         }
        },
        "yaxis": {
         "anchor": "x",
         "domain": [
          0,
          1
         ],
         "title": {
          "text": "Total Revenue"
         }
        }
       }
      }
     },
     "metadata": {},
     "output_type": "display_data"
    }
   ],
   "source": [
    "df['Top Product Family'] = df['Top Product Family'].replace(np.nan,'Others_Family')\n",
    "Sales = df.groupby(['First Deal Month','Top Product Family'])['Total Revenue'].mean().reset_index(name='Total Revenue').round(2)\n",
    "fig = px.line(Sales[:], x='First Deal Month',y='Total Revenue', color='Top Product Family', color_discrete_sequence=px.colors.qualitative.Light24_r)\n",
    "fig.update_traces(mode='markers+lines')\n",
    "fig.update_layout(title='Mean Revenue by Months per Product Category between 2020-2021', xaxis_title='Month',yaxis_title='Total Revenue')\n",
    "fig.show()"
   ]
  },
  {
   "cell_type": "markdown",
   "metadata": {},
   "source": [
    "From this Plotly graph, we note that:\n",
    "* Most of the total revenue comes from Laptops between 2M - 3M monthly\n",
    "* The lowest mean revenue is from accessories\n",
    "* Tablets peaked around Januarry before peaking again around November.\n",
    "* Digital Media has peaked only on December"
   ]
  },
  {
   "cell_type": "code",
   "execution_count": 67,
   "metadata": {},
   "outputs": [
    {
     "data": {
      "application/vnd.plotly.v1+json": {
       "config": {
        "plotlyServerURL": "https://plot.ly"
       },
       "data": [
        {
         "alignmentgroup": "True",
         "hovertemplate": "Billing Country=%{x}<br>Total Revenue=%{y}<extra></extra>",
         "legendgroup": "",
         "marker": {
          "color": "#636efa",
          "pattern": {
           "shape": ""
          }
         },
         "name": "",
         "offsetgroup": "",
         "orientation": "v",
         "showlegend": false,
         "textposition": "auto",
         "type": "bar",
         "x": [
          "Japan",
          "Taiwan",
          "Thailand",
          "Japan",
          "Brazil",
          "Canada",
          "Canada",
          "USA",
          "USA",
          "Japan",
          "Canada",
          "Korea",
          "France",
          "India",
          "Normway",
          "Canada",
          "Hong Kong",
          "Canada",
          "Japan",
          "Japan",
          "Germany",
          "Canada",
          "USA",
          "Taiwan",
          "United Kingdom",
          "Canada",
          "Switzerland",
          "Canada",
          "USA",
          "USA",
          "USA",
          "Denmark",
          "USA",
          "Denmark",
          "Canada",
          "Taiwan",
          "USA",
          "Japan",
          "USA",
          "Japan",
          "France",
          "Canada",
          "Mexico",
          "Switzerland",
          "Normway",
          "Italy",
          "Sweden",
          "Russian",
          "Brazil",
          "Russian",
          "Japan",
          "Japan",
          "USA",
          "Brazil",
          "United Kingdom",
          "Canada",
          "USA",
          "Germany",
          "Singapore",
          "Canada",
          "Belgium",
          "Hong Kong",
          "USA",
          "USA",
          "Japan",
          "USA",
          "Japan",
          "Canada",
          "Japan",
          "USA",
          "Hong Kong",
          "Denmark",
          "Thailand",
          "Korea",
          "Turkey",
          "Belgium",
          "Canada",
          "USA",
          "Canada",
          "Hong Kong",
          "Canada",
          "USA",
          "Brazil",
          "USA",
          "Canada",
          "Thailand",
          "Italy",
          "Canada",
          "Canada",
          "USA",
          "Thailand",
          "Canada",
          "Normway",
          "Taiwan",
          "USA",
          "Thailand",
          "China",
          "Normway",
          "Italy",
          "Belgium",
          "USA",
          "Canada",
          "USA",
          "Switzerland",
          "Canada",
          "China",
          "Russian",
          "Sweden",
          "Sweden",
          "Germany",
          "Japan",
          "Russian",
          "Sweden",
          "Taiwan",
          "Japan",
          "USA",
          "Canada",
          "USA",
          "Taiwan",
          "Canada",
          "Switzerland",
          "Italy",
          "USA",
          "China",
          "USA",
          "USA",
          "Canada",
          "USA",
          "Singapore",
          "Japan",
          "Australia",
          "Switzerland",
          "Spain",
          "Belgium",
          "Canada",
          "Taiwan",
          "Singapore",
          "Spain",
          "Normway",
          "Germany",
          "USA",
          "Canada",
          "Japan",
          "Normway",
          "Canada",
          "Singapore",
          "Korea",
          "France",
          "USA",
          "USA",
          "USA",
          "Singapore",
          "Normway",
          "Thailand",
          "Korea",
          "Germany",
          "Canada",
          "China",
          "Germany",
          "Japan",
          "USA",
          "Denmark",
          "Singapore",
          "India",
          "Canada",
          "Mexico",
          "USA",
          "Italy",
          "USA",
          "Japan",
          "Canada",
          "India",
          "Denmark",
          "Mexico",
          "Canada",
          "Canada",
          "Switzerland",
          "Switzerland",
          "Switzerland",
          "Singapore",
          "Belgium",
          "Canada",
          "USA",
          "Singapore",
          "Denmark",
          "Normway",
          "USA",
          "USA",
          "Korea",
          "Canada",
          "Japan",
          "Turkey",
          "Canada",
          "USA",
          "USA",
          "USA",
          "Singapore",
          "Japan",
          "Canada",
          "Canada",
          "Switzerland",
          "USA",
          "India",
          "Australia",
          "USA",
          "Canada",
          "Sweden",
          "USA",
          "Japan",
          "India",
          "Canada",
          "USA",
          "Switzerland",
          "Canada",
          "USA",
          "Australia",
          "Normway",
          "Japan",
          "Canada",
          "Mexico",
          "Singapore",
          "Mexico",
          "USA",
          "Germany",
          "China",
          "Canada",
          "Japan",
          "China",
          "USA",
          "Russian",
          "USA",
          "United Kingdom",
          "USA",
          "USA",
          "USA",
          "Canada",
          "Spain",
          "Japan",
          "USA",
          "Taiwan",
          "Japan",
          "India",
          "USA",
          "USA",
          "Brazil",
          "USA",
          "Sweden",
          "Canada",
          "USA",
          "Italy",
          "Sweden",
          "Canada",
          "Canada",
          "Canada",
          "USA",
          "USA",
          "Thailand",
          "Canada",
          "Canada",
          "Japan",
          "Canada",
          "Germany",
          "China",
          "USA",
          "Canada",
          "Hong Kong",
          "Canada",
          "USA",
          "Hong Kong",
          "Spain",
          "Japan",
          "Australia",
          "Canada",
          "India",
          "Canada",
          "Canada",
          "Japan",
          "Canada",
          "Belgium",
          "Japan",
          "USA",
          "Normway",
          "Canada",
          "Canada",
          "Denmark",
          "USA",
          "Denmark",
          "USA",
          "USA",
          "Canada",
          "Switzerland",
          "Canada",
          "USA",
          "Germany",
          "USA",
          "Mexico",
          "Japan",
          "India",
          "Canada",
          "Normway",
          "Japan",
          "Japan",
          "Italy",
          "Singapore",
          "Brazil",
          "China",
          "USA",
          "Singapore"
         ],
         "xaxis": "x",
         "y": [
          1415700,
          1411200,
          3428800,
          1817900,
          3251640,
          7623400,
          131750,
          69240,
          269400,
          1191000,
          7551530,
          3198400,
          466000,
          3463920,
          390885,
          1402500,
          1458554,
          1268620,
          3803230,
          1452090,
          343000,
          503975,
          2169600,
          3298750,
          66246,
          7341100,
          236610,
          68600,
          448068,
          206000,
          219000,
          323550,
          902400,
          3679325,
          2169564,
          5385720,
          82925,
          196890,
          3694000,
          256275,
          123280,
          2171760,
          1307405,
          2880800,
          657600,
          423635,
          2535805,
          435960,
          89400,
          352350,
          115290,
          116360,
          1052275,
          7747190,
          499928,
          401291,
          110986,
          2101255,
          269122,
          3077200,
          1518190,
          1853874,
          3513380,
          3168250,
          950000,
          87409,
          22520,
          1313950,
          254886,
          1337090,
          1505940,
          329425,
          154353,
          1886550,
          238018,
          1417400,
          273090,
          2764100,
          3426450,
          804275,
          460956,
          163800,
          3285248,
          1885475,
          2673330,
          436500,
          1755000,
          309686,
          48440,
          3579376,
          470298,
          18960,
          339815,
          720875,
          3317750,
          1533140,
          128265,
          5424400,
          411185,
          2038037,
          58840,
          171660,
          2807700,
          965700,
          2518300,
          358100,
          93714,
          424836,
          43355,
          142400,
          1318873,
          476918,
          2207200,
          60760,
          237960,
          898800,
          2083337,
          51480,
          2719000,
          5023650,
          209104,
          218204,
          62400,
          2205998,
          376955,
          2166890,
          2179330,
          236040,
          357606,
          773640,
          2698769,
          200400,
          33600,
          846000,
          165000,
          393782,
          1720330,
          252545,
          775200,
          40900,
          646400,
          333830,
          710500,
          1241600,
          179225,
          198000,
          875880,
          2630075,
          1183700,
          1013770,
          1003453,
          5140365,
          583800,
          146771,
          237840,
          3825390,
          3314900,
          491550,
          1148850,
          84329,
          3851250,
          63600,
          1590600,
          163530,
          1639550,
          1513850,
          18900,
          5280,
          2210350,
          834280,
          94151,
          1318960,
          2124300,
          386375,
          1132600,
          196200,
          249600,
          2294400,
          792270,
          4169710,
          121490,
          1010900,
          1032600,
          761000,
          72720,
          524400,
          424600,
          1241900,
          3712300,
          1840000,
          2734080,
          2389600,
          1542350,
          3907275,
          2839875,
          156655,
          76800,
          663100,
          152400,
          259500,
          3040767,
          791840,
          1805710,
          2155875,
          5677850,
          2763955,
          728525,
          1557765,
          4018990,
          52440,
          3555960,
          5406870,
          230520,
          2477275,
          150043,
          105210,
          2574700,
          3263870,
          6141375,
          789160,
          193500,
          2182350,
          96419,
          725146,
          1598060,
          79550,
          328949,
          2604140,
          25095,
          2374500,
          1518400,
          623750,
          73600,
          2303500,
          54090,
          368530,
          2942705,
          1132470,
          22240,
          263500,
          987000,
          1418640,
          663696,
          2672000,
          3247560,
          218798,
          1438500,
          187880,
          3072000,
          3530300,
          94283,
          1134385,
          5294610,
          24536,
          240747,
          913240,
          681410,
          805000,
          130515,
          79480,
          1377340,
          21640,
          459280,
          457656,
          1224345,
          466893,
          786875,
          193757,
          2265170,
          4107365,
          73903,
          2684465,
          3956860,
          88200,
          2745600,
          316254,
          363901,
          197075,
          399300,
          749210,
          309938,
          9000,
          2276590,
          499603,
          2008900,
          17621,
          316726,
          1939600,
          98850,
          165920,
          1879190,
          736250,
          2094351,
          1578500,
          138690,
          229470,
          1729880,
          402896,
          3510985,
          2632925,
          1186400,
          274656,
          412385,
          89320,
          874780,
          638750,
          1193160,
          2208300
         ],
         "yaxis": "y"
        }
       ],
       "layout": {
        "barmode": "relative",
        "legend": {
         "tracegroupgap": 0
        },
        "margin": {
         "t": 60
        },
        "template": {
         "data": {
          "bar": [
           {
            "error_x": {
             "color": "#2a3f5f"
            },
            "error_y": {
             "color": "#2a3f5f"
            },
            "marker": {
             "line": {
              "color": "#E5ECF6",
              "width": 0.5
             },
             "pattern": {
              "fillmode": "overlay",
              "size": 10,
              "solidity": 0.2
             }
            },
            "type": "bar"
           }
          ],
          "barpolar": [
           {
            "marker": {
             "line": {
              "color": "#E5ECF6",
              "width": 0.5
             },
             "pattern": {
              "fillmode": "overlay",
              "size": 10,
              "solidity": 0.2
             }
            },
            "type": "barpolar"
           }
          ],
          "carpet": [
           {
            "aaxis": {
             "endlinecolor": "#2a3f5f",
             "gridcolor": "white",
             "linecolor": "white",
             "minorgridcolor": "white",
             "startlinecolor": "#2a3f5f"
            },
            "baxis": {
             "endlinecolor": "#2a3f5f",
             "gridcolor": "white",
             "linecolor": "white",
             "minorgridcolor": "white",
             "startlinecolor": "#2a3f5f"
            },
            "type": "carpet"
           }
          ],
          "choropleth": [
           {
            "colorbar": {
             "outlinewidth": 0,
             "ticks": ""
            },
            "type": "choropleth"
           }
          ],
          "contour": [
           {
            "colorbar": {
             "outlinewidth": 0,
             "ticks": ""
            },
            "colorscale": [
             [
              0,
              "#0d0887"
             ],
             [
              0.1111111111111111,
              "#46039f"
             ],
             [
              0.2222222222222222,
              "#7201a8"
             ],
             [
              0.3333333333333333,
              "#9c179e"
             ],
             [
              0.4444444444444444,
              "#bd3786"
             ],
             [
              0.5555555555555556,
              "#d8576b"
             ],
             [
              0.6666666666666666,
              "#ed7953"
             ],
             [
              0.7777777777777778,
              "#fb9f3a"
             ],
             [
              0.8888888888888888,
              "#fdca26"
             ],
             [
              1,
              "#f0f921"
             ]
            ],
            "type": "contour"
           }
          ],
          "contourcarpet": [
           {
            "colorbar": {
             "outlinewidth": 0,
             "ticks": ""
            },
            "type": "contourcarpet"
           }
          ],
          "heatmap": [
           {
            "colorbar": {
             "outlinewidth": 0,
             "ticks": ""
            },
            "colorscale": [
             [
              0,
              "#0d0887"
             ],
             [
              0.1111111111111111,
              "#46039f"
             ],
             [
              0.2222222222222222,
              "#7201a8"
             ],
             [
              0.3333333333333333,
              "#9c179e"
             ],
             [
              0.4444444444444444,
              "#bd3786"
             ],
             [
              0.5555555555555556,
              "#d8576b"
             ],
             [
              0.6666666666666666,
              "#ed7953"
             ],
             [
              0.7777777777777778,
              "#fb9f3a"
             ],
             [
              0.8888888888888888,
              "#fdca26"
             ],
             [
              1,
              "#f0f921"
             ]
            ],
            "type": "heatmap"
           }
          ],
          "heatmapgl": [
           {
            "colorbar": {
             "outlinewidth": 0,
             "ticks": ""
            },
            "colorscale": [
             [
              0,
              "#0d0887"
             ],
             [
              0.1111111111111111,
              "#46039f"
             ],
             [
              0.2222222222222222,
              "#7201a8"
             ],
             [
              0.3333333333333333,
              "#9c179e"
             ],
             [
              0.4444444444444444,
              "#bd3786"
             ],
             [
              0.5555555555555556,
              "#d8576b"
             ],
             [
              0.6666666666666666,
              "#ed7953"
             ],
             [
              0.7777777777777778,
              "#fb9f3a"
             ],
             [
              0.8888888888888888,
              "#fdca26"
             ],
             [
              1,
              "#f0f921"
             ]
            ],
            "type": "heatmapgl"
           }
          ],
          "histogram": [
           {
            "marker": {
             "pattern": {
              "fillmode": "overlay",
              "size": 10,
              "solidity": 0.2
             }
            },
            "type": "histogram"
           }
          ],
          "histogram2d": [
           {
            "colorbar": {
             "outlinewidth": 0,
             "ticks": ""
            },
            "colorscale": [
             [
              0,
              "#0d0887"
             ],
             [
              0.1111111111111111,
              "#46039f"
             ],
             [
              0.2222222222222222,
              "#7201a8"
             ],
             [
              0.3333333333333333,
              "#9c179e"
             ],
             [
              0.4444444444444444,
              "#bd3786"
             ],
             [
              0.5555555555555556,
              "#d8576b"
             ],
             [
              0.6666666666666666,
              "#ed7953"
             ],
             [
              0.7777777777777778,
              "#fb9f3a"
             ],
             [
              0.8888888888888888,
              "#fdca26"
             ],
             [
              1,
              "#f0f921"
             ]
            ],
            "type": "histogram2d"
           }
          ],
          "histogram2dcontour": [
           {
            "colorbar": {
             "outlinewidth": 0,
             "ticks": ""
            },
            "colorscale": [
             [
              0,
              "#0d0887"
             ],
             [
              0.1111111111111111,
              "#46039f"
             ],
             [
              0.2222222222222222,
              "#7201a8"
             ],
             [
              0.3333333333333333,
              "#9c179e"
             ],
             [
              0.4444444444444444,
              "#bd3786"
             ],
             [
              0.5555555555555556,
              "#d8576b"
             ],
             [
              0.6666666666666666,
              "#ed7953"
             ],
             [
              0.7777777777777778,
              "#fb9f3a"
             ],
             [
              0.8888888888888888,
              "#fdca26"
             ],
             [
              1,
              "#f0f921"
             ]
            ],
            "type": "histogram2dcontour"
           }
          ],
          "mesh3d": [
           {
            "colorbar": {
             "outlinewidth": 0,
             "ticks": ""
            },
            "type": "mesh3d"
           }
          ],
          "parcoords": [
           {
            "line": {
             "colorbar": {
              "outlinewidth": 0,
              "ticks": ""
             }
            },
            "type": "parcoords"
           }
          ],
          "pie": [
           {
            "automargin": true,
            "type": "pie"
           }
          ],
          "scatter": [
           {
            "fillpattern": {
             "fillmode": "overlay",
             "size": 10,
             "solidity": 0.2
            },
            "type": "scatter"
           }
          ],
          "scatter3d": [
           {
            "line": {
             "colorbar": {
              "outlinewidth": 0,
              "ticks": ""
             }
            },
            "marker": {
             "colorbar": {
              "outlinewidth": 0,
              "ticks": ""
             }
            },
            "type": "scatter3d"
           }
          ],
          "scattercarpet": [
           {
            "marker": {
             "colorbar": {
              "outlinewidth": 0,
              "ticks": ""
             }
            },
            "type": "scattercarpet"
           }
          ],
          "scattergeo": [
           {
            "marker": {
             "colorbar": {
              "outlinewidth": 0,
              "ticks": ""
             }
            },
            "type": "scattergeo"
           }
          ],
          "scattergl": [
           {
            "marker": {
             "colorbar": {
              "outlinewidth": 0,
              "ticks": ""
             }
            },
            "type": "scattergl"
           }
          ],
          "scattermapbox": [
           {
            "marker": {
             "colorbar": {
              "outlinewidth": 0,
              "ticks": ""
             }
            },
            "type": "scattermapbox"
           }
          ],
          "scatterpolar": [
           {
            "marker": {
             "colorbar": {
              "outlinewidth": 0,
              "ticks": ""
             }
            },
            "type": "scatterpolar"
           }
          ],
          "scatterpolargl": [
           {
            "marker": {
             "colorbar": {
              "outlinewidth": 0,
              "ticks": ""
             }
            },
            "type": "scatterpolargl"
           }
          ],
          "scatterternary": [
           {
            "marker": {
             "colorbar": {
              "outlinewidth": 0,
              "ticks": ""
             }
            },
            "type": "scatterternary"
           }
          ],
          "surface": [
           {
            "colorbar": {
             "outlinewidth": 0,
             "ticks": ""
            },
            "colorscale": [
             [
              0,
              "#0d0887"
             ],
             [
              0.1111111111111111,
              "#46039f"
             ],
             [
              0.2222222222222222,
              "#7201a8"
             ],
             [
              0.3333333333333333,
              "#9c179e"
             ],
             [
              0.4444444444444444,
              "#bd3786"
             ],
             [
              0.5555555555555556,
              "#d8576b"
             ],
             [
              0.6666666666666666,
              "#ed7953"
             ],
             [
              0.7777777777777778,
              "#fb9f3a"
             ],
             [
              0.8888888888888888,
              "#fdca26"
             ],
             [
              1,
              "#f0f921"
             ]
            ],
            "type": "surface"
           }
          ],
          "table": [
           {
            "cells": {
             "fill": {
              "color": "#EBF0F8"
             },
             "line": {
              "color": "white"
             }
            },
            "header": {
             "fill": {
              "color": "#C8D4E3"
             },
             "line": {
              "color": "white"
             }
            },
            "type": "table"
           }
          ]
         },
         "layout": {
          "annotationdefaults": {
           "arrowcolor": "#2a3f5f",
           "arrowhead": 0,
           "arrowwidth": 1
          },
          "autotypenumbers": "strict",
          "coloraxis": {
           "colorbar": {
            "outlinewidth": 0,
            "ticks": ""
           }
          },
          "colorscale": {
           "diverging": [
            [
             0,
             "#8e0152"
            ],
            [
             0.1,
             "#c51b7d"
            ],
            [
             0.2,
             "#de77ae"
            ],
            [
             0.3,
             "#f1b6da"
            ],
            [
             0.4,
             "#fde0ef"
            ],
            [
             0.5,
             "#f7f7f7"
            ],
            [
             0.6,
             "#e6f5d0"
            ],
            [
             0.7,
             "#b8e186"
            ],
            [
             0.8,
             "#7fbc41"
            ],
            [
             0.9,
             "#4d9221"
            ],
            [
             1,
             "#276419"
            ]
           ],
           "sequential": [
            [
             0,
             "#0d0887"
            ],
            [
             0.1111111111111111,
             "#46039f"
            ],
            [
             0.2222222222222222,
             "#7201a8"
            ],
            [
             0.3333333333333333,
             "#9c179e"
            ],
            [
             0.4444444444444444,
             "#bd3786"
            ],
            [
             0.5555555555555556,
             "#d8576b"
            ],
            [
             0.6666666666666666,
             "#ed7953"
            ],
            [
             0.7777777777777778,
             "#fb9f3a"
            ],
            [
             0.8888888888888888,
             "#fdca26"
            ],
            [
             1,
             "#f0f921"
            ]
           ],
           "sequentialminus": [
            [
             0,
             "#0d0887"
            ],
            [
             0.1111111111111111,
             "#46039f"
            ],
            [
             0.2222222222222222,
             "#7201a8"
            ],
            [
             0.3333333333333333,
             "#9c179e"
            ],
            [
             0.4444444444444444,
             "#bd3786"
            ],
            [
             0.5555555555555556,
             "#d8576b"
            ],
            [
             0.6666666666666666,
             "#ed7953"
            ],
            [
             0.7777777777777778,
             "#fb9f3a"
            ],
            [
             0.8888888888888888,
             "#fdca26"
            ],
            [
             1,
             "#f0f921"
            ]
           ]
          },
          "colorway": [
           "#636efa",
           "#EF553B",
           "#00cc96",
           "#ab63fa",
           "#FFA15A",
           "#19d3f3",
           "#FF6692",
           "#B6E880",
           "#FF97FF",
           "#FECB52"
          ],
          "font": {
           "color": "#2a3f5f"
          },
          "geo": {
           "bgcolor": "white",
           "lakecolor": "white",
           "landcolor": "#E5ECF6",
           "showlakes": true,
           "showland": true,
           "subunitcolor": "white"
          },
          "hoverlabel": {
           "align": "left"
          },
          "hovermode": "closest",
          "mapbox": {
           "style": "light"
          },
          "paper_bgcolor": "white",
          "plot_bgcolor": "#E5ECF6",
          "polar": {
           "angularaxis": {
            "gridcolor": "white",
            "linecolor": "white",
            "ticks": ""
           },
           "bgcolor": "#E5ECF6",
           "radialaxis": {
            "gridcolor": "white",
            "linecolor": "white",
            "ticks": ""
           }
          },
          "scene": {
           "xaxis": {
            "backgroundcolor": "#E5ECF6",
            "gridcolor": "white",
            "gridwidth": 2,
            "linecolor": "white",
            "showbackground": true,
            "ticks": "",
            "zerolinecolor": "white"
           },
           "yaxis": {
            "backgroundcolor": "#E5ECF6",
            "gridcolor": "white",
            "gridwidth": 2,
            "linecolor": "white",
            "showbackground": true,
            "ticks": "",
            "zerolinecolor": "white"
           },
           "zaxis": {
            "backgroundcolor": "#E5ECF6",
            "gridcolor": "white",
            "gridwidth": 2,
            "linecolor": "white",
            "showbackground": true,
            "ticks": "",
            "zerolinecolor": "white"
           }
          },
          "shapedefaults": {
           "line": {
            "color": "#2a3f5f"
           }
          },
          "ternary": {
           "aaxis": {
            "gridcolor": "white",
            "linecolor": "white",
            "ticks": ""
           },
           "baxis": {
            "gridcolor": "white",
            "linecolor": "white",
            "ticks": ""
           },
           "bgcolor": "#E5ECF6",
           "caxis": {
            "gridcolor": "white",
            "linecolor": "white",
            "ticks": ""
           }
          },
          "title": {
           "x": 0.05
          },
          "xaxis": {
           "automargin": true,
           "gridcolor": "white",
           "linecolor": "white",
           "ticks": "",
           "title": {
            "standoff": 15
           },
           "zerolinecolor": "white",
           "zerolinewidth": 2
          },
          "yaxis": {
           "automargin": true,
           "gridcolor": "white",
           "linecolor": "white",
           "ticks": "",
           "title": {
            "standoff": 15
           },
           "zerolinecolor": "white",
           "zerolinewidth": 2
          }
         }
        },
        "title": {
         "text": "Total Revenue by Countries"
        },
        "uniformtext": {
         "minsize": 10,
         "mode": "hide"
        },
        "xaxis": {
         "anchor": "y",
         "domain": [
          0,
          1
         ],
         "title": {
          "text": "Billing Country"
         }
        },
        "yaxis": {
         "anchor": "x",
         "domain": [
          0,
          1
         ],
         "title": {
          "text": "Total Revenue"
         }
        }
       }
      }
     },
     "metadata": {},
     "output_type": "display_data"
    }
   ],
   "source": [
    "df2 = df\n",
    "fig = px.bar(df2, y='Total Revenue',x='Billing Country')\n",
    "fig.update_layout(uniformtext_minsize=10, uniformtext_mode='hide',title='Total Revenue by Countries')\n",
    "fig.show()"
   ]
  },
  {
   "cell_type": "markdown",
   "metadata": {},
   "source": [
    "Most of the TOTAL revenue comes from Canada(around 110M), followed by the US (85M)."
   ]
  },
  {
   "cell_type": "code",
   "execution_count": 68,
   "metadata": {},
   "outputs": [
    {
     "data": {
      "application/vnd.plotly.v1+json": {
       "config": {
        "plotlyServerURL": "https://plot.ly"
       },
       "data": [
        {
         "alignmentgroup": "True",
         "hovertemplate": "Billing State/Province=%{x}<br>Total Revenue=%{y}<extra></extra>",
         "legendgroup": "",
         "marker": {
          "color": "#636efa",
          "pattern": {
           "shape": ""
          }
         },
         "name": "",
         "offsetgroup": "",
         "orientation": "v",
         "showlegend": false,
         "textposition": "auto",
         "type": "bar",
         "x": [
          null,
          null,
          null,
          null,
          null,
          "NJ",
          "MS",
          "CT",
          "CO",
          null,
          "HI",
          null,
          null,
          null,
          null,
          "NY",
          null,
          "NE",
          null,
          null,
          null,
          "NE",
          "CO",
          null,
          null,
          "VA",
          null,
          "MI",
          "ND",
          "ME",
          "IA",
          null,
          "MO",
          null,
          "FL",
          null,
          "MA",
          null,
          "NM",
          null,
          null,
          "CA",
          null,
          null,
          null,
          null,
          null,
          null,
          null,
          null,
          null,
          null,
          "VT",
          null,
          null,
          "PA",
          "MO",
          null,
          null,
          "NM",
          null,
          null,
          "FL",
          "AZ",
          null,
          "ME",
          null,
          "AZ",
          null,
          "WA",
          null,
          null,
          null,
          null,
          null,
          null,
          "MD",
          "MT",
          "MT",
          null,
          "MA",
          "IL",
          null,
          "MS",
          "OH",
          null,
          null,
          "NY",
          "OH",
          "OR",
          null,
          "UT",
          null,
          null,
          "AR",
          null,
          null,
          null,
          null,
          null,
          "NC",
          "CA",
          "NE",
          null,
          "NE",
          null,
          null,
          null,
          null,
          null,
          null,
          null,
          null,
          null,
          null,
          "MD",
          "NH",
          "KS",
          null,
          "MI",
          null,
          null,
          "LA",
          null,
          "MN",
          "MN",
          "ID",
          "MO",
          null,
          null,
          null,
          null,
          null,
          null,
          "LA",
          null,
          null,
          null,
          null,
          null,
          "RI",
          "MT",
          null,
          null,
          "DE",
          null,
          null,
          null,
          "LA",
          "WA",
          "IA",
          null,
          null,
          null,
          null,
          null,
          "NH",
          null,
          null,
          null,
          "NJ",
          null,
          null,
          null,
          "FL",
          null,
          "GA",
          null,
          "NM",
          null,
          "SC",
          null,
          null,
          null,
          "AZ",
          "TX",
          null,
          null,
          null,
          null,
          null,
          "MI",
          "OH",
          null,
          null,
          null,
          "MD",
          "VA",
          null,
          "OH",
          null,
          null,
          "AR",
          "LA",
          "OH",
          "ID",
          null,
          null,
          "NH",
          "LA",
          null,
          "ND",
          null,
          null,
          "DE",
          "UT",
          null,
          "MN",
          null,
          null,
          "VA",
          "GA",
          null,
          "MA",
          "FL",
          null,
          null,
          null,
          "TX",
          null,
          null,
          null,
          "MO",
          null,
          null,
          "IA",
          null,
          null,
          "TN",
          null,
          "ID",
          null,
          "CT",
          "OR",
          "ID",
          "CT",
          null,
          null,
          "NC",
          null,
          null,
          null,
          "ME",
          "CO",
          null,
          "OK",
          null,
          "OK",
          "MI",
          null,
          null,
          "OR",
          "IN",
          "ID",
          "HI",
          "MN",
          null,
          "WA",
          "DE",
          null,
          "ND",
          null,
          null,
          "IN",
          "SD",
          null,
          "LA",
          "RI",
          null,
          null,
          null,
          null,
          "IL",
          null,
          "KY",
          "ME",
          null,
          "LA",
          null,
          null,
          "HI",
          null,
          "PA",
          "KY",
          null,
          "SC",
          null,
          "IL",
          "AR",
          "NH",
          null,
          "OK",
          "TX",
          null,
          "GA",
          null,
          null,
          null,
          "MS",
          null,
          null,
          null,
          null,
          null,
          null,
          null,
          "AZ",
          null
         ],
         "xaxis": "x",
         "y": [
          1415700,
          1411200,
          3428800,
          1817900,
          3251640,
          7623400,
          131750,
          69240,
          269400,
          1191000,
          7551530,
          3198400,
          466000,
          3463920,
          390885,
          1402500,
          1458554,
          1268620,
          3803230,
          1452090,
          343000,
          503975,
          2169600,
          3298750,
          66246,
          7341100,
          236610,
          68600,
          448068,
          206000,
          219000,
          323550,
          902400,
          3679325,
          2169564,
          5385720,
          82925,
          196890,
          3694000,
          256275,
          123280,
          2171760,
          1307405,
          2880800,
          657600,
          423635,
          2535805,
          435960,
          89400,
          352350,
          115290,
          116360,
          1052275,
          7747190,
          499928,
          401291,
          110986,
          2101255,
          269122,
          3077200,
          1518190,
          1853874,
          3513380,
          3168250,
          950000,
          87409,
          22520,
          1313950,
          254886,
          1337090,
          1505940,
          329425,
          154353,
          1886550,
          238018,
          1417400,
          273090,
          2764100,
          3426450,
          804275,
          460956,
          163800,
          3285248,
          1885475,
          2673330,
          436500,
          1755000,
          309686,
          48440,
          3579376,
          470298,
          18960,
          339815,
          720875,
          3317750,
          1533140,
          128265,
          5424400,
          411185,
          2038037,
          58840,
          171660,
          2807700,
          965700,
          2518300,
          358100,
          93714,
          424836,
          43355,
          142400,
          1318873,
          476918,
          2207200,
          60760,
          237960,
          898800,
          2083337,
          51480,
          2719000,
          5023650,
          209104,
          218204,
          62400,
          2205998,
          376955,
          2166890,
          2179330,
          236040,
          357606,
          773640,
          2698769,
          200400,
          33600,
          846000,
          165000,
          393782,
          1720330,
          252545,
          775200,
          40900,
          646400,
          333830,
          710500,
          1241600,
          179225,
          198000,
          875880,
          2630075,
          1183700,
          1013770,
          1003453,
          5140365,
          583800,
          146771,
          237840,
          3825390,
          3314900,
          491550,
          1148850,
          84329,
          3851250,
          63600,
          1590600,
          163530,
          1639550,
          1513850,
          18900,
          5280,
          2210350,
          834280,
          94151,
          1318960,
          2124300,
          386375,
          1132600,
          196200,
          249600,
          2294400,
          792270,
          4169710,
          121490,
          1010900,
          1032600,
          761000,
          72720,
          524400,
          424600,
          1241900,
          3712300,
          1840000,
          2734080,
          2389600,
          1542350,
          3907275,
          2839875,
          156655,
          76800,
          663100,
          152400,
          259500,
          3040767,
          791840,
          1805710,
          2155875,
          5677850,
          2763955,
          728525,
          1557765,
          4018990,
          52440,
          3555960,
          5406870,
          230520,
          2477275,
          150043,
          105210,
          2574700,
          3263870,
          6141375,
          789160,
          193500,
          2182350,
          96419,
          725146,
          1598060,
          79550,
          328949,
          2604140,
          25095,
          2374500,
          1518400,
          623750,
          73600,
          2303500,
          54090,
          368530,
          2942705,
          1132470,
          22240,
          263500,
          987000,
          1418640,
          663696,
          2672000,
          3247560,
          218798,
          1438500,
          187880,
          3072000,
          3530300,
          94283,
          1134385,
          5294610,
          24536,
          240747,
          913240,
          681410,
          805000,
          130515,
          79480,
          1377340,
          21640,
          459280,
          457656,
          1224345,
          466893,
          786875,
          193757,
          2265170,
          4107365,
          73903,
          2684465,
          3956860,
          88200,
          2745600,
          316254,
          363901,
          197075,
          399300,
          749210,
          309938,
          9000,
          2276590,
          499603,
          2008900,
          17621,
          316726,
          1939600,
          98850,
          165920,
          1879190,
          736250,
          2094351,
          1578500,
          138690,
          229470,
          1729880,
          402896,
          3510985,
          2632925,
          1186400,
          274656,
          412385,
          89320,
          874780,
          638750,
          1193160,
          2208300
         ],
         "yaxis": "y"
        }
       ],
       "layout": {
        "barmode": "relative",
        "legend": {
         "tracegroupgap": 0
        },
        "margin": {
         "t": 60
        },
        "template": {
         "data": {
          "bar": [
           {
            "error_x": {
             "color": "#2a3f5f"
            },
            "error_y": {
             "color": "#2a3f5f"
            },
            "marker": {
             "line": {
              "color": "#E5ECF6",
              "width": 0.5
             },
             "pattern": {
              "fillmode": "overlay",
              "size": 10,
              "solidity": 0.2
             }
            },
            "type": "bar"
           }
          ],
          "barpolar": [
           {
            "marker": {
             "line": {
              "color": "#E5ECF6",
              "width": 0.5
             },
             "pattern": {
              "fillmode": "overlay",
              "size": 10,
              "solidity": 0.2
             }
            },
            "type": "barpolar"
           }
          ],
          "carpet": [
           {
            "aaxis": {
             "endlinecolor": "#2a3f5f",
             "gridcolor": "white",
             "linecolor": "white",
             "minorgridcolor": "white",
             "startlinecolor": "#2a3f5f"
            },
            "baxis": {
             "endlinecolor": "#2a3f5f",
             "gridcolor": "white",
             "linecolor": "white",
             "minorgridcolor": "white",
             "startlinecolor": "#2a3f5f"
            },
            "type": "carpet"
           }
          ],
          "choropleth": [
           {
            "colorbar": {
             "outlinewidth": 0,
             "ticks": ""
            },
            "type": "choropleth"
           }
          ],
          "contour": [
           {
            "colorbar": {
             "outlinewidth": 0,
             "ticks": ""
            },
            "colorscale": [
             [
              0,
              "#0d0887"
             ],
             [
              0.1111111111111111,
              "#46039f"
             ],
             [
              0.2222222222222222,
              "#7201a8"
             ],
             [
              0.3333333333333333,
              "#9c179e"
             ],
             [
              0.4444444444444444,
              "#bd3786"
             ],
             [
              0.5555555555555556,
              "#d8576b"
             ],
             [
              0.6666666666666666,
              "#ed7953"
             ],
             [
              0.7777777777777778,
              "#fb9f3a"
             ],
             [
              0.8888888888888888,
              "#fdca26"
             ],
             [
              1,
              "#f0f921"
             ]
            ],
            "type": "contour"
           }
          ],
          "contourcarpet": [
           {
            "colorbar": {
             "outlinewidth": 0,
             "ticks": ""
            },
            "type": "contourcarpet"
           }
          ],
          "heatmap": [
           {
            "colorbar": {
             "outlinewidth": 0,
             "ticks": ""
            },
            "colorscale": [
             [
              0,
              "#0d0887"
             ],
             [
              0.1111111111111111,
              "#46039f"
             ],
             [
              0.2222222222222222,
              "#7201a8"
             ],
             [
              0.3333333333333333,
              "#9c179e"
             ],
             [
              0.4444444444444444,
              "#bd3786"
             ],
             [
              0.5555555555555556,
              "#d8576b"
             ],
             [
              0.6666666666666666,
              "#ed7953"
             ],
             [
              0.7777777777777778,
              "#fb9f3a"
             ],
             [
              0.8888888888888888,
              "#fdca26"
             ],
             [
              1,
              "#f0f921"
             ]
            ],
            "type": "heatmap"
           }
          ],
          "heatmapgl": [
           {
            "colorbar": {
             "outlinewidth": 0,
             "ticks": ""
            },
            "colorscale": [
             [
              0,
              "#0d0887"
             ],
             [
              0.1111111111111111,
              "#46039f"
             ],
             [
              0.2222222222222222,
              "#7201a8"
             ],
             [
              0.3333333333333333,
              "#9c179e"
             ],
             [
              0.4444444444444444,
              "#bd3786"
             ],
             [
              0.5555555555555556,
              "#d8576b"
             ],
             [
              0.6666666666666666,
              "#ed7953"
             ],
             [
              0.7777777777777778,
              "#fb9f3a"
             ],
             [
              0.8888888888888888,
              "#fdca26"
             ],
             [
              1,
              "#f0f921"
             ]
            ],
            "type": "heatmapgl"
           }
          ],
          "histogram": [
           {
            "marker": {
             "pattern": {
              "fillmode": "overlay",
              "size": 10,
              "solidity": 0.2
             }
            },
            "type": "histogram"
           }
          ],
          "histogram2d": [
           {
            "colorbar": {
             "outlinewidth": 0,
             "ticks": ""
            },
            "colorscale": [
             [
              0,
              "#0d0887"
             ],
             [
              0.1111111111111111,
              "#46039f"
             ],
             [
              0.2222222222222222,
              "#7201a8"
             ],
             [
              0.3333333333333333,
              "#9c179e"
             ],
             [
              0.4444444444444444,
              "#bd3786"
             ],
             [
              0.5555555555555556,
              "#d8576b"
             ],
             [
              0.6666666666666666,
              "#ed7953"
             ],
             [
              0.7777777777777778,
              "#fb9f3a"
             ],
             [
              0.8888888888888888,
              "#fdca26"
             ],
             [
              1,
              "#f0f921"
             ]
            ],
            "type": "histogram2d"
           }
          ],
          "histogram2dcontour": [
           {
            "colorbar": {
             "outlinewidth": 0,
             "ticks": ""
            },
            "colorscale": [
             [
              0,
              "#0d0887"
             ],
             [
              0.1111111111111111,
              "#46039f"
             ],
             [
              0.2222222222222222,
              "#7201a8"
             ],
             [
              0.3333333333333333,
              "#9c179e"
             ],
             [
              0.4444444444444444,
              "#bd3786"
             ],
             [
              0.5555555555555556,
              "#d8576b"
             ],
             [
              0.6666666666666666,
              "#ed7953"
             ],
             [
              0.7777777777777778,
              "#fb9f3a"
             ],
             [
              0.8888888888888888,
              "#fdca26"
             ],
             [
              1,
              "#f0f921"
             ]
            ],
            "type": "histogram2dcontour"
           }
          ],
          "mesh3d": [
           {
            "colorbar": {
             "outlinewidth": 0,
             "ticks": ""
            },
            "type": "mesh3d"
           }
          ],
          "parcoords": [
           {
            "line": {
             "colorbar": {
              "outlinewidth": 0,
              "ticks": ""
             }
            },
            "type": "parcoords"
           }
          ],
          "pie": [
           {
            "automargin": true,
            "type": "pie"
           }
          ],
          "scatter": [
           {
            "fillpattern": {
             "fillmode": "overlay",
             "size": 10,
             "solidity": 0.2
            },
            "type": "scatter"
           }
          ],
          "scatter3d": [
           {
            "line": {
             "colorbar": {
              "outlinewidth": 0,
              "ticks": ""
             }
            },
            "marker": {
             "colorbar": {
              "outlinewidth": 0,
              "ticks": ""
             }
            },
            "type": "scatter3d"
           }
          ],
          "scattercarpet": [
           {
            "marker": {
             "colorbar": {
              "outlinewidth": 0,
              "ticks": ""
             }
            },
            "type": "scattercarpet"
           }
          ],
          "scattergeo": [
           {
            "marker": {
             "colorbar": {
              "outlinewidth": 0,
              "ticks": ""
             }
            },
            "type": "scattergeo"
           }
          ],
          "scattergl": [
           {
            "marker": {
             "colorbar": {
              "outlinewidth": 0,
              "ticks": ""
             }
            },
            "type": "scattergl"
           }
          ],
          "scattermapbox": [
           {
            "marker": {
             "colorbar": {
              "outlinewidth": 0,
              "ticks": ""
             }
            },
            "type": "scattermapbox"
           }
          ],
          "scatterpolar": [
           {
            "marker": {
             "colorbar": {
              "outlinewidth": 0,
              "ticks": ""
             }
            },
            "type": "scatterpolar"
           }
          ],
          "scatterpolargl": [
           {
            "marker": {
             "colorbar": {
              "outlinewidth": 0,
              "ticks": ""
             }
            },
            "type": "scatterpolargl"
           }
          ],
          "scatterternary": [
           {
            "marker": {
             "colorbar": {
              "outlinewidth": 0,
              "ticks": ""
             }
            },
            "type": "scatterternary"
           }
          ],
          "surface": [
           {
            "colorbar": {
             "outlinewidth": 0,
             "ticks": ""
            },
            "colorscale": [
             [
              0,
              "#0d0887"
             ],
             [
              0.1111111111111111,
              "#46039f"
             ],
             [
              0.2222222222222222,
              "#7201a8"
             ],
             [
              0.3333333333333333,
              "#9c179e"
             ],
             [
              0.4444444444444444,
              "#bd3786"
             ],
             [
              0.5555555555555556,
              "#d8576b"
             ],
             [
              0.6666666666666666,
              "#ed7953"
             ],
             [
              0.7777777777777778,
              "#fb9f3a"
             ],
             [
              0.8888888888888888,
              "#fdca26"
             ],
             [
              1,
              "#f0f921"
             ]
            ],
            "type": "surface"
           }
          ],
          "table": [
           {
            "cells": {
             "fill": {
              "color": "#EBF0F8"
             },
             "line": {
              "color": "white"
             }
            },
            "header": {
             "fill": {
              "color": "#C8D4E3"
             },
             "line": {
              "color": "white"
             }
            },
            "type": "table"
           }
          ]
         },
         "layout": {
          "annotationdefaults": {
           "arrowcolor": "#2a3f5f",
           "arrowhead": 0,
           "arrowwidth": 1
          },
          "autotypenumbers": "strict",
          "coloraxis": {
           "colorbar": {
            "outlinewidth": 0,
            "ticks": ""
           }
          },
          "colorscale": {
           "diverging": [
            [
             0,
             "#8e0152"
            ],
            [
             0.1,
             "#c51b7d"
            ],
            [
             0.2,
             "#de77ae"
            ],
            [
             0.3,
             "#f1b6da"
            ],
            [
             0.4,
             "#fde0ef"
            ],
            [
             0.5,
             "#f7f7f7"
            ],
            [
             0.6,
             "#e6f5d0"
            ],
            [
             0.7,
             "#b8e186"
            ],
            [
             0.8,
             "#7fbc41"
            ],
            [
             0.9,
             "#4d9221"
            ],
            [
             1,
             "#276419"
            ]
           ],
           "sequential": [
            [
             0,
             "#0d0887"
            ],
            [
             0.1111111111111111,
             "#46039f"
            ],
            [
             0.2222222222222222,
             "#7201a8"
            ],
            [
             0.3333333333333333,
             "#9c179e"
            ],
            [
             0.4444444444444444,
             "#bd3786"
            ],
            [
             0.5555555555555556,
             "#d8576b"
            ],
            [
             0.6666666666666666,
             "#ed7953"
            ],
            [
             0.7777777777777778,
             "#fb9f3a"
            ],
            [
             0.8888888888888888,
             "#fdca26"
            ],
            [
             1,
             "#f0f921"
            ]
           ],
           "sequentialminus": [
            [
             0,
             "#0d0887"
            ],
            [
             0.1111111111111111,
             "#46039f"
            ],
            [
             0.2222222222222222,
             "#7201a8"
            ],
            [
             0.3333333333333333,
             "#9c179e"
            ],
            [
             0.4444444444444444,
             "#bd3786"
            ],
            [
             0.5555555555555556,
             "#d8576b"
            ],
            [
             0.6666666666666666,
             "#ed7953"
            ],
            [
             0.7777777777777778,
             "#fb9f3a"
            ],
            [
             0.8888888888888888,
             "#fdca26"
            ],
            [
             1,
             "#f0f921"
            ]
           ]
          },
          "colorway": [
           "#636efa",
           "#EF553B",
           "#00cc96",
           "#ab63fa",
           "#FFA15A",
           "#19d3f3",
           "#FF6692",
           "#B6E880",
           "#FF97FF",
           "#FECB52"
          ],
          "font": {
           "color": "#2a3f5f"
          },
          "geo": {
           "bgcolor": "white",
           "lakecolor": "white",
           "landcolor": "#E5ECF6",
           "showlakes": true,
           "showland": true,
           "subunitcolor": "white"
          },
          "hoverlabel": {
           "align": "left"
          },
          "hovermode": "closest",
          "mapbox": {
           "style": "light"
          },
          "paper_bgcolor": "white",
          "plot_bgcolor": "#E5ECF6",
          "polar": {
           "angularaxis": {
            "gridcolor": "white",
            "linecolor": "white",
            "ticks": ""
           },
           "bgcolor": "#E5ECF6",
           "radialaxis": {
            "gridcolor": "white",
            "linecolor": "white",
            "ticks": ""
           }
          },
          "scene": {
           "xaxis": {
            "backgroundcolor": "#E5ECF6",
            "gridcolor": "white",
            "gridwidth": 2,
            "linecolor": "white",
            "showbackground": true,
            "ticks": "",
            "zerolinecolor": "white"
           },
           "yaxis": {
            "backgroundcolor": "#E5ECF6",
            "gridcolor": "white",
            "gridwidth": 2,
            "linecolor": "white",
            "showbackground": true,
            "ticks": "",
            "zerolinecolor": "white"
           },
           "zaxis": {
            "backgroundcolor": "#E5ECF6",
            "gridcolor": "white",
            "gridwidth": 2,
            "linecolor": "white",
            "showbackground": true,
            "ticks": "",
            "zerolinecolor": "white"
           }
          },
          "shapedefaults": {
           "line": {
            "color": "#2a3f5f"
           }
          },
          "ternary": {
           "aaxis": {
            "gridcolor": "white",
            "linecolor": "white",
            "ticks": ""
           },
           "baxis": {
            "gridcolor": "white",
            "linecolor": "white",
            "ticks": ""
           },
           "bgcolor": "#E5ECF6",
           "caxis": {
            "gridcolor": "white",
            "linecolor": "white",
            "ticks": ""
           }
          },
          "title": {
           "x": 0.05
          },
          "xaxis": {
           "automargin": true,
           "gridcolor": "white",
           "linecolor": "white",
           "ticks": "",
           "title": {
            "standoff": 15
           },
           "zerolinecolor": "white",
           "zerolinewidth": 2
          },
          "yaxis": {
           "automargin": true,
           "gridcolor": "white",
           "linecolor": "white",
           "ticks": "",
           "title": {
            "standoff": 15
           },
           "zerolinecolor": "white",
           "zerolinewidth": 2
          }
         }
        },
        "title": {
         "text": "Total Revenue in the US"
        },
        "uniformtext": {
         "minsize": 8,
         "mode": "hide"
        },
        "xaxis": {
         "anchor": "y",
         "domain": [
          0,
          1
         ],
         "title": {
          "text": "Billing State/Province"
         }
        },
        "yaxis": {
         "anchor": "x",
         "domain": [
          0,
          1
         ],
         "title": {
          "text": "Total Revenue"
         }
        }
       }
      }
     },
     "metadata": {},
     "output_type": "display_data"
    }
   ],
   "source": [
    "fig = px.bar(df2, y='Total Revenue',x='Billing State/Province')\n",
    "fig.update_layout(uniformtext_minsize=8, uniformtext_mode='hide', title='Total Revenue in the US')\n",
    "fig.show()"
   ]
  },
  {
   "cell_type": "markdown",
   "metadata": {},
   "source": [
    "---Drag the bottom of the graph to slightly above the blue bar (hover until you see a + sign, above the states) for better visualization-- \n",
    "\n",
    "From the US: Most of the revenue comes from VA and NJ, where the least is TN, KS, and NC"
   ]
  },
  {
   "cell_type": "code",
   "execution_count": 69,
   "metadata": {},
   "outputs": [
    {
     "data": {
      "application/vnd.plotly.v1+json": {
       "config": {
        "plotlyServerURL": "https://plot.ly"
       },
       "data": [
        {
         "alignmentgroup": "True",
         "hovertemplate": "Top Product Family=%{x}<br>Total Revenue=%{y}<extra></extra>",
         "legendgroup": "",
         "marker": {
          "color": "#636efa",
          "pattern": {
           "shape": ""
          }
         },
         "name": "",
         "offsetgroup": "",
         "orientation": "v",
         "showlegend": false,
         "textposition": "auto",
         "type": "bar",
         "x": [
          "Laptops",
          "Laptops",
          "Laptops",
          "Laptops",
          "Laptops",
          "Laptops",
          "Tablets",
          "Digital Media",
          "Digital Media",
          "Phones",
          "Laptops",
          "Laptops",
          "Digital Media",
          "Laptops",
          "Phones",
          "Laptops",
          "Laptops",
          "Tablets",
          "Tablets",
          "Laptops",
          "Laptops",
          "Digital Media",
          "Laptops",
          "Laptops",
          "Others_Family",
          "Laptops",
          "Accessories",
          "Accessories",
          "Others_Family",
          "Phones",
          "Phones",
          "Phones",
          "Laptops",
          "Laptops",
          "Tablets",
          "Laptops",
          "Digital Media",
          "Accessories",
          "Laptops",
          "Phones",
          "Phones",
          "Laptops",
          "Phones",
          "Laptops",
          "Tablets",
          "Accessories",
          "Laptops",
          "Others_Family",
          "Tablets",
          "Phones",
          "Accessories",
          "Accessories",
          "Laptops",
          "Tablets",
          "Others_Family",
          "Others_Family",
          "Others_Family",
          "Tablets",
          "Digital Media",
          "Phones",
          "Tablets",
          "Tablets",
          "Laptops",
          "Laptops",
          "Phones",
          "Others_Family",
          "Accessories",
          "Laptops",
          "Others_Family",
          "Laptops",
          "Phones",
          "Phones",
          "Others_Family",
          "Tablets",
          "Others_Family",
          "Tablets",
          "Digital Media",
          "Laptops",
          "Laptops",
          "Phones",
          "Others_Family",
          "Phones",
          "Laptops",
          "Laptops",
          "Laptops",
          "Tablets",
          "Tablets",
          "Others_Family",
          "Accessories",
          "Laptops",
          "Others_Family",
          "Accessories",
          "Phones",
          "Laptops",
          "Laptops",
          "Phones",
          "Digital Media",
          "Laptops",
          "Others_Family",
          "Laptops",
          "Accessories",
          "Accessories",
          "Laptops",
          "Tablets",
          "Laptops",
          "Digital Media",
          "Accessories",
          "Others_Family",
          "Others_Family",
          "Tablets",
          "Laptops",
          "Others_Family",
          "Laptops",
          "Accessories",
          "Digital Media",
          "Laptops",
          "Laptops",
          "Digital Media",
          "Laptops",
          "Laptops",
          "Others_Family",
          "Others_Family",
          "Tablets",
          "Laptops",
          "Digital Media",
          "Tablets",
          "Tablets",
          "Digital Media",
          "Accessories",
          "Tablets",
          "Laptops",
          "Digital Media",
          "Accessories",
          "Phones",
          "Digital Media",
          "Others_Family",
          "Tablets",
          "Others_Family",
          "Tablets",
          "Tablets",
          "Laptops",
          "Tablets",
          "Phones",
          "Laptops",
          "Phones",
          "Digital Media",
          "Tablets",
          "Laptops",
          "Laptops",
          "Tablets",
          "Laptops",
          "Laptops",
          "Tablets",
          "Others_Family",
          "Digital Media",
          "Laptops",
          "Laptops",
          "Tablets",
          "Tablets",
          "Others_Family",
          "Laptops",
          "Digital Media",
          "Tablets",
          "Accessories",
          "Tablets",
          "Laptops",
          "Phones",
          "Accessories",
          "Tablets",
          "Tablets",
          "Others_Family",
          "Laptops",
          "Laptops",
          "Phones",
          "Laptops",
          "Phones",
          "Laptops",
          "Laptops",
          "Laptops",
          "Laptops",
          "Phones",
          "Laptops",
          "Tablets",
          "Phones",
          "Accessories",
          "Tablets",
          "Laptops",
          "Laptops",
          "Laptops",
          "Tablets",
          "Laptops",
          "Laptops",
          "Tablets",
          "Laptops",
          "Laptops",
          "Others_Family",
          "Tablets",
          "Laptops",
          "Digital Media",
          "Phones",
          "Laptops",
          "Tablets",
          "Laptops",
          "Laptops",
          "Laptops",
          "Laptops",
          "Phones",
          "Laptops",
          "Laptops",
          "Digital Media",
          "Tablets",
          "Laptops",
          "Digital Media",
          "Laptops",
          "Others_Family",
          "Accessories",
          "Laptops",
          "Laptops",
          "Laptops",
          "Tablets",
          "Accessories",
          "Tablets",
          "Accessories",
          "Digital Media",
          "Laptops",
          "Accessories",
          "Others_Family",
          "Laptops",
          "Others_Family",
          "Laptops",
          "Laptops",
          "Phones",
          "Accessories",
          "Laptops",
          "Accessories",
          "Tablets",
          "Laptops",
          "Tablets",
          "Accessories",
          "Digital Media",
          "Laptops",
          "Tablets",
          "Digital Media",
          "Laptops",
          "Laptops",
          "Others_Family",
          "Tablets",
          "Digital Media",
          "Laptops",
          "Laptops",
          "Others_Family",
          "Tablets",
          "Laptops",
          "Others_Family",
          "Others_Family",
          "Phones",
          "Tablets",
          "Laptops",
          "Digital Media",
          "Accessories",
          "Laptops",
          "Accessories",
          "Others_Family",
          "Others_Family",
          "Phones",
          "Others_Family",
          "Tablets",
          "Others_Family",
          "Tablets",
          "Laptops",
          "Others_Family",
          "Laptops",
          "Laptops",
          "Digital Media",
          "Laptops",
          "Others_Family",
          "Others_Family",
          "Phones",
          "Tablets",
          "Tablets",
          "Others_Family",
          "Phones",
          "Laptops",
          "Tablets",
          "Laptops",
          "Others_Family",
          "Others_Family",
          "Digital Media",
          "Accessories",
          "Phones",
          "Tablets",
          "Laptops",
          "Tablets",
          "Laptops",
          "Accessories",
          "Accessories",
          "Phones",
          "Accessories",
          "Laptops",
          "Laptops",
          "Phones",
          "Others_Family",
          "Laptops",
          "Accessories",
          "Phones",
          "Laptops",
          "Laptops",
          "Laptops"
         ],
         "xaxis": "x",
         "y": [
          1415700,
          1411200,
          3428800,
          1817900,
          3251640,
          7623400,
          131750,
          69240,
          269400,
          1191000,
          7551530,
          3198400,
          466000,
          3463920,
          390885,
          1402500,
          1458554,
          1268620,
          3803230,
          1452090,
          343000,
          503975,
          2169600,
          3298750,
          66246,
          7341100,
          236610,
          68600,
          448068,
          206000,
          219000,
          323550,
          902400,
          3679325,
          2169564,
          5385720,
          82925,
          196890,
          3694000,
          256275,
          123280,
          2171760,
          1307405,
          2880800,
          657600,
          423635,
          2535805,
          435960,
          89400,
          352350,
          115290,
          116360,
          1052275,
          7747190,
          499928,
          401291,
          110986,
          2101255,
          269122,
          3077200,
          1518190,
          1853874,
          3513380,
          3168250,
          950000,
          87409,
          22520,
          1313950,
          254886,
          1337090,
          1505940,
          329425,
          154353,
          1886550,
          238018,
          1417400,
          273090,
          2764100,
          3426450,
          804275,
          460956,
          163800,
          3285248,
          1885475,
          2673330,
          436500,
          1755000,
          309686,
          48440,
          3579376,
          470298,
          18960,
          339815,
          720875,
          3317750,
          1533140,
          128265,
          5424400,
          411185,
          2038037,
          58840,
          171660,
          2807700,
          965700,
          2518300,
          358100,
          93714,
          424836,
          43355,
          142400,
          1318873,
          476918,
          2207200,
          60760,
          237960,
          898800,
          2083337,
          51480,
          2719000,
          5023650,
          209104,
          218204,
          62400,
          2205998,
          376955,
          2166890,
          2179330,
          236040,
          357606,
          773640,
          2698769,
          200400,
          33600,
          846000,
          165000,
          393782,
          1720330,
          252545,
          775200,
          40900,
          646400,
          333830,
          710500,
          1241600,
          179225,
          198000,
          875880,
          2630075,
          1183700,
          1013770,
          1003453,
          5140365,
          583800,
          146771,
          237840,
          3825390,
          3314900,
          491550,
          1148850,
          84329,
          3851250,
          63600,
          1590600,
          163530,
          1639550,
          1513850,
          18900,
          5280,
          2210350,
          834280,
          94151,
          1318960,
          2124300,
          386375,
          1132600,
          196200,
          249600,
          2294400,
          792270,
          4169710,
          121490,
          1010900,
          1032600,
          761000,
          72720,
          524400,
          424600,
          1241900,
          3712300,
          1840000,
          2734080,
          2389600,
          1542350,
          3907275,
          2839875,
          156655,
          76800,
          663100,
          152400,
          259500,
          3040767,
          791840,
          1805710,
          2155875,
          5677850,
          2763955,
          728525,
          1557765,
          4018990,
          52440,
          3555960,
          5406870,
          230520,
          2477275,
          150043,
          105210,
          2574700,
          3263870,
          6141375,
          789160,
          193500,
          2182350,
          96419,
          725146,
          1598060,
          79550,
          328949,
          2604140,
          25095,
          2374500,
          1518400,
          623750,
          73600,
          2303500,
          54090,
          368530,
          2942705,
          1132470,
          22240,
          263500,
          987000,
          1418640,
          663696,
          2672000,
          3247560,
          218798,
          1438500,
          187880,
          3072000,
          3530300,
          94283,
          1134385,
          5294610,
          24536,
          240747,
          913240,
          681410,
          805000,
          130515,
          79480,
          1377340,
          21640,
          459280,
          457656,
          1224345,
          466893,
          786875,
          193757,
          2265170,
          4107365,
          73903,
          2684465,
          3956860,
          88200,
          2745600,
          316254,
          363901,
          197075,
          399300,
          749210,
          309938,
          9000,
          2276590,
          499603,
          2008900,
          17621,
          316726,
          1939600,
          98850,
          165920,
          1879190,
          736250,
          2094351,
          1578500,
          138690,
          229470,
          1729880,
          402896,
          3510985,
          2632925,
          1186400,
          274656,
          412385,
          89320,
          874780,
          638750,
          1193160,
          2208300
         ],
         "yaxis": "y"
        }
       ],
       "layout": {
        "barmode": "relative",
        "legend": {
         "tracegroupgap": 0
        },
        "margin": {
         "t": 60
        },
        "template": {
         "data": {
          "bar": [
           {
            "error_x": {
             "color": "#2a3f5f"
            },
            "error_y": {
             "color": "#2a3f5f"
            },
            "marker": {
             "line": {
              "color": "#E5ECF6",
              "width": 0.5
             },
             "pattern": {
              "fillmode": "overlay",
              "size": 10,
              "solidity": 0.2
             }
            },
            "type": "bar"
           }
          ],
          "barpolar": [
           {
            "marker": {
             "line": {
              "color": "#E5ECF6",
              "width": 0.5
             },
             "pattern": {
              "fillmode": "overlay",
              "size": 10,
              "solidity": 0.2
             }
            },
            "type": "barpolar"
           }
          ],
          "carpet": [
           {
            "aaxis": {
             "endlinecolor": "#2a3f5f",
             "gridcolor": "white",
             "linecolor": "white",
             "minorgridcolor": "white",
             "startlinecolor": "#2a3f5f"
            },
            "baxis": {
             "endlinecolor": "#2a3f5f",
             "gridcolor": "white",
             "linecolor": "white",
             "minorgridcolor": "white",
             "startlinecolor": "#2a3f5f"
            },
            "type": "carpet"
           }
          ],
          "choropleth": [
           {
            "colorbar": {
             "outlinewidth": 0,
             "ticks": ""
            },
            "type": "choropleth"
           }
          ],
          "contour": [
           {
            "colorbar": {
             "outlinewidth": 0,
             "ticks": ""
            },
            "colorscale": [
             [
              0,
              "#0d0887"
             ],
             [
              0.1111111111111111,
              "#46039f"
             ],
             [
              0.2222222222222222,
              "#7201a8"
             ],
             [
              0.3333333333333333,
              "#9c179e"
             ],
             [
              0.4444444444444444,
              "#bd3786"
             ],
             [
              0.5555555555555556,
              "#d8576b"
             ],
             [
              0.6666666666666666,
              "#ed7953"
             ],
             [
              0.7777777777777778,
              "#fb9f3a"
             ],
             [
              0.8888888888888888,
              "#fdca26"
             ],
             [
              1,
              "#f0f921"
             ]
            ],
            "type": "contour"
           }
          ],
          "contourcarpet": [
           {
            "colorbar": {
             "outlinewidth": 0,
             "ticks": ""
            },
            "type": "contourcarpet"
           }
          ],
          "heatmap": [
           {
            "colorbar": {
             "outlinewidth": 0,
             "ticks": ""
            },
            "colorscale": [
             [
              0,
              "#0d0887"
             ],
             [
              0.1111111111111111,
              "#46039f"
             ],
             [
              0.2222222222222222,
              "#7201a8"
             ],
             [
              0.3333333333333333,
              "#9c179e"
             ],
             [
              0.4444444444444444,
              "#bd3786"
             ],
             [
              0.5555555555555556,
              "#d8576b"
             ],
             [
              0.6666666666666666,
              "#ed7953"
             ],
             [
              0.7777777777777778,
              "#fb9f3a"
             ],
             [
              0.8888888888888888,
              "#fdca26"
             ],
             [
              1,
              "#f0f921"
             ]
            ],
            "type": "heatmap"
           }
          ],
          "heatmapgl": [
           {
            "colorbar": {
             "outlinewidth": 0,
             "ticks": ""
            },
            "colorscale": [
             [
              0,
              "#0d0887"
             ],
             [
              0.1111111111111111,
              "#46039f"
             ],
             [
              0.2222222222222222,
              "#7201a8"
             ],
             [
              0.3333333333333333,
              "#9c179e"
             ],
             [
              0.4444444444444444,
              "#bd3786"
             ],
             [
              0.5555555555555556,
              "#d8576b"
             ],
             [
              0.6666666666666666,
              "#ed7953"
             ],
             [
              0.7777777777777778,
              "#fb9f3a"
             ],
             [
              0.8888888888888888,
              "#fdca26"
             ],
             [
              1,
              "#f0f921"
             ]
            ],
            "type": "heatmapgl"
           }
          ],
          "histogram": [
           {
            "marker": {
             "pattern": {
              "fillmode": "overlay",
              "size": 10,
              "solidity": 0.2
             }
            },
            "type": "histogram"
           }
          ],
          "histogram2d": [
           {
            "colorbar": {
             "outlinewidth": 0,
             "ticks": ""
            },
            "colorscale": [
             [
              0,
              "#0d0887"
             ],
             [
              0.1111111111111111,
              "#46039f"
             ],
             [
              0.2222222222222222,
              "#7201a8"
             ],
             [
              0.3333333333333333,
              "#9c179e"
             ],
             [
              0.4444444444444444,
              "#bd3786"
             ],
             [
              0.5555555555555556,
              "#d8576b"
             ],
             [
              0.6666666666666666,
              "#ed7953"
             ],
             [
              0.7777777777777778,
              "#fb9f3a"
             ],
             [
              0.8888888888888888,
              "#fdca26"
             ],
             [
              1,
              "#f0f921"
             ]
            ],
            "type": "histogram2d"
           }
          ],
          "histogram2dcontour": [
           {
            "colorbar": {
             "outlinewidth": 0,
             "ticks": ""
            },
            "colorscale": [
             [
              0,
              "#0d0887"
             ],
             [
              0.1111111111111111,
              "#46039f"
             ],
             [
              0.2222222222222222,
              "#7201a8"
             ],
             [
              0.3333333333333333,
              "#9c179e"
             ],
             [
              0.4444444444444444,
              "#bd3786"
             ],
             [
              0.5555555555555556,
              "#d8576b"
             ],
             [
              0.6666666666666666,
              "#ed7953"
             ],
             [
              0.7777777777777778,
              "#fb9f3a"
             ],
             [
              0.8888888888888888,
              "#fdca26"
             ],
             [
              1,
              "#f0f921"
             ]
            ],
            "type": "histogram2dcontour"
           }
          ],
          "mesh3d": [
           {
            "colorbar": {
             "outlinewidth": 0,
             "ticks": ""
            },
            "type": "mesh3d"
           }
          ],
          "parcoords": [
           {
            "line": {
             "colorbar": {
              "outlinewidth": 0,
              "ticks": ""
             }
            },
            "type": "parcoords"
           }
          ],
          "pie": [
           {
            "automargin": true,
            "type": "pie"
           }
          ],
          "scatter": [
           {
            "fillpattern": {
             "fillmode": "overlay",
             "size": 10,
             "solidity": 0.2
            },
            "type": "scatter"
           }
          ],
          "scatter3d": [
           {
            "line": {
             "colorbar": {
              "outlinewidth": 0,
              "ticks": ""
             }
            },
            "marker": {
             "colorbar": {
              "outlinewidth": 0,
              "ticks": ""
             }
            },
            "type": "scatter3d"
           }
          ],
          "scattercarpet": [
           {
            "marker": {
             "colorbar": {
              "outlinewidth": 0,
              "ticks": ""
             }
            },
            "type": "scattercarpet"
           }
          ],
          "scattergeo": [
           {
            "marker": {
             "colorbar": {
              "outlinewidth": 0,
              "ticks": ""
             }
            },
            "type": "scattergeo"
           }
          ],
          "scattergl": [
           {
            "marker": {
             "colorbar": {
              "outlinewidth": 0,
              "ticks": ""
             }
            },
            "type": "scattergl"
           }
          ],
          "scattermapbox": [
           {
            "marker": {
             "colorbar": {
              "outlinewidth": 0,
              "ticks": ""
             }
            },
            "type": "scattermapbox"
           }
          ],
          "scatterpolar": [
           {
            "marker": {
             "colorbar": {
              "outlinewidth": 0,
              "ticks": ""
             }
            },
            "type": "scatterpolar"
           }
          ],
          "scatterpolargl": [
           {
            "marker": {
             "colorbar": {
              "outlinewidth": 0,
              "ticks": ""
             }
            },
            "type": "scatterpolargl"
           }
          ],
          "scatterternary": [
           {
            "marker": {
             "colorbar": {
              "outlinewidth": 0,
              "ticks": ""
             }
            },
            "type": "scatterternary"
           }
          ],
          "surface": [
           {
            "colorbar": {
             "outlinewidth": 0,
             "ticks": ""
            },
            "colorscale": [
             [
              0,
              "#0d0887"
             ],
             [
              0.1111111111111111,
              "#46039f"
             ],
             [
              0.2222222222222222,
              "#7201a8"
             ],
             [
              0.3333333333333333,
              "#9c179e"
             ],
             [
              0.4444444444444444,
              "#bd3786"
             ],
             [
              0.5555555555555556,
              "#d8576b"
             ],
             [
              0.6666666666666666,
              "#ed7953"
             ],
             [
              0.7777777777777778,
              "#fb9f3a"
             ],
             [
              0.8888888888888888,
              "#fdca26"
             ],
             [
              1,
              "#f0f921"
             ]
            ],
            "type": "surface"
           }
          ],
          "table": [
           {
            "cells": {
             "fill": {
              "color": "#EBF0F8"
             },
             "line": {
              "color": "white"
             }
            },
            "header": {
             "fill": {
              "color": "#C8D4E3"
             },
             "line": {
              "color": "white"
             }
            },
            "type": "table"
           }
          ]
         },
         "layout": {
          "annotationdefaults": {
           "arrowcolor": "#2a3f5f",
           "arrowhead": 0,
           "arrowwidth": 1
          },
          "autotypenumbers": "strict",
          "coloraxis": {
           "colorbar": {
            "outlinewidth": 0,
            "ticks": ""
           }
          },
          "colorscale": {
           "diverging": [
            [
             0,
             "#8e0152"
            ],
            [
             0.1,
             "#c51b7d"
            ],
            [
             0.2,
             "#de77ae"
            ],
            [
             0.3,
             "#f1b6da"
            ],
            [
             0.4,
             "#fde0ef"
            ],
            [
             0.5,
             "#f7f7f7"
            ],
            [
             0.6,
             "#e6f5d0"
            ],
            [
             0.7,
             "#b8e186"
            ],
            [
             0.8,
             "#7fbc41"
            ],
            [
             0.9,
             "#4d9221"
            ],
            [
             1,
             "#276419"
            ]
           ],
           "sequential": [
            [
             0,
             "#0d0887"
            ],
            [
             0.1111111111111111,
             "#46039f"
            ],
            [
             0.2222222222222222,
             "#7201a8"
            ],
            [
             0.3333333333333333,
             "#9c179e"
            ],
            [
             0.4444444444444444,
             "#bd3786"
            ],
            [
             0.5555555555555556,
             "#d8576b"
            ],
            [
             0.6666666666666666,
             "#ed7953"
            ],
            [
             0.7777777777777778,
             "#fb9f3a"
            ],
            [
             0.8888888888888888,
             "#fdca26"
            ],
            [
             1,
             "#f0f921"
            ]
           ],
           "sequentialminus": [
            [
             0,
             "#0d0887"
            ],
            [
             0.1111111111111111,
             "#46039f"
            ],
            [
             0.2222222222222222,
             "#7201a8"
            ],
            [
             0.3333333333333333,
             "#9c179e"
            ],
            [
             0.4444444444444444,
             "#bd3786"
            ],
            [
             0.5555555555555556,
             "#d8576b"
            ],
            [
             0.6666666666666666,
             "#ed7953"
            ],
            [
             0.7777777777777778,
             "#fb9f3a"
            ],
            [
             0.8888888888888888,
             "#fdca26"
            ],
            [
             1,
             "#f0f921"
            ]
           ]
          },
          "colorway": [
           "#636efa",
           "#EF553B",
           "#00cc96",
           "#ab63fa",
           "#FFA15A",
           "#19d3f3",
           "#FF6692",
           "#B6E880",
           "#FF97FF",
           "#FECB52"
          ],
          "font": {
           "color": "#2a3f5f"
          },
          "geo": {
           "bgcolor": "white",
           "lakecolor": "white",
           "landcolor": "#E5ECF6",
           "showlakes": true,
           "showland": true,
           "subunitcolor": "white"
          },
          "hoverlabel": {
           "align": "left"
          },
          "hovermode": "closest",
          "mapbox": {
           "style": "light"
          },
          "paper_bgcolor": "white",
          "plot_bgcolor": "#E5ECF6",
          "polar": {
           "angularaxis": {
            "gridcolor": "white",
            "linecolor": "white",
            "ticks": ""
           },
           "bgcolor": "#E5ECF6",
           "radialaxis": {
            "gridcolor": "white",
            "linecolor": "white",
            "ticks": ""
           }
          },
          "scene": {
           "xaxis": {
            "backgroundcolor": "#E5ECF6",
            "gridcolor": "white",
            "gridwidth": 2,
            "linecolor": "white",
            "showbackground": true,
            "ticks": "",
            "zerolinecolor": "white"
           },
           "yaxis": {
            "backgroundcolor": "#E5ECF6",
            "gridcolor": "white",
            "gridwidth": 2,
            "linecolor": "white",
            "showbackground": true,
            "ticks": "",
            "zerolinecolor": "white"
           },
           "zaxis": {
            "backgroundcolor": "#E5ECF6",
            "gridcolor": "white",
            "gridwidth": 2,
            "linecolor": "white",
            "showbackground": true,
            "ticks": "",
            "zerolinecolor": "white"
           }
          },
          "shapedefaults": {
           "line": {
            "color": "#2a3f5f"
           }
          },
          "ternary": {
           "aaxis": {
            "gridcolor": "white",
            "linecolor": "white",
            "ticks": ""
           },
           "baxis": {
            "gridcolor": "white",
            "linecolor": "white",
            "ticks": ""
           },
           "bgcolor": "#E5ECF6",
           "caxis": {
            "gridcolor": "white",
            "linecolor": "white",
            "ticks": ""
           }
          },
          "title": {
           "x": 0.05
          },
          "xaxis": {
           "automargin": true,
           "gridcolor": "white",
           "linecolor": "white",
           "ticks": "",
           "title": {
            "standoff": 15
           },
           "zerolinecolor": "white",
           "zerolinewidth": 2
          },
          "yaxis": {
           "automargin": true,
           "gridcolor": "white",
           "linecolor": "white",
           "ticks": "",
           "title": {
            "standoff": 15
           },
           "zerolinecolor": "white",
           "zerolinewidth": 2
          }
         }
        },
        "title": {
         "text": "Total Revenue of Different Product Sectors"
        },
        "uniformtext": {
         "minsize": 10,
         "mode": "hide"
        },
        "xaxis": {
         "anchor": "y",
         "domain": [
          0,
          1
         ],
         "title": {
          "text": "Top Product Family"
         }
        },
        "yaxis": {
         "anchor": "x",
         "domain": [
          0,
          1
         ],
         "title": {
          "text": "Total Revenue"
         }
        }
       }
      }
     },
     "metadata": {},
     "output_type": "display_data"
    }
   ],
   "source": [
    "df2 = df\n",
    "fig = px.bar(df2, y='Total Revenue',x='Top Product Family')\n",
    "fig.update_layout(uniformtext_minsize=10, uniformtext_mode='hide', title='Total Revenue of Different Product Sectors')\n",
    "fig.show()"
   ]
  },
  {
   "cell_type": "markdown",
   "metadata": {},
   "source": [
    "Most of the total revenues come from laptops, followed by tablets."
   ]
  },
  {
   "cell_type": "code",
   "execution_count": 70,
   "metadata": {},
   "outputs": [
    {
     "data": {
      "application/vnd.plotly.v1+json": {
       "config": {
        "plotlyServerURL": "https://plot.ly"
       },
       "data": [
        {
         "alignmentgroup": "True",
         "hovertemplate": "First Deal Month=1<br>Billing Country=%{x}<br>Total Revenue=%{y}<extra></extra>",
         "legendgroup": "",
         "marker": {
          "color": "#636efa",
          "pattern": {
           "shape": ""
          }
         },
         "name": "",
         "offsetgroup": "",
         "orientation": "v",
         "showlegend": false,
         "textposition": "auto",
         "type": "bar",
         "x": [
          "Japan",
          "Brazil",
          "Brazil",
          "Taiwan",
          "Japan",
          "Brazil",
          "Taiwan",
          "Spain",
          "Spain",
          "USA",
          "Canada",
          "Switzerland",
          "USA",
          "Normway"
         ],
         "xaxis": "x",
         "y": [
          710500,
          7747190,
          874780,
          3298750,
          1186400,
          89400,
          5385720,
          33600,
          252545,
          2764100,
          805000,
          249600,
          309938,
          9000
         ],
         "yaxis": "y"
        }
       ],
       "frames": [
        {
         "data": [
          {
           "alignmentgroup": "True",
           "hovertemplate": "First Deal Month=1<br>Billing Country=%{x}<br>Total Revenue=%{y}<extra></extra>",
           "legendgroup": "",
           "marker": {
            "color": "#636efa",
            "pattern": {
             "shape": ""
            }
           },
           "name": "",
           "offsetgroup": "",
           "orientation": "v",
           "showlegend": false,
           "textposition": "auto",
           "type": "bar",
           "x": [
            "Japan",
            "Brazil",
            "Brazil",
            "Taiwan",
            "Japan",
            "Brazil",
            "Taiwan",
            "Spain",
            "Spain",
            "USA",
            "Canada",
            "Switzerland",
            "USA",
            "Normway"
           ],
           "xaxis": "x",
           "y": [
            710500,
            7747190,
            874780,
            3298750,
            1186400,
            89400,
            5385720,
            33600,
            252545,
            2764100,
            805000,
            249600,
            309938,
            9000
           ],
           "yaxis": "y"
          }
         ],
         "name": "1"
        },
        {
         "data": [
          {
           "alignmentgroup": "True",
           "hovertemplate": "First Deal Month=2<br>Billing Country=%{x}<br>Total Revenue=%{y}<extra></extra>",
           "legendgroup": "",
           "marker": {
            "color": "#636efa",
            "pattern": {
             "shape": ""
            }
           },
           "name": "",
           "offsetgroup": "",
           "orientation": "v",
           "showlegend": false,
           "textposition": "auto",
           "type": "bar",
           "x": [
            "Canada",
            "Canada",
            "Australia",
            "Belgium",
            "Normway",
            "USA",
            "Canada",
            "USA",
            "Switzerland",
            "Japan",
            "USA"
           ],
           "xaxis": "x",
           "y": [
            3314900,
            1010900,
            105210,
            2038037,
            1241600,
            898800,
            273090,
            236040,
            230520,
            950000,
            791840
           ],
           "yaxis": "y"
          }
         ],
         "name": "2"
        },
        {
         "data": [
          {
           "alignmentgroup": "True",
           "hovertemplate": "First Deal Month=3<br>Billing Country=%{x}<br>Total Revenue=%{y}<extra></extra>",
           "legendgroup": "",
           "marker": {
            "color": "#636efa",
            "pattern": {
             "shape": ""
            }
           },
           "name": "",
           "offsetgroup": "",
           "orientation": "v",
           "showlegend": false,
           "textposition": "auto",
           "type": "bar",
           "x": [
            "Germany",
            "Singapore",
            "Hong Kong",
            "Canada",
            "USA",
            "Canada",
            "Denmark",
            "Canada",
            "Australia",
            "Canada",
            "USA",
            "Canada"
           ],
           "xaxis": "x",
           "y": [
            725146,
            2208300,
            466893,
            187880,
            1183700,
            1402500,
            316726,
            7551530,
            2155875,
            131750,
            96419,
            1134385
           ],
           "yaxis": "y"
          }
         ],
         "name": "3"
        },
        {
         "data": [
          {
           "alignmentgroup": "True",
           "hovertemplate": "First Deal Month=4<br>Billing Country=%{x}<br>Total Revenue=%{y}<extra></extra>",
           "legendgroup": "",
           "marker": {
            "color": "#636efa",
            "pattern": {
             "shape": ""
            }
           },
           "name": "",
           "offsetgroup": "",
           "orientation": "v",
           "showlegend": false,
           "textposition": "auto",
           "type": "bar",
           "x": [
            "India",
            "Switzerland",
            "Canada",
            "USA",
            "Normway",
            "Denmark",
            "USA",
            "USA",
            "Canada",
            "Singapore",
            "USA",
            "Japan",
            "Germany",
            "USA",
            "Sweden",
            "USA",
            "Japan",
            "Hong Kong",
            "Canada",
            "Switzerland",
            "USA",
            "Canada",
            "Canada",
            "China",
            "Canada",
            "USA",
            "Canada",
            "USA",
            "Switzerland",
            "Germany",
            "Mexico",
            "Switzerland",
            "Japan",
            "USA",
            "Taiwan",
            "USA"
           ],
           "xaxis": "x",
           "y": [
            1805710,
            3040767,
            1313950,
            2210350,
            524400,
            72720,
            1032600,
            163800,
            309686,
            1590600,
            3851250,
            84329,
            3825390,
            1013770,
            43355,
            376955,
            237960,
            1505940,
            3555960,
            209104,
            5406870,
            24536,
            316254,
            459280,
            5294610,
            902400,
            130515,
            193757,
            1879190,
            1578500,
            789160,
            236610,
            274656,
            457656,
            1411200,
            2094351
           ],
           "yaxis": "y"
          }
         ],
         "name": "4"
        },
        {
         "data": [
          {
           "alignmentgroup": "True",
           "hovertemplate": "First Deal Month=5<br>Billing Country=%{x}<br>Total Revenue=%{y}<extra></extra>",
           "legendgroup": "",
           "marker": {
            "color": "#636efa",
            "pattern": {
             "shape": ""
            }
           },
           "name": "",
           "offsetgroup": "",
           "orientation": "v",
           "showlegend": false,
           "textposition": "auto",
           "type": "bar",
           "x": [
            "Canada",
            "Canada",
            "Canada",
            "Germany",
            "USA",
            "Canada",
            "Denmark",
            "France",
            "Normway",
            "Canada",
            "Russian",
            "China",
            "Australia",
            "Korea",
            "Italy",
            "Canada",
            "USA",
            "Taiwan",
            "USA",
            "USA",
            "Hong Kong",
            "Denmark",
            "Japan",
            "Canada",
            "USA",
            "Belgium",
            "USA",
            "Canada",
            "Singapore",
            "Canada",
            "USA",
            "United Kingdom",
            "Thailand",
            "USA"
           ],
           "xaxis": "x",
           "y": [
            18960,
            7341100,
            503975,
            2101255,
            1193160,
            3956860,
            2008900,
            466000,
            775200,
            2179330,
            476918,
            2205998,
            2684465,
            875880,
            1755000,
            2763955,
            2839875,
            263500,
            25095,
            206000,
            1853874,
            329425,
            3263870,
            152400,
            1241900,
            1417400,
            82925,
            2169564,
            761000,
            460956,
            1885475,
            499928,
            681410,
            73600
           ],
           "yaxis": "y"
          }
         ],
         "name": "5"
        },
        {
         "data": [
          {
           "alignmentgroup": "True",
           "hovertemplate": "First Deal Month=6<br>Billing Country=%{x}<br>Total Revenue=%{y}<extra></extra>",
           "legendgroup": "",
           "marker": {
            "color": "#636efa",
            "pattern": {
             "shape": ""
            }
           },
           "name": "",
           "offsetgroup": "",
           "orientation": "v",
           "showlegend": false,
           "textposition": "auto",
           "type": "bar",
           "x": [
            "USA",
            "USA",
            "Belgium",
            "USA",
            "Korea",
            "Canada",
            "Germany",
            "Canada",
            "Belgium",
            "USA",
            "Thailand",
            "Russian",
            "Normway",
            "Brazil",
            "Mexico",
            "Canada",
            "USA"
           ],
           "xaxis": "x",
           "y": [
            150043,
            138690,
            121490,
            646400,
            3712300,
            2276590,
            21640,
            1639550,
            846000,
            3907275,
            146771,
            435960,
            657600,
            3251640,
            1307405,
            2673330,
            269400
           ],
           "yaxis": "y"
          }
         ],
         "name": "6"
        },
        {
         "data": [
          {
           "alignmentgroup": "True",
           "hovertemplate": "First Deal Month=7<br>Billing Country=%{x}<br>Total Revenue=%{y}<extra></extra>",
           "legendgroup": "",
           "marker": {
            "color": "#636efa",
            "pattern": {
             "shape": ""
            }
           },
           "name": "",
           "offsetgroup": "",
           "orientation": "v",
           "showlegend": false,
           "textposition": "auto",
           "type": "bar",
           "x": [
            "Taiwan",
            "USA",
            "Singapore",
            "China",
            "Taiwan",
            "India",
            "Italy",
            "USA",
            "Canada",
            "Normway",
            "USA",
            "USA",
            "USA",
            "Canada",
            "Sweden",
            "Denmark",
            "India",
            "Canada",
            "USA",
            "Switzerland",
            "Normway",
            "Canada",
            "Japan",
            "Mexico",
            "Canada",
            "Canada",
            "Canada",
            "USA",
            "Taiwan"
           ],
           "xaxis": "x",
           "y": [
            2719000,
            1003453,
            5140365,
            128265,
            720875,
            163530,
            5280,
            2672000,
            196200,
            390885,
            22240,
            2303500,
            1337090,
            1840000,
            2535805,
            2124300,
            3463920,
            1224345,
            2166890,
            200400,
            2632925,
            165000,
            1318873,
            229470,
            2518300,
            5023650,
            333830,
            17621,
            393782
           ],
           "yaxis": "y"
          }
         ],
         "name": "7"
        },
        {
         "data": [
          {
           "alignmentgroup": "True",
           "hovertemplate": "First Deal Month=8<br>Billing Country=%{x}<br>Total Revenue=%{y}<extra></extra>",
           "legendgroup": "",
           "marker": {
            "color": "#636efa",
            "pattern": {
             "shape": ""
            }
           },
           "name": "",
           "offsetgroup": "",
           "orientation": "v",
           "showlegend": false,
           "textposition": "auto",
           "type": "bar",
           "x": [
            "Thailand",
            "Australia",
            "Japan",
            "Canada",
            "Turkey",
            "USA",
            "USA",
            "Italy",
            "Italy",
            "Canada",
            "USA",
            "Singapore",
            "Japan",
            "USA",
            "India",
            "Japan",
            "India",
            "India",
            "Denmark",
            "Japan",
            "Singapore",
            "France",
            "Normway",
            "China",
            "Belgium",
            "Canada",
            "Japan",
            "Canada",
            "United Kingdom",
            "USA",
            "Sweden",
            "Canada",
            "USA",
            "Sweden",
            "Thailand",
            "USA"
           ],
           "xaxis": "x",
           "y": [
            436500,
            2698769,
            987000,
            3426450,
            238018,
            218798,
            2807700,
            412385,
            423635,
            2083337,
            156655,
            193500,
            663100,
            3513380,
            52440,
            4018990,
            402896,
            1318960,
            323550,
            363901,
            198000,
            2630075,
            5424400,
            358100,
            399300,
            197075,
            79480,
            2745600,
            66246,
            5677850,
            728525,
            48440,
            3579376,
            424836,
            470298,
            219000
           ],
           "yaxis": "y"
          }
         ],
         "name": "8"
        },
        {
         "data": [
          {
           "alignmentgroup": "True",
           "hovertemplate": "First Deal Month=9<br>Billing Country=%{x}<br>Total Revenue=%{y}<extra></extra>",
           "legendgroup": "",
           "marker": {
            "color": "#636efa",
            "pattern": {
             "shape": ""
            }
           },
           "name": "",
           "offsetgroup": "",
           "orientation": "v",
           "showlegend": false,
           "textposition": "auto",
           "type": "bar",
           "x": [
            "India",
            "Canada",
            "Canada",
            "Japan",
            "Russian",
            "Japan",
            "Japan",
            "Sweden",
            "Singapore",
            "United Kingdom",
            "Switzerland",
            "USA",
            "Japan",
            "Japan",
            "USA",
            "Japan",
            "Canada",
            "USA",
            "USA",
            "Canada",
            "Germany",
            "Hong Kong",
            "Germany",
            "Thailand",
            "Japan",
            "USA",
            "Canada",
            "Canada",
            "Normway",
            "USA",
            "Singapore",
            "USA"
           ],
           "xaxis": "x",
           "y": [
            1418640,
            165920,
            1268620,
            115290,
            352350,
            196890,
            749210,
            94283,
            89320,
            623750,
            2880800,
            448068,
            1729880,
            73903,
            2169600,
            1191000,
            1377340,
            1052275,
            424600,
            3077200,
            1148850,
            804275,
            40900,
            1533140,
            834280,
            58840,
            179225,
            259500,
            583800,
            87409,
            76800,
            62400
           ],
           "yaxis": "y"
          }
         ],
         "name": "9"
        },
        {
         "data": [
          {
           "alignmentgroup": "True",
           "hovertemplate": "First Deal Month=10<br>Billing Country=%{x}<br>Total Revenue=%{y}<extra></extra>",
           "legendgroup": "",
           "marker": {
            "color": "#636efa",
            "pattern": {
             "shape": ""
            }
           },
           "name": "",
           "offsetgroup": "",
           "orientation": "v",
           "showlegend": false,
           "textposition": "auto",
           "type": "bar",
           "x": [
            "Canada",
            "Switzerland",
            "Switzerland",
            "Singapore",
            "Canada",
            "Italy",
            "Italy",
            "France",
            "USA",
            "Korea",
            "Korea",
            "Canada",
            "Japan",
            "Canada",
            "Canada",
            "Switzerland",
            "Germany",
            "Japan",
            "Spain",
            "Belgium",
            "USA",
            "USA",
            "Canada",
            "USA",
            "Normway",
            "Canada",
            "Japan",
            "Japan",
            "Japan",
            "Sweden",
            "Taiwan",
            "Germany",
            "Canada",
            "USA",
            "Thailand",
            "Japan",
            "Japan",
            "China",
            "Russian",
            "Canada",
            "Turkey"
           ],
           "xaxis": "x",
           "y": [
            499603,
            965700,
            792270,
            4169710,
            171660,
            3530300,
            411185,
            123280,
            240747,
            1886550,
            237840,
            94151,
            3803230,
            68600,
            786875,
            2294400,
            343000,
            1415700,
            2942705,
            1518190,
            110986,
            51480,
            2477275,
            3168250,
            2574700,
            6141375,
            1817900,
            254886,
            1132470,
            2207200,
            60760,
            142400,
            368530,
            69240,
            154353,
            328949,
            773640,
            491550,
            2374500,
            1542350,
            2389600
           ],
           "yaxis": "y"
          }
         ],
         "name": "10"
        },
        {
         "data": [
          {
           "alignmentgroup": "True",
           "hovertemplate": "First Deal Month=11<br>Billing Country=%{x}<br>Total Revenue=%{y}<extra></extra>",
           "legendgroup": "",
           "marker": {
            "color": "#636efa",
            "pattern": {
             "shape": ""
            }
           },
           "name": "",
           "offsetgroup": "",
           "orientation": "v",
           "showlegend": false,
           "textposition": "auto",
           "type": "bar",
           "x": [
            "USA",
            "Singapore",
            "China",
            "USA",
            "India",
            "Singapore",
            "Hong Kong",
            "Italy",
            "USA",
            "Hong Kong",
            "Mexico",
            "China",
            "Canada",
            "USA",
            "Brazil",
            "Spain",
            "USA",
            "Japan",
            "Denmark",
            "Singapore",
            "Denmark",
            "Mexico"
           ],
           "xaxis": "x",
           "y": [
            98850,
            357606,
            638750,
            3317750,
            88200,
            1720330,
            1458554,
            218204,
            1557765,
            2265170,
            2182350,
            1598060,
            79550,
            54090,
            3285248,
            4107365,
            3072000,
            256275,
            3679325,
            269122,
            63600,
            1513850
           ],
           "yaxis": "y"
          }
         ],
         "name": "11"
        },
        {
         "data": [
          {
           "alignmentgroup": "True",
           "hovertemplate": "First Deal Month=12<br>Billing Country=%{x}<br>Total Revenue=%{y}<extra></extra>",
           "legendgroup": "",
           "marker": {
            "color": "#636efa",
            "pattern": {
             "shape": ""
            }
           },
           "name": "",
           "offsetgroup": "",
           "orientation": "v",
           "showlegend": false,
           "textposition": "auto",
           "type": "bar",
           "x": [
            "USA",
            "Canada",
            "Thailand",
            "Japan",
            "Japan",
            "Japan",
            "Normway",
            "Canada",
            "China",
            "USA",
            "Japan",
            "Canada",
            "Russian",
            "Canada",
            "USA",
            "Mexico",
            "Brazil",
            "USA",
            "Korea",
            "Sweden",
            "Canada",
            "Canada",
            "USA",
            "USA"
           ],
           "xaxis": "x",
           "y": [
            3694000,
            401291,
            3428800,
            116360,
            1452090,
            22520,
            339815,
            3510985,
            2604140,
            1518400,
            2734080,
            7623400,
            93714,
            736250,
            18900,
            386375,
            3247560,
            1939600,
            3198400,
            1438500,
            2171760,
            1132600,
            913240,
            663696
           ],
           "yaxis": "y"
          }
         ],
         "name": "12"
        }
       ],
       "layout": {
        "barmode": "relative",
        "legend": {
         "tracegroupgap": 0
        },
        "margin": {
         "t": 60
        },
        "sliders": [
         {
          "active": 0,
          "currentvalue": {
           "prefix": "First Deal Month="
          },
          "len": 0.9,
          "pad": {
           "b": 10,
           "t": 60
          },
          "steps": [
           {
            "args": [
             [
              "1"
             ],
             {
              "frame": {
               "duration": 0,
               "redraw": true
              },
              "fromcurrent": true,
              "mode": "immediate",
              "transition": {
               "duration": 0,
               "easing": "linear"
              }
             }
            ],
            "label": "1",
            "method": "animate"
           },
           {
            "args": [
             [
              "2"
             ],
             {
              "frame": {
               "duration": 0,
               "redraw": true
              },
              "fromcurrent": true,
              "mode": "immediate",
              "transition": {
               "duration": 0,
               "easing": "linear"
              }
             }
            ],
            "label": "2",
            "method": "animate"
           },
           {
            "args": [
             [
              "3"
             ],
             {
              "frame": {
               "duration": 0,
               "redraw": true
              },
              "fromcurrent": true,
              "mode": "immediate",
              "transition": {
               "duration": 0,
               "easing": "linear"
              }
             }
            ],
            "label": "3",
            "method": "animate"
           },
           {
            "args": [
             [
              "4"
             ],
             {
              "frame": {
               "duration": 0,
               "redraw": true
              },
              "fromcurrent": true,
              "mode": "immediate",
              "transition": {
               "duration": 0,
               "easing": "linear"
              }
             }
            ],
            "label": "4",
            "method": "animate"
           },
           {
            "args": [
             [
              "5"
             ],
             {
              "frame": {
               "duration": 0,
               "redraw": true
              },
              "fromcurrent": true,
              "mode": "immediate",
              "transition": {
               "duration": 0,
               "easing": "linear"
              }
             }
            ],
            "label": "5",
            "method": "animate"
           },
           {
            "args": [
             [
              "6"
             ],
             {
              "frame": {
               "duration": 0,
               "redraw": true
              },
              "fromcurrent": true,
              "mode": "immediate",
              "transition": {
               "duration": 0,
               "easing": "linear"
              }
             }
            ],
            "label": "6",
            "method": "animate"
           },
           {
            "args": [
             [
              "7"
             ],
             {
              "frame": {
               "duration": 0,
               "redraw": true
              },
              "fromcurrent": true,
              "mode": "immediate",
              "transition": {
               "duration": 0,
               "easing": "linear"
              }
             }
            ],
            "label": "7",
            "method": "animate"
           },
           {
            "args": [
             [
              "8"
             ],
             {
              "frame": {
               "duration": 0,
               "redraw": true
              },
              "fromcurrent": true,
              "mode": "immediate",
              "transition": {
               "duration": 0,
               "easing": "linear"
              }
             }
            ],
            "label": "8",
            "method": "animate"
           },
           {
            "args": [
             [
              "9"
             ],
             {
              "frame": {
               "duration": 0,
               "redraw": true
              },
              "fromcurrent": true,
              "mode": "immediate",
              "transition": {
               "duration": 0,
               "easing": "linear"
              }
             }
            ],
            "label": "9",
            "method": "animate"
           },
           {
            "args": [
             [
              "10"
             ],
             {
              "frame": {
               "duration": 0,
               "redraw": true
              },
              "fromcurrent": true,
              "mode": "immediate",
              "transition": {
               "duration": 0,
               "easing": "linear"
              }
             }
            ],
            "label": "10",
            "method": "animate"
           },
           {
            "args": [
             [
              "11"
             ],
             {
              "frame": {
               "duration": 0,
               "redraw": true
              },
              "fromcurrent": true,
              "mode": "immediate",
              "transition": {
               "duration": 0,
               "easing": "linear"
              }
             }
            ],
            "label": "11",
            "method": "animate"
           },
           {
            "args": [
             [
              "12"
             ],
             {
              "frame": {
               "duration": 0,
               "redraw": true
              },
              "fromcurrent": true,
              "mode": "immediate",
              "transition": {
               "duration": 0,
               "easing": "linear"
              }
             }
            ],
            "label": "12",
            "method": "animate"
           }
          ],
          "x": 0.1,
          "xanchor": "left",
          "y": 0,
          "yanchor": "top"
         }
        ],
        "template": {
         "data": {
          "bar": [
           {
            "error_x": {
             "color": "#2a3f5f"
            },
            "error_y": {
             "color": "#2a3f5f"
            },
            "marker": {
             "line": {
              "color": "#E5ECF6",
              "width": 0.5
             },
             "pattern": {
              "fillmode": "overlay",
              "size": 10,
              "solidity": 0.2
             }
            },
            "type": "bar"
           }
          ],
          "barpolar": [
           {
            "marker": {
             "line": {
              "color": "#E5ECF6",
              "width": 0.5
             },
             "pattern": {
              "fillmode": "overlay",
              "size": 10,
              "solidity": 0.2
             }
            },
            "type": "barpolar"
           }
          ],
          "carpet": [
           {
            "aaxis": {
             "endlinecolor": "#2a3f5f",
             "gridcolor": "white",
             "linecolor": "white",
             "minorgridcolor": "white",
             "startlinecolor": "#2a3f5f"
            },
            "baxis": {
             "endlinecolor": "#2a3f5f",
             "gridcolor": "white",
             "linecolor": "white",
             "minorgridcolor": "white",
             "startlinecolor": "#2a3f5f"
            },
            "type": "carpet"
           }
          ],
          "choropleth": [
           {
            "colorbar": {
             "outlinewidth": 0,
             "ticks": ""
            },
            "type": "choropleth"
           }
          ],
          "contour": [
           {
            "colorbar": {
             "outlinewidth": 0,
             "ticks": ""
            },
            "colorscale": [
             [
              0,
              "#0d0887"
             ],
             [
              0.1111111111111111,
              "#46039f"
             ],
             [
              0.2222222222222222,
              "#7201a8"
             ],
             [
              0.3333333333333333,
              "#9c179e"
             ],
             [
              0.4444444444444444,
              "#bd3786"
             ],
             [
              0.5555555555555556,
              "#d8576b"
             ],
             [
              0.6666666666666666,
              "#ed7953"
             ],
             [
              0.7777777777777778,
              "#fb9f3a"
             ],
             [
              0.8888888888888888,
              "#fdca26"
             ],
             [
              1,
              "#f0f921"
             ]
            ],
            "type": "contour"
           }
          ],
          "contourcarpet": [
           {
            "colorbar": {
             "outlinewidth": 0,
             "ticks": ""
            },
            "type": "contourcarpet"
           }
          ],
          "heatmap": [
           {
            "colorbar": {
             "outlinewidth": 0,
             "ticks": ""
            },
            "colorscale": [
             [
              0,
              "#0d0887"
             ],
             [
              0.1111111111111111,
              "#46039f"
             ],
             [
              0.2222222222222222,
              "#7201a8"
             ],
             [
              0.3333333333333333,
              "#9c179e"
             ],
             [
              0.4444444444444444,
              "#bd3786"
             ],
             [
              0.5555555555555556,
              "#d8576b"
             ],
             [
              0.6666666666666666,
              "#ed7953"
             ],
             [
              0.7777777777777778,
              "#fb9f3a"
             ],
             [
              0.8888888888888888,
              "#fdca26"
             ],
             [
              1,
              "#f0f921"
             ]
            ],
            "type": "heatmap"
           }
          ],
          "heatmapgl": [
           {
            "colorbar": {
             "outlinewidth": 0,
             "ticks": ""
            },
            "colorscale": [
             [
              0,
              "#0d0887"
             ],
             [
              0.1111111111111111,
              "#46039f"
             ],
             [
              0.2222222222222222,
              "#7201a8"
             ],
             [
              0.3333333333333333,
              "#9c179e"
             ],
             [
              0.4444444444444444,
              "#bd3786"
             ],
             [
              0.5555555555555556,
              "#d8576b"
             ],
             [
              0.6666666666666666,
              "#ed7953"
             ],
             [
              0.7777777777777778,
              "#fb9f3a"
             ],
             [
              0.8888888888888888,
              "#fdca26"
             ],
             [
              1,
              "#f0f921"
             ]
            ],
            "type": "heatmapgl"
           }
          ],
          "histogram": [
           {
            "marker": {
             "pattern": {
              "fillmode": "overlay",
              "size": 10,
              "solidity": 0.2
             }
            },
            "type": "histogram"
           }
          ],
          "histogram2d": [
           {
            "colorbar": {
             "outlinewidth": 0,
             "ticks": ""
            },
            "colorscale": [
             [
              0,
              "#0d0887"
             ],
             [
              0.1111111111111111,
              "#46039f"
             ],
             [
              0.2222222222222222,
              "#7201a8"
             ],
             [
              0.3333333333333333,
              "#9c179e"
             ],
             [
              0.4444444444444444,
              "#bd3786"
             ],
             [
              0.5555555555555556,
              "#d8576b"
             ],
             [
              0.6666666666666666,
              "#ed7953"
             ],
             [
              0.7777777777777778,
              "#fb9f3a"
             ],
             [
              0.8888888888888888,
              "#fdca26"
             ],
             [
              1,
              "#f0f921"
             ]
            ],
            "type": "histogram2d"
           }
          ],
          "histogram2dcontour": [
           {
            "colorbar": {
             "outlinewidth": 0,
             "ticks": ""
            },
            "colorscale": [
             [
              0,
              "#0d0887"
             ],
             [
              0.1111111111111111,
              "#46039f"
             ],
             [
              0.2222222222222222,
              "#7201a8"
             ],
             [
              0.3333333333333333,
              "#9c179e"
             ],
             [
              0.4444444444444444,
              "#bd3786"
             ],
             [
              0.5555555555555556,
              "#d8576b"
             ],
             [
              0.6666666666666666,
              "#ed7953"
             ],
             [
              0.7777777777777778,
              "#fb9f3a"
             ],
             [
              0.8888888888888888,
              "#fdca26"
             ],
             [
              1,
              "#f0f921"
             ]
            ],
            "type": "histogram2dcontour"
           }
          ],
          "mesh3d": [
           {
            "colorbar": {
             "outlinewidth": 0,
             "ticks": ""
            },
            "type": "mesh3d"
           }
          ],
          "parcoords": [
           {
            "line": {
             "colorbar": {
              "outlinewidth": 0,
              "ticks": ""
             }
            },
            "type": "parcoords"
           }
          ],
          "pie": [
           {
            "automargin": true,
            "type": "pie"
           }
          ],
          "scatter": [
           {
            "fillpattern": {
             "fillmode": "overlay",
             "size": 10,
             "solidity": 0.2
            },
            "type": "scatter"
           }
          ],
          "scatter3d": [
           {
            "line": {
             "colorbar": {
              "outlinewidth": 0,
              "ticks": ""
             }
            },
            "marker": {
             "colorbar": {
              "outlinewidth": 0,
              "ticks": ""
             }
            },
            "type": "scatter3d"
           }
          ],
          "scattercarpet": [
           {
            "marker": {
             "colorbar": {
              "outlinewidth": 0,
              "ticks": ""
             }
            },
            "type": "scattercarpet"
           }
          ],
          "scattergeo": [
           {
            "marker": {
             "colorbar": {
              "outlinewidth": 0,
              "ticks": ""
             }
            },
            "type": "scattergeo"
           }
          ],
          "scattergl": [
           {
            "marker": {
             "colorbar": {
              "outlinewidth": 0,
              "ticks": ""
             }
            },
            "type": "scattergl"
           }
          ],
          "scattermapbox": [
           {
            "marker": {
             "colorbar": {
              "outlinewidth": 0,
              "ticks": ""
             }
            },
            "type": "scattermapbox"
           }
          ],
          "scatterpolar": [
           {
            "marker": {
             "colorbar": {
              "outlinewidth": 0,
              "ticks": ""
             }
            },
            "type": "scatterpolar"
           }
          ],
          "scatterpolargl": [
           {
            "marker": {
             "colorbar": {
              "outlinewidth": 0,
              "ticks": ""
             }
            },
            "type": "scatterpolargl"
           }
          ],
          "scatterternary": [
           {
            "marker": {
             "colorbar": {
              "outlinewidth": 0,
              "ticks": ""
             }
            },
            "type": "scatterternary"
           }
          ],
          "surface": [
           {
            "colorbar": {
             "outlinewidth": 0,
             "ticks": ""
            },
            "colorscale": [
             [
              0,
              "#0d0887"
             ],
             [
              0.1111111111111111,
              "#46039f"
             ],
             [
              0.2222222222222222,
              "#7201a8"
             ],
             [
              0.3333333333333333,
              "#9c179e"
             ],
             [
              0.4444444444444444,
              "#bd3786"
             ],
             [
              0.5555555555555556,
              "#d8576b"
             ],
             [
              0.6666666666666666,
              "#ed7953"
             ],
             [
              0.7777777777777778,
              "#fb9f3a"
             ],
             [
              0.8888888888888888,
              "#fdca26"
             ],
             [
              1,
              "#f0f921"
             ]
            ],
            "type": "surface"
           }
          ],
          "table": [
           {
            "cells": {
             "fill": {
              "color": "#EBF0F8"
             },
             "line": {
              "color": "white"
             }
            },
            "header": {
             "fill": {
              "color": "#C8D4E3"
             },
             "line": {
              "color": "white"
             }
            },
            "type": "table"
           }
          ]
         },
         "layout": {
          "annotationdefaults": {
           "arrowcolor": "#2a3f5f",
           "arrowhead": 0,
           "arrowwidth": 1
          },
          "autotypenumbers": "strict",
          "coloraxis": {
           "colorbar": {
            "outlinewidth": 0,
            "ticks": ""
           }
          },
          "colorscale": {
           "diverging": [
            [
             0,
             "#8e0152"
            ],
            [
             0.1,
             "#c51b7d"
            ],
            [
             0.2,
             "#de77ae"
            ],
            [
             0.3,
             "#f1b6da"
            ],
            [
             0.4,
             "#fde0ef"
            ],
            [
             0.5,
             "#f7f7f7"
            ],
            [
             0.6,
             "#e6f5d0"
            ],
            [
             0.7,
             "#b8e186"
            ],
            [
             0.8,
             "#7fbc41"
            ],
            [
             0.9,
             "#4d9221"
            ],
            [
             1,
             "#276419"
            ]
           ],
           "sequential": [
            [
             0,
             "#0d0887"
            ],
            [
             0.1111111111111111,
             "#46039f"
            ],
            [
             0.2222222222222222,
             "#7201a8"
            ],
            [
             0.3333333333333333,
             "#9c179e"
            ],
            [
             0.4444444444444444,
             "#bd3786"
            ],
            [
             0.5555555555555556,
             "#d8576b"
            ],
            [
             0.6666666666666666,
             "#ed7953"
            ],
            [
             0.7777777777777778,
             "#fb9f3a"
            ],
            [
             0.8888888888888888,
             "#fdca26"
            ],
            [
             1,
             "#f0f921"
            ]
           ],
           "sequentialminus": [
            [
             0,
             "#0d0887"
            ],
            [
             0.1111111111111111,
             "#46039f"
            ],
            [
             0.2222222222222222,
             "#7201a8"
            ],
            [
             0.3333333333333333,
             "#9c179e"
            ],
            [
             0.4444444444444444,
             "#bd3786"
            ],
            [
             0.5555555555555556,
             "#d8576b"
            ],
            [
             0.6666666666666666,
             "#ed7953"
            ],
            [
             0.7777777777777778,
             "#fb9f3a"
            ],
            [
             0.8888888888888888,
             "#fdca26"
            ],
            [
             1,
             "#f0f921"
            ]
           ]
          },
          "colorway": [
           "#636efa",
           "#EF553B",
           "#00cc96",
           "#ab63fa",
           "#FFA15A",
           "#19d3f3",
           "#FF6692",
           "#B6E880",
           "#FF97FF",
           "#FECB52"
          ],
          "font": {
           "color": "#2a3f5f"
          },
          "geo": {
           "bgcolor": "white",
           "lakecolor": "white",
           "landcolor": "#E5ECF6",
           "showlakes": true,
           "showland": true,
           "subunitcolor": "white"
          },
          "hoverlabel": {
           "align": "left"
          },
          "hovermode": "closest",
          "mapbox": {
           "style": "light"
          },
          "paper_bgcolor": "white",
          "plot_bgcolor": "#E5ECF6",
          "polar": {
           "angularaxis": {
            "gridcolor": "white",
            "linecolor": "white",
            "ticks": ""
           },
           "bgcolor": "#E5ECF6",
           "radialaxis": {
            "gridcolor": "white",
            "linecolor": "white",
            "ticks": ""
           }
          },
          "scene": {
           "xaxis": {
            "backgroundcolor": "#E5ECF6",
            "gridcolor": "white",
            "gridwidth": 2,
            "linecolor": "white",
            "showbackground": true,
            "ticks": "",
            "zerolinecolor": "white"
           },
           "yaxis": {
            "backgroundcolor": "#E5ECF6",
            "gridcolor": "white",
            "gridwidth": 2,
            "linecolor": "white",
            "showbackground": true,
            "ticks": "",
            "zerolinecolor": "white"
           },
           "zaxis": {
            "backgroundcolor": "#E5ECF6",
            "gridcolor": "white",
            "gridwidth": 2,
            "linecolor": "white",
            "showbackground": true,
            "ticks": "",
            "zerolinecolor": "white"
           }
          },
          "shapedefaults": {
           "line": {
            "color": "#2a3f5f"
           }
          },
          "ternary": {
           "aaxis": {
            "gridcolor": "white",
            "linecolor": "white",
            "ticks": ""
           },
           "baxis": {
            "gridcolor": "white",
            "linecolor": "white",
            "ticks": ""
           },
           "bgcolor": "#E5ECF6",
           "caxis": {
            "gridcolor": "white",
            "linecolor": "white",
            "ticks": ""
           }
          },
          "title": {
           "x": 0.05
          },
          "xaxis": {
           "automargin": true,
           "gridcolor": "white",
           "linecolor": "white",
           "ticks": "",
           "title": {
            "standoff": 15
           },
           "zerolinecolor": "white",
           "zerolinewidth": 2
          },
          "yaxis": {
           "automargin": true,
           "gridcolor": "white",
           "linecolor": "white",
           "ticks": "",
           "title": {
            "standoff": 15
           },
           "zerolinecolor": "white",
           "zerolinewidth": 2
          }
         }
        },
        "title": {
         "text": "Time Lapse of Total Revenue by Country"
        },
        "updatemenus": [
         {
          "buttons": [
           {
            "args": [
             null,
             {
              "frame": {
               "duration": 500,
               "redraw": true
              },
              "fromcurrent": true,
              "mode": "immediate",
              "transition": {
               "duration": 500,
               "easing": "linear"
              }
             }
            ],
            "label": "&#9654;",
            "method": "animate"
           },
           {
            "args": [
             [
              null
             ],
             {
              "frame": {
               "duration": 0,
               "redraw": true
              },
              "fromcurrent": true,
              "mode": "immediate",
              "transition": {
               "duration": 0,
               "easing": "linear"
              }
             }
            ],
            "label": "&#9724;",
            "method": "animate"
           }
          ],
          "direction": "left",
          "pad": {
           "r": 10,
           "t": 70
          },
          "showactive": false,
          "type": "buttons",
          "x": 0.1,
          "xanchor": "right",
          "y": 0,
          "yanchor": "top"
         }
        ],
        "xaxis": {
         "anchor": "y",
         "domain": [
          0,
          1
         ],
         "title": {
          "text": "Month"
         }
        },
        "yaxis": {
         "anchor": "x",
         "domain": [
          0,
          1
         ],
         "title": {
          "text": "Total Revenue"
         }
        }
       }
      }
     },
     "metadata": {},
     "output_type": "display_data"
    }
   ],
   "source": [
    "fig = px.bar(df.sort_values(by=['First Deal Month']),  \n",
    "            x='Billing Country', y = \"Total Revenue\", animation_frame=\"First Deal Month\")\n",
    "fig.update_layout(\n",
    "    title=\"Time Lapse of Total Revenue by Country\",\n",
    "    xaxis_title=\"Month\",\n",
    "    yaxis_title=\"Total Revenue\")\n",
    "\n",
    "fig.show()"
   ]
  },
  {
   "cell_type": "markdown",
   "metadata": {},
   "source": [
    "Just a slide animation visualization to find total revenue of different countries by months.\\\n",
    "-Note, you have to keep clicking autoscale on the top right to see the full amount; otherwise, you'll see the previous scaling of the month (before or after)... or go to Month 5 and click autoscale and just slide normally without changing anything\n",
    "* Canada peaked in Total Revenue on May, July, October and December\n",
    "* USA peaked in Total Revenue on April, May, July, August, November and December."
   ]
  },
  {
   "cell_type": "markdown",
   "metadata": {},
   "source": [
    "#### Feature Selection using SelectKBest using f_regression"
   ]
  },
  {
   "cell_type": "code",
   "execution_count": 71,
   "metadata": {},
   "outputs": [],
   "source": [
    "from sklearn.model_selection import train_test_split\n",
    "from sklearn.preprocessing import LabelEncoder, StandardScaler\n",
    "from xgboost import XGBRegressor\n",
    "from sklearn import metrics"
   ]
  },
  {
   "cell_type": "code",
   "execution_count": 72,
   "metadata": {},
   "outputs": [],
   "source": [
    "encoder = LabelEncoder()\n",
    "df1['Account Source'] = encoder.fit_transform(df1['Account Source'])\n",
    "df1['Account Type'] = encoder.fit_transform(df1['Account Type'])\n",
    "df1['Owner ID'] = encoder.fit_transform(df1['Owner ID'])\n",
    "df1['Billing Country'] = encoder.fit_transform(df1['Billing Country'])\n",
    "df1['Industry'] = encoder.fit_transform(df1['Industry'])\n",
    "df1['Top Product Family'] = encoder.fit_transform(df1['Top Product Family'])"
   ]
  },
  {
   "cell_type": "code",
   "execution_count": 73,
   "metadata": {},
   "outputs": [],
   "source": [
    "X = df1.drop(columns='Total Revenue', axis=1)\n",
    "y = df1['Total Revenue']"
   ]
  },
  {
   "cell_type": "code",
   "execution_count": 74,
   "metadata": {},
   "outputs": [
    {
     "name": "stdout",
     "output_type": "stream",
     "text": [
      "(308, 17) (246, 17) (62, 17)\n"
     ]
    }
   ],
   "source": [
    "X_train, X_test, y_train, y_test = train_test_split(X,y,test_size=0.2, random_state=2)\n",
    "print(X.shape, X_train.shape, X_test.shape)"
   ]
  },
  {
   "cell_type": "code",
   "execution_count": 75,
   "metadata": {},
   "outputs": [],
   "source": [
    "scaler = StandardScaler()\n",
    "X_train = scaler.fit_transform(X_train)\n",
    "X_test = scaler.transform(X_test)"
   ]
  },
  {
   "cell_type": "code",
   "execution_count": 76,
   "metadata": {},
   "outputs": [],
   "source": [
    "from sklearn.feature_selection import SelectKBest\n",
    "from sklearn.feature_selection import f_regression # F-value between label/feature for regression tasks"
   ]
  },
  {
   "cell_type": "code",
   "execution_count": 77,
   "metadata": {},
   "outputs": [
    {
     "data": {
      "text/html": [
       "<div>\n",
       "<style scoped>\n",
       "    .dataframe tbody tr th:only-of-type {\n",
       "        vertical-align: middle;\n",
       "    }\n",
       "\n",
       "    .dataframe tbody tr th {\n",
       "        vertical-align: top;\n",
       "    }\n",
       "\n",
       "    .dataframe thead th {\n",
       "        text-align: right;\n",
       "    }\n",
       "</style>\n",
       "<table border=\"1\" class=\"dataframe\">\n",
       "  <thead>\n",
       "    <tr style=\"text-align: right;\">\n",
       "      <th></th>\n",
       "      <th>Score</th>\n",
       "    </tr>\n",
       "    <tr>\n",
       "      <th>Specs</th>\n",
       "      <th></th>\n",
       "    </tr>\n",
       "  </thead>\n",
       "  <tbody>\n",
       "    <tr>\n",
       "      <th>Top Product Total Price</th>\n",
       "      <td>1122.90146</td>\n",
       "    </tr>\n",
       "    <tr>\n",
       "      <th>Average Deal Size</th>\n",
       "      <td>1012.43164</td>\n",
       "    </tr>\n",
       "    <tr>\n",
       "      <th># Won Deals</th>\n",
       "      <td>76.99218</td>\n",
       "    </tr>\n",
       "    <tr>\n",
       "      <th>Product Rank</th>\n",
       "      <td>29.63887</td>\n",
       "    </tr>\n",
       "    <tr>\n",
       "      <th>Days Since First Deal Close</th>\n",
       "      <td>7.86959</td>\n",
       "    </tr>\n",
       "    <tr>\n",
       "      <th>First Deal Year</th>\n",
       "      <td>4.81364</td>\n",
       "    </tr>\n",
       "    <tr>\n",
       "      <th>Days Since Most Recent Deal Close</th>\n",
       "      <td>4.00065</td>\n",
       "    </tr>\n",
       "    <tr>\n",
       "      <th>Employees</th>\n",
       "      <td>3.12712</td>\n",
       "    </tr>\n",
       "    <tr>\n",
       "      <th>Billing Country</th>\n",
       "      <td>2.97864</td>\n",
       "    </tr>\n",
       "    <tr>\n",
       "      <th>Industry</th>\n",
       "      <td>1.72492</td>\n",
       "    </tr>\n",
       "    <tr>\n",
       "      <th>Owner ID</th>\n",
       "      <td>1.70485</td>\n",
       "    </tr>\n",
       "    <tr>\n",
       "      <th>Annual Revenue</th>\n",
       "      <td>1.00977</td>\n",
       "    </tr>\n",
       "    <tr>\n",
       "      <th>Account Type</th>\n",
       "      <td>0.90770</td>\n",
       "    </tr>\n",
       "    <tr>\n",
       "      <th>Average Age</th>\n",
       "      <td>0.31561</td>\n",
       "    </tr>\n",
       "    <tr>\n",
       "      <th>Account Source</th>\n",
       "      <td>0.14342</td>\n",
       "    </tr>\n",
       "    <tr>\n",
       "      <th>Top Product Family</th>\n",
       "      <td>0.04202</td>\n",
       "    </tr>\n",
       "    <tr>\n",
       "      <th>First Deal Month</th>\n",
       "      <td>0.00291</td>\n",
       "    </tr>\n",
       "  </tbody>\n",
       "</table>\n",
       "</div>"
      ],
      "text/plain": [
       "                                        Score\n",
       "Specs                                        \n",
       "Top Product Total Price            1122.90146\n",
       "Average Deal Size                  1012.43164\n",
       "# Won Deals                          76.99218\n",
       "Product Rank                         29.63887\n",
       "Days Since First Deal Close           7.86959\n",
       "First Deal Year                       4.81364\n",
       "Days Since Most Recent Deal Close     4.00065\n",
       "Employees                             3.12712\n",
       "Billing Country                       2.97864\n",
       "Industry                              1.72492\n",
       "Owner ID                              1.70485\n",
       "Annual Revenue                        1.00977\n",
       "Account Type                          0.90770\n",
       "Average Age                           0.31561\n",
       "Account Source                        0.14342\n",
       "Top Product Family                    0.04202\n",
       "First Deal Month                      0.00291"
      ]
     },
     "execution_count": 77,
     "metadata": {},
     "output_type": "execute_result"
    }
   ],
   "source": [
    "bestfeatures = SelectKBest(k=10, score_func=f_regression)\n",
    "fit = bestfeatures.fit(X,y)\n",
    "df_columns = pd.DataFrame(X.columns)\n",
    "df_scores = pd.DataFrame(fit.scores_)\n",
    "#concat the two df\n",
    "feature_scores_df = pd.concat([df_columns,df_scores],axis=1)\n",
    "feature_scores_df = feature_scores_df.dropna() #remove the nan from onehotencoders\n",
    "feature_scores_df.columns = ['Specs','Score']  #naming the dataframe columns\n",
    "feature_scores_df.nlargest(17,'Score').set_index('Specs') # Ordered feature relevance "
   ]
  },
  {
   "cell_type": "markdown",
   "metadata": {},
   "source": [
    "For F-Regression, the higher the value, the more significant the feature is to the model.\n",
    "\\\n",
    "It seems like the 'Top Product Total Price' is the most important feature and 'First Deal Month' being the least important if expanded."
   ]
  },
  {
   "cell_type": "code",
   "execution_count": 78,
   "metadata": {},
   "outputs": [
    {
     "data": {
      "text/html": [
       "<div>\n",
       "<style scoped>\n",
       "    .dataframe tbody tr th:only-of-type {\n",
       "        vertical-align: middle;\n",
       "    }\n",
       "\n",
       "    .dataframe tbody tr th {\n",
       "        vertical-align: top;\n",
       "    }\n",
       "\n",
       "    .dataframe thead th {\n",
       "        text-align: right;\n",
       "    }\n",
       "</style>\n",
       "<table border=\"1\" class=\"dataframe\">\n",
       "  <thead>\n",
       "    <tr style=\"text-align: right;\">\n",
       "      <th></th>\n",
       "      <th>Specs</th>\n",
       "      <th>Score</th>\n",
       "    </tr>\n",
       "  </thead>\n",
       "  <tbody>\n",
       "    <tr>\n",
       "      <th>14</th>\n",
       "      <td>Top Product Total Price</td>\n",
       "      <td>1122.90146</td>\n",
       "    </tr>\n",
       "  </tbody>\n",
       "</table>\n",
       "</div>"
      ],
      "text/plain": [
       "                      Specs       Score\n",
       "14  Top Product Total Price  1122.90146"
      ]
     },
     "execution_count": 78,
     "metadata": {},
     "output_type": "execute_result"
    }
   ],
   "source": [
    "feature_scores_df[feature_scores_df['Specs']=='Top Product Total Price']"
   ]
  },
  {
   "cell_type": "code",
   "execution_count": 79,
   "metadata": {},
   "outputs": [
    {
     "data": {
      "text/html": [
       "<div>\n",
       "<style scoped>\n",
       "    .dataframe tbody tr th:only-of-type {\n",
       "        vertical-align: middle;\n",
       "    }\n",
       "\n",
       "    .dataframe tbody tr th {\n",
       "        vertical-align: top;\n",
       "    }\n",
       "\n",
       "    .dataframe thead th {\n",
       "        text-align: right;\n",
       "    }\n",
       "</style>\n",
       "<table border=\"1\" class=\"dataframe\">\n",
       "  <thead>\n",
       "    <tr style=\"text-align: right;\">\n",
       "      <th></th>\n",
       "      <th>Specs</th>\n",
       "      <th>Score</th>\n",
       "    </tr>\n",
       "  </thead>\n",
       "  <tbody>\n",
       "    <tr>\n",
       "      <th>0</th>\n",
       "      <td># Won Deals</td>\n",
       "      <td>76.99218</td>\n",
       "    </tr>\n",
       "  </tbody>\n",
       "</table>\n",
       "</div>"
      ],
      "text/plain": [
       "         Specs     Score\n",
       "0  # Won Deals  76.99218"
      ]
     },
     "execution_count": 79,
     "metadata": {},
     "output_type": "execute_result"
    }
   ],
   "source": [
    "feature_scores_df[feature_scores_df['Specs']=='# Won Deals']"
   ]
  },
  {
   "cell_type": "code",
   "execution_count": 80,
   "metadata": {},
   "outputs": [],
   "source": [
    "df1 = df1.drop(['First Deal Year','Days Since Most Recent Deal Close','Employees','Billing Country','Industry','Owner ID','Annual Revenue','Account Type','Average Age','Account Source','Top Product Family','First Deal Month','Days Since First Deal Close'],axis=1)"
   ]
  },
  {
   "cell_type": "code",
   "execution_count": 81,
   "metadata": {},
   "outputs": [
    {
     "data": {
      "text/html": [
       "<div>\n",
       "<style scoped>\n",
       "    .dataframe tbody tr th:only-of-type {\n",
       "        vertical-align: middle;\n",
       "    }\n",
       "\n",
       "    .dataframe tbody tr th {\n",
       "        vertical-align: top;\n",
       "    }\n",
       "\n",
       "    .dataframe thead th {\n",
       "        text-align: right;\n",
       "    }\n",
       "</style>\n",
       "<table border=\"1\" class=\"dataframe\">\n",
       "  <thead>\n",
       "    <tr style=\"text-align: right;\">\n",
       "      <th></th>\n",
       "      <th># Won Deals</th>\n",
       "      <th>Average Deal Size</th>\n",
       "      <th>Product Rank</th>\n",
       "      <th>Top Product Total Price</th>\n",
       "      <th>Total Revenue</th>\n",
       "    </tr>\n",
       "  </thead>\n",
       "  <tbody>\n",
       "    <tr>\n",
       "      <th>0</th>\n",
       "      <td>1</td>\n",
       "      <td>1415700</td>\n",
       "      <td>1</td>\n",
       "      <td>1415700</td>\n",
       "      <td>1415700</td>\n",
       "    </tr>\n",
       "    <tr>\n",
       "      <th>1</th>\n",
       "      <td>1</td>\n",
       "      <td>1411200</td>\n",
       "      <td>1</td>\n",
       "      <td>1411200</td>\n",
       "      <td>1411200</td>\n",
       "    </tr>\n",
       "    <tr>\n",
       "      <th>2</th>\n",
       "      <td>1</td>\n",
       "      <td>3428800</td>\n",
       "      <td>1</td>\n",
       "      <td>1726250</td>\n",
       "      <td>3428800</td>\n",
       "    </tr>\n",
       "    <tr>\n",
       "      <th>3</th>\n",
       "      <td>1</td>\n",
       "      <td>1817900</td>\n",
       "      <td>1</td>\n",
       "      <td>1307500</td>\n",
       "      <td>1817900</td>\n",
       "    </tr>\n",
       "    <tr>\n",
       "      <th>4</th>\n",
       "      <td>1</td>\n",
       "      <td>3251640</td>\n",
       "      <td>1</td>\n",
       "      <td>2430400</td>\n",
       "      <td>3251640</td>\n",
       "    </tr>\n",
       "    <tr>\n",
       "      <th>...</th>\n",
       "      <td>...</td>\n",
       "      <td>...</td>\n",
       "      <td>...</td>\n",
       "      <td>...</td>\n",
       "      <td>...</td>\n",
       "    </tr>\n",
       "    <tr>\n",
       "      <th>303</th>\n",
       "      <td>1</td>\n",
       "      <td>89320</td>\n",
       "      <td>1</td>\n",
       "      <td>89320</td>\n",
       "      <td>89320</td>\n",
       "    </tr>\n",
       "    <tr>\n",
       "      <th>304</th>\n",
       "      <td>1</td>\n",
       "      <td>874780</td>\n",
       "      <td>1</td>\n",
       "      <td>644500</td>\n",
       "      <td>874780</td>\n",
       "    </tr>\n",
       "    <tr>\n",
       "      <th>305</th>\n",
       "      <td>1</td>\n",
       "      <td>638750</td>\n",
       "      <td>1</td>\n",
       "      <td>638750</td>\n",
       "      <td>638750</td>\n",
       "    </tr>\n",
       "    <tr>\n",
       "      <th>306</th>\n",
       "      <td>1</td>\n",
       "      <td>1193160</td>\n",
       "      <td>1</td>\n",
       "      <td>1190000</td>\n",
       "      <td>1193160</td>\n",
       "    </tr>\n",
       "    <tr>\n",
       "      <th>307</th>\n",
       "      <td>1</td>\n",
       "      <td>2208300</td>\n",
       "      <td>1</td>\n",
       "      <td>1451800</td>\n",
       "      <td>2208300</td>\n",
       "    </tr>\n",
       "  </tbody>\n",
       "</table>\n",
       "<p>308 rows × 5 columns</p>\n",
       "</div>"
      ],
      "text/plain": [
       "     # Won Deals  Average Deal Size  Product Rank  Top Product Total Price  \\\n",
       "0              1            1415700             1                  1415700   \n",
       "1              1            1411200             1                  1411200   \n",
       "2              1            3428800             1                  1726250   \n",
       "3              1            1817900             1                  1307500   \n",
       "4              1            3251640             1                  2430400   \n",
       "..           ...                ...           ...                      ...   \n",
       "303            1              89320             1                    89320   \n",
       "304            1             874780             1                   644500   \n",
       "305            1             638750             1                   638750   \n",
       "306            1            1193160             1                  1190000   \n",
       "307            1            2208300             1                  1451800   \n",
       "\n",
       "     Total Revenue  \n",
       "0          1415700  \n",
       "1          1411200  \n",
       "2          3428800  \n",
       "3          1817900  \n",
       "4          3251640  \n",
       "..             ...  \n",
       "303          89320  \n",
       "304         874780  \n",
       "305         638750  \n",
       "306        1193160  \n",
       "307        2208300  \n",
       "\n",
       "[308 rows x 5 columns]"
      ]
     },
     "execution_count": 81,
     "metadata": {},
     "output_type": "execute_result"
    }
   ],
   "source": [
    "df1"
   ]
  },
  {
   "cell_type": "code",
   "execution_count": 82,
   "metadata": {},
   "outputs": [],
   "source": [
    "X = X.drop(['Days Since First Deal Close','First Deal Year','Days Since Most Recent Deal Close','Employees','Billing Country','Industry','Owner ID','Annual Revenue','Account Type','Average Age','Account Source','Top Product Family','First Deal Month'],axis=1)"
   ]
  },
  {
   "cell_type": "code",
   "execution_count": 83,
   "metadata": {},
   "outputs": [
    {
     "name": "stdout",
     "output_type": "stream",
     "text": [
      "(308, 4) (246, 4) (62, 4)\n"
     ]
    }
   ],
   "source": [
    "X_train, X_test, y_train, y_test = train_test_split(X,y,test_size=0.2, random_state=2)\n",
    "print(X.shape, X_train.shape, X_test.shape)"
   ]
  },
  {
   "cell_type": "code",
   "execution_count": 84,
   "metadata": {},
   "outputs": [],
   "source": [
    "scaler = StandardScaler()\n",
    "X_train = scaler.fit_transform(X_train)\n",
    "X_test = scaler.transform(X_test)"
   ]
  },
  {
   "cell_type": "markdown",
   "metadata": {},
   "source": [
    "### Model Selection:"
   ]
  },
  {
   "cell_type": "code",
   "execution_count": 85,
   "metadata": {},
   "outputs": [],
   "source": [
    "from sklearn.model_selection import KFold, cross_val_score, GridSearchCV\n",
    "from sklearn.metrics import mean_squared_error\n",
    "\n",
    "from sklearn.linear_model import LinearRegression, Lasso, Ridge, ElasticNet\n",
    "from sklearn.tree import DecisionTreeRegressor\n",
    "from sklearn.neighbors import KNeighborsRegressor\n",
    "from sklearn.svm import SVR\n",
    "from sklearn.ensemble import RandomForestRegressor, GradientBoostingRegressor, ExtraTreesRegressor, AdaBoostRegressor\n",
    "from sklearn.neural_network import MLPRegressor\n",
    "\n",
    "from keras.models import Sequential\n",
    "from keras.optimizers import SGD"
   ]
  },
  {
   "cell_type": "code",
   "execution_count": 86,
   "metadata": {},
   "outputs": [],
   "source": [
    "models = []\n",
    "models.append(('LR', LinearRegression()))\n",
    "models.append(('LASSO', Lasso()))\n",
    "models.append(('RIDGE', Ridge()))\n",
    "models.append(('EN', ElasticNet()))\n",
    "models.append(('Dec Tree', DecisionTreeRegressor()))\n",
    "models.append(('KNeigh', KNeighborsRegressor()))\n",
    "models.append(('SVR',SVR()))\n",
    "models.append(('RF', RandomForestRegressor()))\n",
    "models.append(('GBR', GradientBoostingRegressor()))\n",
    "models.append(('ETR', ExtraTreesRegressor()))\n",
    "models.append(('ABR', AdaBoostRegressor()))\n",
    "models.append(('NN', MLPRegressor()))"
   ]
  },
  {
   "cell_type": "code",
   "execution_count": 87,
   "metadata": {},
   "outputs": [],
   "source": [
    "num_folds = 10\n",
    "scoring='neg_mean_squared_error'"
   ]
  },
  {
   "cell_type": "code",
   "execution_count": 88,
   "metadata": {},
   "outputs": [
    {
     "name": "stdout",
     "output_type": "stream",
     "text": [
      "LR, 363988.307041 (115902.763567) 368599.118813 515976.252885\n",
      "LASSO, 363988.124935 (115903.345078) 368599.118819 515976.607023\n",
      "RIDGE, 363340.185347 (117760.559599) 368688.163222 517978.236298\n",
      "EN, 462273.922773 (185967.504239) 488925.627221 705499.896060\n",
      "Dec Tree, 357238.975549 (244074.167669) 0.000000 745668.792598\n",
      "KNeigh, 273093.551819 (109080.068070) 213577.783691 747912.868141\n",
      "SVR, 1468042.992144 (286616.852655) 1486756.465687 1979562.374031\n",
      "RF, 306065.393282 (150536.313195) 119920.557572 713705.883339\n",
      "GBR, 171638.316394 (79932.918296) 35476.298305 566232.745708\n",
      "ETR, 127808.564534 (72832.149232) 0.000000 568036.611618\n",
      "ABR, 379660.824476 (128615.339658) 262962.694775 707804.153511\n",
      "NN, 1881570.133360 (303536.939189) 1904144.140800 2412368.612533\n"
     ]
    }
   ],
   "source": [
    "names = []\n",
    "kfold_results = []\n",
    "test_results = []\n",
    "train_results = []\n",
    "for name, model in models:\n",
    "    names.append(name)\n",
    "\n",
    "    # K-fold Analysis:\n",
    "    kfold = KFold(n_splits=num_folds)\n",
    "\n",
    "    # convert MSE to positive. The lower the bettter\n",
    "    cv_results = -1*cross_val_score(model, X_train, y_train, cv=kfold, scoring=scoring)\n",
    "    cv_results = np.sqrt(cv_results)\n",
    "    kfold_results.append(cv_results)\n",
    "\n",
    "    # Full training \n",
    "    res = model.fit(X_train, y_train)\n",
    "    train_result = mean_squared_error(res.predict(X_train), y_train)\n",
    "    train_result = np.sqrt(train_result)\n",
    "    train_results.append(train_result)\n",
    "\n",
    "    # Test results\n",
    "    test_result = mean_squared_error(res.predict(X_test), y_test)\n",
    "    test_result = np.sqrt(test_result)\n",
    "    test_results.append(test_result)\n",
    "\n",
    "    msg = \"%s, %f (%f) %f %f\" % (name, cv_results.mean(), cv_results.std(), train_result, test_result)\n",
    "    print(msg)"
   ]
  },
  {
   "cell_type": "code",
   "execution_count": 89,
   "metadata": {},
   "outputs": [
    {
     "data": {
      "image/png": "[encoded data removed]",
      "text/plain": [
       "<Figure size 1500x800 with 1 Axes>"
      ]
     },
     "metadata": {},
     "output_type": "display_data"
    }
   ],
   "source": [
    "fig = plt.figure()\n",
    "fig.suptitle('Algorithm Comparison: Kfold results')\n",
    "ax = fig.add_subplot(111)\n",
    "plt.boxplot(kfold_results)\n",
    "ax.set_xticklabels(names)\n",
    "fig.set_size_inches(15,8)\n",
    "plt.show()"
   ]
  },
  {
   "cell_type": "code",
   "execution_count": 90,
   "metadata": {},
   "outputs": [
    {
     "data": {
      "text/plain": [
       "788017.5"
      ]
     },
     "execution_count": 90,
     "metadata": {},
     "output_type": "execute_result"
    }
   ],
   "source": [
    "df1['Total Revenue'].median()"
   ]
  },
  {
   "cell_type": "markdown",
   "metadata": {},
   "source": [
    "SVR and Neural Network does not seem to be a good algorithm as the loss is way higher compared to the other selected models. \n",
    "GradientBoosting and ExtraTrees seems like a good candidate to proceed towards the model evaluation; however, the Extra Tree MSE value in the train result seems to be zero, which seems off. For GBR, we can see that an average cross validation mean value of $200,000 isn't overwelming if we compare the median value of our target variable: 'Total Revenue', which is $788,000. I'll choose GBR for the model evaluation."
   ]
  },
  {
   "cell_type": "code",
   "execution_count": 91,
   "metadata": {},
   "outputs": [
    {
     "data": {
      "text/html": [
       "<style>#sk-container-id-1 {color: black;background-color: white;}#sk-container-id-1 pre{padding: 0;}#sk-container-id-1 div.sk-toggleable {background-color: white;}#sk-container-id-1 label.sk-toggleable__label {cursor: pointer;display: block;width: 100%;margin-bottom: 0;padding: 0.3em;box-sizing: border-box;text-align: center;}#sk-container-id-1 label.sk-toggleable__label-arrow:before {content: \"▸\";float: left;margin-right: 0.25em;color: #696969;}#sk-container-id-1 label.sk-toggleable__label-arrow:hover:before {color: black;}#sk-container-id-1 div.sk-estimator:hover label.sk-toggleable__label-arrow:before {color: black;}#sk-container-id-1 div.sk-toggleable__content {max-height: 0;max-width: 0;overflow: hidden;text-align: left;background-color: #f0f8ff;}#sk-container-id-1 div.sk-toggleable__content pre {margin: 0.2em;color: black;border-radius: 0.25em;background-color: #f0f8ff;}#sk-container-id-1 input.sk-toggleable__control:checked~div.sk-toggleable__content {max-height: 200px;max-width: 100%;overflow: auto;}#sk-container-id-1 input.sk-toggleable__control:checked~label.sk-toggleable__label-arrow:before {content: \"▾\";}#sk-container-id-1 div.sk-estimator input.sk-toggleable__control:checked~label.sk-toggleable__label {background-color: #d4ebff;}#sk-container-id-1 div.sk-label input.sk-toggleable__control:checked~label.sk-toggleable__label {background-color: #d4ebff;}#sk-container-id-1 input.sk-hidden--visually {border: 0;clip: rect(1px 1px 1px 1px);clip: rect(1px, 1px, 1px, 1px);height: 1px;margin: -1px;overflow: hidden;padding: 0;position: absolute;width: 1px;}#sk-container-id-1 div.sk-estimator {font-family: monospace;background-color: #f0f8ff;border: 1px dotted black;border-radius: 0.25em;box-sizing: border-box;margin-bottom: 0.5em;}#sk-container-id-1 div.sk-estimator:hover {background-color: #d4ebff;}#sk-container-id-1 div.sk-parallel-item::after {content: \"\";width: 100%;border-bottom: 1px solid gray;flex-grow: 1;}#sk-container-id-1 div.sk-label:hover label.sk-toggleable__label {background-color: #d4ebff;}#sk-container-id-1 div.sk-serial::before {content: \"\";position: absolute;border-left: 1px solid gray;box-sizing: border-box;top: 0;bottom: 0;left: 50%;z-index: 0;}#sk-container-id-1 div.sk-serial {display: flex;flex-direction: column;align-items: center;background-color: white;padding-right: 0.2em;padding-left: 0.2em;position: relative;}#sk-container-id-1 div.sk-item {position: relative;z-index: 1;}#sk-container-id-1 div.sk-parallel {display: flex;align-items: stretch;justify-content: center;background-color: white;position: relative;}#sk-container-id-1 div.sk-item::before, #sk-container-id-1 div.sk-parallel-item::before {content: \"\";position: absolute;border-left: 1px solid gray;box-sizing: border-box;top: 0;bottom: 0;left: 50%;z-index: -1;}#sk-container-id-1 div.sk-parallel-item {display: flex;flex-direction: column;z-index: 1;position: relative;background-color: white;}#sk-container-id-1 div.sk-parallel-item:first-child::after {align-self: flex-end;width: 50%;}#sk-container-id-1 div.sk-parallel-item:last-child::after {align-self: flex-start;width: 50%;}#sk-container-id-1 div.sk-parallel-item:only-child::after {width: 0;}#sk-container-id-1 div.sk-dashed-wrapped {border: 1px dashed gray;margin: 0 0.4em 0.5em 0.4em;box-sizing: border-box;padding-bottom: 0.4em;background-color: white;}#sk-container-id-1 div.sk-label label {font-family: monospace;font-weight: bold;display: inline-block;line-height: 1.2em;}#sk-container-id-1 div.sk-label-container {text-align: center;}#sk-container-id-1 div.sk-container {/* jupyter's `normalize.less` sets `[hidden] { display: none; }` but bootstrap.min.css set `[hidden] { display: none !important; }` so we also need the `!important` here to be able to override the default hidden behavior on the sphinx rendered scikit-learn.org. See: https://github.com/scikit-learn/scikit-learn/issues/21755 */display: inline-block !important;position: relative;}#sk-container-id-1 div.sk-text-repr-fallback {display: none;}</style><div id=\"sk-container-id-1\" class=\"sk-top-container\"><div class=\"sk-text-repr-fallback\"><pre>GradientBoostingRegressor()</pre><b>In a Jupyter environment, please rerun this cell to show the HTML representation or trust the notebook. <br />On GitHub, the HTML representation is unable to render, please try loading this page with nbviewer.org.</b></div><div class=\"sk-container\" hidden><div class=\"sk-item\"><div class=\"sk-estimator sk-toggleable\"><input class=\"sk-toggleable__control sk-hidden--visually\" id=\"sk-estimator-id-1\" type=\"checkbox\" checked><label for=\"sk-estimator-id-1\" class=\"sk-toggleable__label sk-toggleable__label-arrow\">GradientBoostingRegressor</label><div class=\"sk-toggleable__content\"><pre>GradientBoostingRegressor()</pre></div></div></div></div></div>"
      ],
      "text/plain": [
       "GradientBoostingRegressor()"
      ]
     },
     "execution_count": 91,
     "metadata": {},
     "output_type": "execute_result"
    }
   ],
   "source": [
    "GBR = GradientBoostingRegressor()\n",
    "GBR.fit(X_train, y_train)"
   ]
  },
  {
   "cell_type": "code",
   "execution_count": 92,
   "metadata": {},
   "outputs": [],
   "source": [
    "train_prediction = GBR.predict(X_train)"
   ]
  },
  {
   "cell_type": "code",
   "execution_count": 93,
   "metadata": {},
   "outputs": [
    {
     "data": {
      "text/plain": [
       "0.9993528094837478"
      ]
     },
     "execution_count": 93,
     "metadata": {},
     "output_type": "execute_result"
    }
   ],
   "source": [
    "metrics.r2_score(y_train, train_prediction)"
   ]
  },
  {
   "cell_type": "markdown",
   "metadata": {},
   "source": [
    "R squared value of 0.99, this is great, but we need to check if it generalized well on the test set"
   ]
  },
  {
   "cell_type": "code",
   "execution_count": 94,
   "metadata": {},
   "outputs": [],
   "source": [
    "test_pred = GBR.predict(X_test)"
   ]
  },
  {
   "cell_type": "code",
   "execution_count": 95,
   "metadata": {},
   "outputs": [
    {
     "data": {
      "text/plain": [
       "0.901048357636635"
      ]
     },
     "execution_count": 95,
     "metadata": {},
     "output_type": "execute_result"
    }
   ],
   "source": [
    "metrics.r2_score(y_test, test_pred)"
   ]
  },
  {
   "cell_type": "markdown",
   "metadata": {},
   "source": [
    "R squared value of 0.91, not too bad for prediction on the test set"
   ]
  },
  {
   "cell_type": "code",
   "execution_count": 96,
   "metadata": {},
   "outputs": [],
   "source": [
    "model = pd.DataFrame({'Actual':y_test, 'Predicted':test_pred})"
   ]
  },
  {
   "cell_type": "markdown",
   "metadata": {},
   "source": [
    "So with Gradient Boosting, we can see that the model performed well on both the training set and the test set. We can tune it further with GridSearchCV"
   ]
  },
  {
   "cell_type": "code",
   "execution_count": 97,
   "metadata": {},
   "outputs": [
    {
     "name": "stdout",
     "output_type": "stream",
     "text": [
      "\u001b[1;31mInit signature:\u001b[0m\n",
      "\u001b[0mGradientBoostingRegressor\u001b[0m\u001b[1;33m(\u001b[0m\u001b[1;33m\n",
      "\u001b[0m    \u001b[1;33m*\u001b[0m\u001b[1;33m,\u001b[0m\u001b[1;33m\n",
      "\u001b[0m    \u001b[0mloss\u001b[0m\u001b[1;33m=\u001b[0m\u001b[1;34m'squared_error'\u001b[0m\u001b[1;33m,\u001b[0m\u001b[1;33m\n",
      "\u001b[0m    \u001b[0mlearning_rate\u001b[0m\u001b[1;33m=\u001b[0m\u001b[1;36m0.1\u001b[0m\u001b[1;33m,\u001b[0m\u001b[1;33m\n",
      "\u001b[0m    \u001b[0mn_estimators\u001b[0m\u001b[1;33m=\u001b[0m\u001b[1;36m100\u001b[0m\u001b[1;33m,\u001b[0m\u001b[1;33m\n",
      "\u001b[0m    \u001b[0msubsample\u001b[0m\u001b[1;33m=\u001b[0m\u001b[1;36m1.0\u001b[0m\u001b[1;33m,\u001b[0m\u001b[1;33m\n",
      "\u001b[0m    \u001b[0mcriterion\u001b[0m\u001b[1;33m=\u001b[0m\u001b[1;34m'friedman_mse'\u001b[0m\u001b[1;33m,\u001b[0m\u001b[1;33m\n",
      "\u001b[0m    \u001b[0mmin_samples_split\u001b[0m\u001b[1;33m=\u001b[0m\u001b[1;36m2\u001b[0m\u001b[1;33m,\u001b[0m\u001b[1;33m\n",
      "\u001b[0m    \u001b[0mmin_samples_leaf\u001b[0m\u001b[1;33m=\u001b[0m\u001b[1;36m1\u001b[0m\u001b[1;33m,\u001b[0m\u001b[1;33m\n",
      "\u001b[0m    \u001b[0mmin_weight_fraction_leaf\u001b[0m\u001b[1;33m=\u001b[0m\u001b[1;36m0.0\u001b[0m\u001b[1;33m,\u001b[0m\u001b[1;33m\n",
      "\u001b[0m    \u001b[0mmax_depth\u001b[0m\u001b[1;33m=\u001b[0m\u001b[1;36m3\u001b[0m\u001b[1;33m,\u001b[0m\u001b[1;33m\n",
      "\u001b[0m    \u001b[0mmin_impurity_decrease\u001b[0m\u001b[1;33m=\u001b[0m\u001b[1;36m0.0\u001b[0m\u001b[1;33m,\u001b[0m\u001b[1;33m\n",
      "\u001b[0m    \u001b[0minit\u001b[0m\u001b[1;33m=\u001b[0m\u001b[1;32mNone\u001b[0m\u001b[1;33m,\u001b[0m\u001b[1;33m\n",
      "\u001b[0m    \u001b[0mrandom_state\u001b[0m\u001b[1;33m=\u001b[0m\u001b[1;32mNone\u001b[0m\u001b[1;33m,\u001b[0m\u001b[1;33m\n",
      "\u001b[0m    \u001b[0mmax_features\u001b[0m\u001b[1;33m=\u001b[0m\u001b[1;32mNone\u001b[0m\u001b[1;33m,\u001b[0m\u001b[1;33m\n",
      "\u001b[0m    \u001b[0malpha\u001b[0m\u001b[1;33m=\u001b[0m\u001b[1;36m0.9\u001b[0m\u001b[1;33m,\u001b[0m\u001b[1;33m\n",
      "\u001b[0m    \u001b[0mverbose\u001b[0m\u001b[1;33m=\u001b[0m\u001b[1;36m0\u001b[0m\u001b[1;33m,\u001b[0m\u001b[1;33m\n",
      "\u001b[0m    \u001b[0mmax_leaf_nodes\u001b[0m\u001b[1;33m=\u001b[0m\u001b[1;32mNone\u001b[0m\u001b[1;33m,\u001b[0m\u001b[1;33m\n",
      "\u001b[0m    \u001b[0mwarm_start\u001b[0m\u001b[1;33m=\u001b[0m\u001b[1;32mFalse\u001b[0m\u001b[1;33m,\u001b[0m\u001b[1;33m\n",
      "\u001b[0m    \u001b[0mvalidation_fraction\u001b[0m\u001b[1;33m=\u001b[0m\u001b[1;36m0.1\u001b[0m\u001b[1;33m,\u001b[0m\u001b[1;33m\n",
      "\u001b[0m    \u001b[0mn_iter_no_change\u001b[0m\u001b[1;33m=\u001b[0m\u001b[1;32mNone\u001b[0m\u001b[1;33m,\u001b[0m\u001b[1;33m\n",
      "\u001b[0m    \u001b[0mtol\u001b[0m\u001b[1;33m=\u001b[0m\u001b[1;36m0.0001\u001b[0m\u001b[1;33m,\u001b[0m\u001b[1;33m\n",
      "\u001b[0m    \u001b[0mccp_alpha\u001b[0m\u001b[1;33m=\u001b[0m\u001b[1;36m0.0\u001b[0m\u001b[1;33m,\u001b[0m\u001b[1;33m\n",
      "\u001b[0m\u001b[1;33m)\u001b[0m\u001b[1;33m\u001b[0m\u001b[1;33m\u001b[0m\u001b[0m\n",
      "\u001b[1;31mDocstring:\u001b[0m     \n",
      "Gradient Boosting for regression.\n",
      "\n",
      "This estimator builds an additive model in a forward stage-wise fashion; it\n",
      "allows for the optimization of arbitrary differentiable loss functions. In\n",
      "each stage a regression tree is fit on the negative gradient of the given\n",
      "loss function.\n",
      "\n",
      ":class:`sklearn.ensemble.HistGradientBoostingRegressor` is a much faster\n",
      "variant of this algorithm for intermediate datasets (`n_samples >= 10_000`).\n",
      "\n",
      "Read more in the :ref:`User Guide <gradient_boosting>`.\n",
      "\n",
      "Parameters\n",
      "----------\n",
      "loss : {'squared_error', 'absolute_error', 'huber', 'quantile'},             default='squared_error'\n",
      "    Loss function to be optimized. 'squared_error' refers to the squared\n",
      "    error for regression. 'absolute_error' refers to the absolute error of\n",
      "    regression and is a robust loss function. 'huber' is a\n",
      "    combination of the two. 'quantile' allows quantile regression (use\n",
      "    `alpha` to specify the quantile).\n",
      "\n",
      "    .. deprecated:: 1.0\n",
      "        The loss 'ls' was deprecated in v1.0 and will be removed in\n",
      "        version 1.2. Use `loss='squared_error'` which is equivalent.\n",
      "\n",
      "    .. deprecated:: 1.0\n",
      "        The loss 'lad' was deprecated in v1.0 and will be removed in\n",
      "        version 1.2. Use `loss='absolute_error'` which is equivalent.\n",
      "\n",
      "learning_rate : float, default=0.1\n",
      "    Learning rate shrinks the contribution of each tree by `learning_rate`.\n",
      "    There is a trade-off between learning_rate and n_estimators.\n",
      "    Values must be in the range `(0.0, inf)`.\n",
      "\n",
      "n_estimators : int, default=100\n",
      "    The number of boosting stages to perform. Gradient boosting\n",
      "    is fairly robust to over-fitting so a large number usually\n",
      "    results in better performance.\n",
      "    Values must be in the range `[1, inf)`.\n",
      "\n",
      "subsample : float, default=1.0\n",
      "    The fraction of samples to be used for fitting the individual base\n",
      "    learners. If smaller than 1.0 this results in Stochastic Gradient\n",
      "    Boosting. `subsample` interacts with the parameter `n_estimators`.\n",
      "    Choosing `subsample < 1.0` leads to a reduction of variance\n",
      "    and an increase in bias.\n",
      "    Values must be in the range `(0.0, 1.0]`.\n",
      "\n",
      "criterion : {'friedman_mse', 'squared_error', 'mse'},             default='friedman_mse'\n",
      "    The function to measure the quality of a split. Supported criteria are\n",
      "    \"friedman_mse\" for the mean squared error with improvement score by\n",
      "    Friedman, \"squared_error\" for mean squared error. The default value of\n",
      "    \"friedman_mse\" is generally the best as it can provide a better\n",
      "    approximation in some cases.\n",
      "\n",
      "    .. versionadded:: 0.18\n",
      "\n",
      "    .. deprecated:: 1.0\n",
      "        Criterion 'mse' was deprecated in v1.0 and will be removed in\n",
      "        version 1.2. Use `criterion='squared_error'` which is equivalent.\n",
      "\n",
      "min_samples_split : int or float, default=2\n",
      "    The minimum number of samples required to split an internal node:\n",
      "\n",
      "    - If int, values must be in the range `[2, inf)`.\n",
      "    - If float, values must be in the range `(0.0, 1.0]` and `min_samples_split`\n",
      "      will be `ceil(min_samples_split * n_samples)`.\n",
      "\n",
      "    .. versionchanged:: 0.18\n",
      "       Added float values for fractions.\n",
      "\n",
      "min_samples_leaf : int or float, default=1\n",
      "    The minimum number of samples required to be at a leaf node.\n",
      "    A split point at any depth will only be considered if it leaves at\n",
      "    least ``min_samples_leaf`` training samples in each of the left and\n",
      "    right branches.  This may have the effect of smoothing the model,\n",
      "    especially in regression.\n",
      "\n",
      "    - If int, values must be in the range `[1, inf)`.\n",
      "    - If float, values must be in the range `(0.0, 1.0]` and `min_samples_leaf`\n",
      "      will be `ceil(min_samples_leaf * n_samples)`.\n",
      "\n",
      "    .. versionchanged:: 0.18\n",
      "       Added float values for fractions.\n",
      "\n",
      "min_weight_fraction_leaf : float, default=0.0\n",
      "    The minimum weighted fraction of the sum total of weights (of all\n",
      "    the input samples) required to be at a leaf node. Samples have\n",
      "    equal weight when sample_weight is not provided.\n",
      "    Values must be in the range `[0.0, 0.5]`.\n",
      "\n",
      "max_depth : int, default=3\n",
      "    Maximum depth of the individual regression estimators. The maximum\n",
      "    depth limits the number of nodes in the tree. Tune this parameter\n",
      "    for best performance; the best value depends on the interaction\n",
      "    of the input variables.\n",
      "    Values must be in the range `[1, inf)`.\n",
      "\n",
      "min_impurity_decrease : float, default=0.0\n",
      "    A node will be split if this split induces a decrease of the impurity\n",
      "    greater than or equal to this value.\n",
      "    Values must be in the range `[0.0, inf)`.\n",
      "\n",
      "    The weighted impurity decrease equation is the following::\n",
      "\n",
      "        N_t / N * (impurity - N_t_R / N_t * right_impurity\n",
      "                            - N_t_L / N_t * left_impurity)\n",
      "\n",
      "    where ``N`` is the total number of samples, ``N_t`` is the number of\n",
      "    samples at the current node, ``N_t_L`` is the number of samples in the\n",
      "    left child, and ``N_t_R`` is the number of samples in the right child.\n",
      "\n",
      "    ``N``, ``N_t``, ``N_t_R`` and ``N_t_L`` all refer to the weighted sum,\n",
      "    if ``sample_weight`` is passed.\n",
      "\n",
      "    .. versionadded:: 0.19\n",
      "\n",
      "init : estimator or 'zero', default=None\n",
      "    An estimator object that is used to compute the initial predictions.\n",
      "    ``init`` has to provide :term:`fit` and :term:`predict`. If 'zero', the\n",
      "    initial raw predictions are set to zero. By default a\n",
      "    ``DummyEstimator`` is used, predicting either the average target value\n",
      "    (for loss='squared_error'), or a quantile for the other losses.\n",
      "\n",
      "random_state : int, RandomState instance or None, default=None\n",
      "    Controls the random seed given to each Tree estimator at each\n",
      "    boosting iteration.\n",
      "    In addition, it controls the random permutation of the features at\n",
      "    each split (see Notes for more details).\n",
      "    It also controls the random splitting of the training data to obtain a\n",
      "    validation set if `n_iter_no_change` is not None.\n",
      "    Pass an int for reproducible output across multiple function calls.\n",
      "    See :term:`Glossary <random_state>`.\n",
      "\n",
      "max_features : {'auto', 'sqrt', 'log2'}, int or float, default=None\n",
      "    The number of features to consider when looking for the best split:\n",
      "\n",
      "    - If int, values must be in the range `[1, inf)`.\n",
      "    - If float, values must be in the range `(0.0, 1.0]` and the features\n",
      "      considered at each split will be `max(1, int(max_features * n_features_in_))`.\n",
      "    - If \"auto\", then `max_features=n_features`.\n",
      "    - If \"sqrt\", then `max_features=sqrt(n_features)`.\n",
      "    - If \"log2\", then `max_features=log2(n_features)`.\n",
      "    - If None, then `max_features=n_features`.\n",
      "\n",
      "    Choosing `max_features < n_features` leads to a reduction of variance\n",
      "    and an increase in bias.\n",
      "\n",
      "    Note: the search for a split does not stop until at least one\n",
      "    valid partition of the node samples is found, even if it requires to\n",
      "    effectively inspect more than ``max_features`` features.\n",
      "\n",
      "alpha : float, default=0.9\n",
      "    The alpha-quantile of the huber loss function and the quantile\n",
      "    loss function. Only if ``loss='huber'`` or ``loss='quantile'``.\n",
      "    Values must be in the range `(0.0, 1.0)`.\n",
      "\n",
      "verbose : int, default=0\n",
      "    Enable verbose output. If 1 then it prints progress and performance\n",
      "    once in a while (the more trees the lower the frequency). If greater\n",
      "    than 1 then it prints progress and performance for every tree.\n",
      "    Values must be in the range `[0, inf)`.\n",
      "\n",
      "max_leaf_nodes : int, default=None\n",
      "    Grow trees with ``max_leaf_nodes`` in best-first fashion.\n",
      "    Best nodes are defined as relative reduction in impurity.\n",
      "    Values must be in the range `[2, inf)`.\n",
      "    If None, then unlimited number of leaf nodes.\n",
      "\n",
      "warm_start : bool, default=False\n",
      "    When set to ``True``, reuse the solution of the previous call to fit\n",
      "    and add more estimators to the ensemble, otherwise, just erase the\n",
      "    previous solution. See :term:`the Glossary <warm_start>`.\n",
      "\n",
      "validation_fraction : float, default=0.1\n",
      "    The proportion of training data to set aside as validation set for\n",
      "    early stopping. Values must be in the range `(0.0, 1.0)`.\n",
      "    Only used if ``n_iter_no_change`` is set to an integer.\n",
      "\n",
      "    .. versionadded:: 0.20\n",
      "\n",
      "n_iter_no_change : int, default=None\n",
      "    ``n_iter_no_change`` is used to decide if early stopping will be used\n",
      "    to terminate training when validation score is not improving. By\n",
      "    default it is set to None to disable early stopping. If set to a\n",
      "    number, it will set aside ``validation_fraction`` size of the training\n",
      "    data as validation and terminate training when validation score is not\n",
      "    improving in all of the previous ``n_iter_no_change`` numbers of\n",
      "    iterations.\n",
      "    Values must be in the range `[1, inf)`.\n",
      "\n",
      "    .. versionadded:: 0.20\n",
      "\n",
      "tol : float, default=1e-4\n",
      "    Tolerance for the early stopping. When the loss is not improving\n",
      "    by at least tol for ``n_iter_no_change`` iterations (if set to a\n",
      "    number), the training stops.\n",
      "    Values must be in the range `(0.0, inf)`.\n",
      "\n",
      "    .. versionadded:: 0.20\n",
      "\n",
      "ccp_alpha : non-negative float, default=0.0\n",
      "    Complexity parameter used for Minimal Cost-Complexity Pruning. The\n",
      "    subtree with the largest cost complexity that is smaller than\n",
      "    ``ccp_alpha`` will be chosen. By default, no pruning is performed.\n",
      "    Values must be in the range `[0.0, inf)`.\n",
      "    See :ref:`minimal_cost_complexity_pruning` for details.\n",
      "\n",
      "    .. versionadded:: 0.22\n",
      "\n",
      "Attributes\n",
      "----------\n",
      "feature_importances_ : ndarray of shape (n_features,)\n",
      "    The impurity-based feature importances.\n",
      "    The higher, the more important the feature.\n",
      "    The importance of a feature is computed as the (normalized)\n",
      "    total reduction of the criterion brought by that feature.  It is also\n",
      "    known as the Gini importance.\n",
      "\n",
      "    Warning: impurity-based feature importances can be misleading for\n",
      "    high cardinality features (many unique values). See\n",
      "    :func:`sklearn.inspection.permutation_importance` as an alternative.\n",
      "\n",
      "oob_improvement_ : ndarray of shape (n_estimators,)\n",
      "    The improvement in loss (= deviance) on the out-of-bag samples\n",
      "    relative to the previous iteration.\n",
      "    ``oob_improvement_[0]`` is the improvement in\n",
      "    loss of the first stage over the ``init`` estimator.\n",
      "    Only available if ``subsample < 1.0``\n",
      "\n",
      "train_score_ : ndarray of shape (n_estimators,)\n",
      "    The i-th score ``train_score_[i]`` is the deviance (= loss) of the\n",
      "    model at iteration ``i`` on the in-bag sample.\n",
      "    If ``subsample == 1`` this is the deviance on the training data.\n",
      "\n",
      "loss_ : LossFunction\n",
      "    The concrete ``LossFunction`` object.\n",
      "\n",
      "    .. deprecated:: 1.1\n",
      "         Attribute `loss_` was deprecated in version 1.1 and will be\n",
      "        removed in 1.3.\n",
      "\n",
      "init_ : estimator\n",
      "    The estimator that provides the initial predictions.\n",
      "    Set via the ``init`` argument or ``loss.init_estimator``.\n",
      "\n",
      "estimators_ : ndarray of DecisionTreeRegressor of shape (n_estimators, 1)\n",
      "    The collection of fitted sub-estimators.\n",
      "\n",
      "n_estimators_ : int\n",
      "    The number of estimators as selected by early stopping (if\n",
      "    ``n_iter_no_change`` is specified). Otherwise it is set to\n",
      "    ``n_estimators``.\n",
      "\n",
      "n_features_ : int\n",
      "    The number of data features.\n",
      "\n",
      "    .. deprecated:: 1.0\n",
      "        Attribute `n_features_` was deprecated in version 1.0 and will be\n",
      "        removed in 1.2. Use `n_features_in_` instead.\n",
      "\n",
      "n_features_in_ : int\n",
      "    Number of features seen during :term:`fit`.\n",
      "\n",
      "    .. versionadded:: 0.24\n",
      "\n",
      "feature_names_in_ : ndarray of shape (`n_features_in_`,)\n",
      "    Names of features seen during :term:`fit`. Defined only when `X`\n",
      "    has feature names that are all strings.\n",
      "\n",
      "    .. versionadded:: 1.0\n",
      "\n",
      "max_features_ : int\n",
      "    The inferred value of max_features.\n",
      "\n",
      "See Also\n",
      "--------\n",
      "HistGradientBoostingRegressor : Histogram-based Gradient Boosting\n",
      "    Classification Tree.\n",
      "sklearn.tree.DecisionTreeRegressor : A decision tree regressor.\n",
      "sklearn.ensemble.RandomForestRegressor : A random forest regressor.\n",
      "\n",
      "Notes\n",
      "-----\n",
      "The features are always randomly permuted at each split. Therefore,\n",
      "the best found split may vary, even with the same training data and\n",
      "``max_features=n_features``, if the improvement of the criterion is\n",
      "identical for several splits enumerated during the search of the best\n",
      "split. To obtain a deterministic behaviour during fitting,\n",
      "``random_state`` has to be fixed.\n",
      "\n",
      "References\n",
      "----------\n",
      "J. Friedman, Greedy Function Approximation: A Gradient Boosting\n",
      "Machine, The Annals of Statistics, Vol. 29, No. 5, 2001.\n",
      "\n",
      "J. Friedman, Stochastic Gradient Boosting, 1999\n",
      "\n",
      "T. Hastie, R. Tibshirani and J. Friedman.\n",
      "Elements of Statistical Learning Ed. 2, Springer, 2009.\n",
      "\n",
      "Examples\n",
      "--------\n",
      ">>> from sklearn.datasets import make_regression\n",
      ">>> from sklearn.ensemble import GradientBoostingRegressor\n",
      ">>> from sklearn.model_selection import train_test_split\n",
      ">>> X, y = make_regression(random_state=0)\n",
      ">>> X_train, X_test, y_train, y_test = train_test_split(\n",
      "...     X, y, random_state=0)\n",
      ">>> reg = GradientBoostingRegressor(random_state=0)\n",
      ">>> reg.fit(X_train, y_train)\n",
      "GradientBoostingRegressor(random_state=0)\n",
      ">>> reg.predict(X_test[1:2])\n",
      "array([-61...])\n",
      ">>> reg.score(X_test, y_test)\n",
      "0.4...\n",
      "\u001b[1;31mFile:\u001b[0m           c:\\users\\antho\\anaconda3\\envs\\mytfenv\\lib\\site-packages\\sklearn\\ensemble\\_gb.py\n",
      "\u001b[1;31mType:\u001b[0m           ABCMeta\n",
      "\u001b[1;31mSubclasses:\u001b[0m     \n"
     ]
    }
   ],
   "source": [
    "GradientBoostingRegressor?"
   ]
  },
  {
   "cell_type": "markdown",
   "metadata": {},
   "source": [
    "### GridSearchCV"
   ]
  },
  {
   "cell_type": "code",
   "execution_count": 98,
   "metadata": {},
   "outputs": [],
   "source": [
    "learning_rate = [0.01, 0.05, 0.1, 0.5, 1]\n",
    "n_estimators = [50,80,100,120,150]\n",
    "subsample = [0.6, 0.8, 1, 1.2, 1.4]\n",
    "param_grid = dict(learning_rate=learning_rate, n_estimators=n_estimators, subsample=subsample)\n",
    "model = GBR\n",
    "kfold = KFold(n_splits=num_folds)\n",
    "grid = GridSearchCV(estimator=model, param_grid=param_grid, scoring='neg_mean_squared_error', return_train_score=True)\n",
    "grid_result = grid.fit(X_train, y_train)"
   ]
  },
  {
   "cell_type": "code",
   "execution_count": 99,
   "metadata": {},
   "outputs": [
    {
     "name": "stdout",
     "output_type": "stream",
     "text": [
      "Best: -27357672663.716316 using {'learning_rate': 0.1, 'n_estimators': 120, 'subsample': 1}\n",
      "#75 951260.897734 (nan) with {'learning_rate': 0.01, 'n_estimators': 50, 'subsample': 0.6}\n",
      "#74 950375.675789 (nan) with {'learning_rate': 0.01, 'n_estimators': 50, 'subsample': 0.8}\n",
      "#73 949366.797665 (nan) with {'learning_rate': 0.01, 'n_estimators': 50, 'subsample': 1}\n",
      "#97 nan (nan) with {'learning_rate': 0.01, 'n_estimators': 50, 'subsample': 1.2}\n",
      "#96 nan (nan) with {'learning_rate': 0.01, 'n_estimators': 50, 'subsample': 1.4}\n",
      "#70 769423.220531 (nan) with {'learning_rate': 0.01, 'n_estimators': 80, 'subsample': 0.6}\n",
      "#72 774434.172398 (nan) with {'learning_rate': 0.01, 'n_estimators': 80, 'subsample': 0.8}\n",
      "#71 770220.795996 (nan) with {'learning_rate': 0.01, 'n_estimators': 80, 'subsample': 1}\n",
      "#95 nan (nan) with {'learning_rate': 0.01, 'n_estimators': 80, 'subsample': 1.2}\n",
      "#92 nan (nan) with {'learning_rate': 0.01, 'n_estimators': 80, 'subsample': 1.4}\n",
      "#69 673714.900997 (nan) with {'learning_rate': 0.01, 'n_estimators': 100, 'subsample': 0.6}\n",
      "#68 670890.158394 (nan) with {'learning_rate': 0.01, 'n_estimators': 100, 'subsample': 0.8}\n",
      "#67 668577.886437 (nan) with {'learning_rate': 0.01, 'n_estimators': 100, 'subsample': 1}\n",
      "#91 nan (nan) with {'learning_rate': 0.01, 'n_estimators': 100, 'subsample': 1.2}\n",
      "#90 nan (nan) with {'learning_rate': 0.01, 'n_estimators': 100, 'subsample': 1.4}\n",
      "#64 595780.026737 (nan) with {'learning_rate': 0.01, 'n_estimators': 120, 'subsample': 0.6}\n",
      "#63 593779.618175 (nan) with {'learning_rate': 0.01, 'n_estimators': 120, 'subsample': 0.8}\n",
      "#62 580587.518128 (nan) with {'learning_rate': 0.01, 'n_estimators': 120, 'subsample': 1}\n",
      "#87 nan (nan) with {'learning_rate': 0.01, 'n_estimators': 120, 'subsample': 1.2}\n",
      "#86 nan (nan) with {'learning_rate': 0.01, 'n_estimators': 120, 'subsample': 1.4}\n",
      "#57 495146.362013 (nan) with {'learning_rate': 0.01, 'n_estimators': 150, 'subsample': 0.6}\n",
      "#56 490359.330707 (nan) with {'learning_rate': 0.01, 'n_estimators': 150, 'subsample': 0.8}\n",
      "#54 473307.762047 (nan) with {'learning_rate': 0.01, 'n_estimators': 150, 'subsample': 1}\n",
      "#85 nan (nan) with {'learning_rate': 0.01, 'n_estimators': 150, 'subsample': 1.2}\n",
      "#82 nan (nan) with {'learning_rate': 0.01, 'n_estimators': 150, 'subsample': 1.4}\n",
      "#41 288844.856003 (nan) with {'learning_rate': 0.05, 'n_estimators': 50, 'subsample': 0.6}\n",
      "#43 303017.043784 (nan) with {'learning_rate': 0.05, 'n_estimators': 50, 'subsample': 0.8}\n",
      "#42 298369.160547 (nan) with {'learning_rate': 0.05, 'n_estimators': 50, 'subsample': 1}\n",
      "#81 nan (nan) with {'learning_rate': 0.05, 'n_estimators': 50, 'subsample': 1.2}\n",
      "#80 nan (nan) with {'learning_rate': 0.05, 'n_estimators': 50, 'subsample': 1.4}\n",
      "#31 222249.191952 (nan) with {'learning_rate': 0.05, 'n_estimators': 80, 'subsample': 0.6}\n",
      "#34 234994.235121 (nan) with {'learning_rate': 0.05, 'n_estimators': 80, 'subsample': 0.8}\n",
      "#33 227877.360551 (nan) with {'learning_rate': 0.05, 'n_estimators': 80, 'subsample': 1}\n",
      "#77 nan (nan) with {'learning_rate': 0.05, 'n_estimators': 80, 'subsample': 1.2}\n",
      "#98 nan (nan) with {'learning_rate': 0.05, 'n_estimators': 80, 'subsample': 1.4}\n",
      "#24 208833.533882 (nan) with {'learning_rate': 0.05, 'n_estimators': 100, 'subsample': 0.6}\n",
      "#28 212468.333605 (nan) with {'learning_rate': 0.05, 'n_estimators': 100, 'subsample': 0.8}\n",
      "#29 215021.175328 (nan) with {'learning_rate': 0.05, 'n_estimators': 100, 'subsample': 1}\n",
      "#99 nan (nan) with {'learning_rate': 0.05, 'n_estimators': 100, 'subsample': 1.2}\n",
      "#123 nan (nan) with {'learning_rate': 0.05, 'n_estimators': 100, 'subsample': 1.4}\n",
      "#23 208586.350202 (nan) with {'learning_rate': 0.05, 'n_estimators': 120, 'subsample': 0.6}\n",
      "#27 209693.908305 (nan) with {'learning_rate': 0.05, 'n_estimators': 120, 'subsample': 0.8}\n",
      "#19 203555.535646 (nan) with {'learning_rate': 0.05, 'n_estimators': 120, 'subsample': 1}\n",
      "#122 nan (nan) with {'learning_rate': 0.05, 'n_estimators': 120, 'subsample': 1.2}\n",
      "#121 nan (nan) with {'learning_rate': 0.05, 'n_estimators': 120, 'subsample': 1.4}\n",
      "#13 192324.082370 (nan) with {'learning_rate': 0.05, 'n_estimators': 150, 'subsample': 0.6}\n",
      "#9 184865.896243 (nan) with {'learning_rate': 0.05, 'n_estimators': 150, 'subsample': 0.8}\n",
      "#14 195025.211725 (nan) with {'learning_rate': 0.05, 'n_estimators': 150, 'subsample': 1}\n",
      "#118 nan (nan) with {'learning_rate': 0.05, 'n_estimators': 150, 'subsample': 1.2}\n",
      "#117 nan (nan) with {'learning_rate': 0.05, 'n_estimators': 150, 'subsample': 1.4}\n",
      "#15 198397.502437 (nan) with {'learning_rate': 0.1, 'n_estimators': 50, 'subsample': 0.6}\n",
      "#32 227594.975951 (nan) with {'learning_rate': 0.1, 'n_estimators': 50, 'subsample': 0.8}\n",
      "#18 201502.219605 (nan) with {'learning_rate': 0.1, 'n_estimators': 50, 'subsample': 1}\n",
      "#116 nan (nan) with {'learning_rate': 0.1, 'n_estimators': 50, 'subsample': 1.2}\n",
      "#124 nan (nan) with {'learning_rate': 0.1, 'n_estimators': 50, 'subsample': 1.4}\n",
      "#7 183671.559482 (nan) with {'learning_rate': 0.1, 'n_estimators': 80, 'subsample': 0.6}\n",
      "#17 201071.802678 (nan) with {'learning_rate': 0.1, 'n_estimators': 80, 'subsample': 0.8}\n",
      "#11 188059.051242 (nan) with {'learning_rate': 0.1, 'n_estimators': 80, 'subsample': 1}\n",
      "#113 nan (nan) with {'learning_rate': 0.1, 'n_estimators': 80, 'subsample': 1.2}\n",
      "#111 nan (nan) with {'learning_rate': 0.1, 'n_estimators': 80, 'subsample': 1.4}\n",
      "#8 184830.028745 (nan) with {'learning_rate': 0.1, 'n_estimators': 100, 'subsample': 0.6}\n",
      "#12 189315.323608 (nan) with {'learning_rate': 0.1, 'n_estimators': 100, 'subsample': 0.8}\n",
      "#4 173730.244617 (nan) with {'learning_rate': 0.1, 'n_estimators': 100, 'subsample': 1}\n",
      "#107 nan (nan) with {'learning_rate': 0.1, 'n_estimators': 100, 'subsample': 1.2}\n",
      "#106 nan (nan) with {'learning_rate': 0.1, 'n_estimators': 100, 'subsample': 1.4}\n",
      "#5 174135.746825 (nan) with {'learning_rate': 0.1, 'n_estimators': 120, 'subsample': 0.6}\n",
      "#10 185124.939019 (nan) with {'learning_rate': 0.1, 'n_estimators': 120, 'subsample': 0.8}\n",
      "#1 165401.549762 (nan) with {'learning_rate': 0.1, 'n_estimators': 120, 'subsample': 1}\n",
      "#103 nan (nan) with {'learning_rate': 0.1, 'n_estimators': 120, 'subsample': 1.2}\n",
      "#102 nan (nan) with {'learning_rate': 0.1, 'n_estimators': 120, 'subsample': 1.4}\n",
      "#3 170083.436916 (nan) with {'learning_rate': 0.1, 'n_estimators': 150, 'subsample': 0.6}\n",
      "#6 176660.205131 (nan) with {'learning_rate': 0.1, 'n_estimators': 150, 'subsample': 0.8}\n",
      "#2 170071.623608 (nan) with {'learning_rate': 0.1, 'n_estimators': 150, 'subsample': 1}\n",
      "#76 nan (nan) with {'learning_rate': 0.1, 'n_estimators': 150, 'subsample': 1.2}\n",
      "#112 nan (nan) with {'learning_rate': 0.1, 'n_estimators': 150, 'subsample': 1.4}\n",
      "#44 308707.844678 (nan) with {'learning_rate': 0.5, 'n_estimators': 50, 'subsample': 0.6}\n",
      "#37 241201.743080 (nan) with {'learning_rate': 0.5, 'n_estimators': 50, 'subsample': 0.8}\n",
      "#26 209062.243500 (nan) with {'learning_rate': 0.5, 'n_estimators': 50, 'subsample': 1}\n",
      "#104 nan (nan) with {'learning_rate': 0.5, 'n_estimators': 50, 'subsample': 1.2}\n",
      "#105 nan (nan) with {'learning_rate': 0.5, 'n_estimators': 50, 'subsample': 1.4}\n",
      "#40 260116.318026 (nan) with {'learning_rate': 0.5, 'n_estimators': 80, 'subsample': 0.6}\n",
      "#22 207966.446777 (nan) with {'learning_rate': 0.5, 'n_estimators': 80, 'subsample': 0.8}\n",
      "#25 208936.418799 (nan) with {'learning_rate': 0.5, 'n_estimators': 80, 'subsample': 1}\n",
      "#109 nan (nan) with {'learning_rate': 0.5, 'n_estimators': 80, 'subsample': 1.2}\n",
      "#110 nan (nan) with {'learning_rate': 0.5, 'n_estimators': 80, 'subsample': 1.4}\n",
      "#38 255491.989844 (nan) with {'learning_rate': 0.5, 'n_estimators': 100, 'subsample': 0.6}\n",
      "#39 256042.962092 (nan) with {'learning_rate': 0.5, 'n_estimators': 100, 'subsample': 0.8}\n",
      "#21 207293.282887 (nan) with {'learning_rate': 0.5, 'n_estimators': 100, 'subsample': 1}\n",
      "#114 nan (nan) with {'learning_rate': 0.5, 'n_estimators': 100, 'subsample': 1.2}\n",
      "#115 nan (nan) with {'learning_rate': 0.5, 'n_estimators': 100, 'subsample': 1.4}\n",
      "#45 317884.359087 (nan) with {'learning_rate': 0.5, 'n_estimators': 120, 'subsample': 0.6}\n",
      "#36 236658.387587 (nan) with {'learning_rate': 0.5, 'n_estimators': 120, 'subsample': 0.8}\n",
      "#20 206877.940092 (nan) with {'learning_rate': 0.5, 'n_estimators': 120, 'subsample': 1}\n",
      "#119 nan (nan) with {'learning_rate': 0.5, 'n_estimators': 120, 'subsample': 1.2}\n",
      "#120 nan (nan) with {'learning_rate': 0.5, 'n_estimators': 120, 'subsample': 1.4}\n",
      "#16 200623.885732 (nan) with {'learning_rate': 0.5, 'n_estimators': 150, 'subsample': 0.6}\n",
      "#35 236129.818272 (nan) with {'learning_rate': 0.5, 'n_estimators': 150, 'subsample': 0.8}\n",
      "#30 216505.787755 (nan) with {'learning_rate': 0.5, 'n_estimators': 150, 'subsample': 1}\n",
      "#101 nan (nan) with {'learning_rate': 0.5, 'n_estimators': 150, 'subsample': 1.2}\n",
      "#100 nan (nan) with {'learning_rate': 0.5, 'n_estimators': 150, 'subsample': 1.4}\n",
      "#47 392167.819718 (nan) with {'learning_rate': 1, 'n_estimators': 50, 'subsample': 0.6}\n",
      "#61 566845.094223 (nan) with {'learning_rate': 1, 'n_estimators': 50, 'subsample': 0.8}\n",
      "#53 430544.983957 (nan) with {'learning_rate': 1, 'n_estimators': 50, 'subsample': 1}\n",
      "#78 nan (nan) with {'learning_rate': 1, 'n_estimators': 50, 'subsample': 1.2}\n",
      "#79 nan (nan) with {'learning_rate': 1, 'n_estimators': 50, 'subsample': 1.4}\n",
      "#65 607497.315646 (nan) with {'learning_rate': 1, 'n_estimators': 80, 'subsample': 0.6}\n",
      "#48 411082.141356 (nan) with {'learning_rate': 1, 'n_estimators': 80, 'subsample': 0.8}\n",
      "#51 421182.579930 (nan) with {'learning_rate': 1, 'n_estimators': 80, 'subsample': 1}\n",
      "#83 nan (nan) with {'learning_rate': 1, 'n_estimators': 80, 'subsample': 1.2}\n",
      "#84 nan (nan) with {'learning_rate': 1, 'n_estimators': 80, 'subsample': 1.4}\n",
      "#60 555273.168065 (nan) with {'learning_rate': 1, 'n_estimators': 100, 'subsample': 0.6}\n",
      "#58 497048.375037 (nan) with {'learning_rate': 1, 'n_estimators': 100, 'subsample': 0.8}\n",
      "#52 423239.122714 (nan) with {'learning_rate': 1, 'n_estimators': 100, 'subsample': 1}\n",
      "#88 nan (nan) with {'learning_rate': 1, 'n_estimators': 100, 'subsample': 1.2}\n",
      "#89 nan (nan) with {'learning_rate': 1, 'n_estimators': 100, 'subsample': 1.4}\n",
      "#59 535356.069037 (nan) with {'learning_rate': 1, 'n_estimators': 120, 'subsample': 0.6}\n",
      "#55 479155.327269 (nan) with {'learning_rate': 1, 'n_estimators': 120, 'subsample': 0.8}\n",
      "#50 419875.977659 (nan) with {'learning_rate': 1, 'n_estimators': 120, 'subsample': 1}\n",
      "#93 nan (nan) with {'learning_rate': 1, 'n_estimators': 120, 'subsample': 1.2}\n",
      "#94 nan (nan) with {'learning_rate': 1, 'n_estimators': 120, 'subsample': 1.4}\n",
      "#66 623108.508369 (nan) with {'learning_rate': 1, 'n_estimators': 150, 'subsample': 0.6}\n",
      "#46 387351.568553 (nan) with {'learning_rate': 1, 'n_estimators': 150, 'subsample': 0.8}\n",
      "#49 411812.073494 (nan) with {'learning_rate': 1, 'n_estimators': 150, 'subsample': 1}\n",
      "#108 nan (nan) with {'learning_rate': 1, 'n_estimators': 150, 'subsample': 1.2}\n",
      "#125 nan (nan) with {'learning_rate': 1, 'n_estimators': 150, 'subsample': 1.4}\n"
     ]
    }
   ],
   "source": [
    "print('Best: %f using %s' % (grid_result.best_score_, grid_result.best_params_))\n",
    "means = grid_result.cv_results_['mean_test_score']\n",
    "stds = grid_result.cv_results_['std_test_score']\n",
    "params = grid_result.cv_results_['params']\n",
    "ranks = grid_result.cv_results_['rank_test_score']\n",
    "for mean, stdev, param, rank in zip(means, stds, params, ranks):\n",
    "    print('#%d %f (%f) with %r' % (rank, np.sqrt(-mean), np.sqrt(-stdev), param))"
   ]
  },
  {
   "cell_type": "code",
   "execution_count": 100,
   "metadata": {},
   "outputs": [
    {
     "name": "stdout",
     "output_type": "stream",
     "text": [
      " Results from Grid Search \n",
      "\n",
      " The best estimator across ALL searched params:\n",
      " GradientBoostingRegressor(n_estimators=120, subsample=1)\n",
      "\n",
      " The best score across ALL searched params:\n",
      " 165401.5497621359\n",
      "\n",
      " The best parameters across ALL searched params:\n",
      " {'learning_rate': 0.1, 'n_estimators': 120, 'subsample': 1}\n"
     ]
    }
   ],
   "source": [
    "# If you want to see it neat\n",
    "print(\" Results from Grid Search \" )\n",
    "print(\"\\n The best estimator across ALL searched params:\\n\",grid.best_estimator_)\n",
    "print(\"\\n The best score across ALL searched params:\\n\",np.sqrt(grid.best_score_*-1))\n",
    "print(\"\\n The best parameters across ALL searched params:\\n\",grid.best_params_)"
   ]
  },
  {
   "cell_type": "markdown",
   "metadata": {},
   "source": [
    "Now with the new parameters to set for the GBR, we call the model again"
   ]
  },
  {
   "cell_type": "code",
   "execution_count": 101,
   "metadata": {},
   "outputs": [],
   "source": [
    "GBR = GradientBoostingRegressor(n_estimators=150)\n",
    "GBR.fit(X_train, y_train)\n",
    "new_train_prediction = GBR.predict(X_train)"
   ]
  },
  {
   "cell_type": "code",
   "execution_count": 102,
   "metadata": {},
   "outputs": [
    {
     "data": {
      "text/plain": [
       "0.9997691939519973"
      ]
     },
     "execution_count": 102,
     "metadata": {},
     "output_type": "execute_result"
    }
   ],
   "source": [
    "metrics.r2_score(y_train, new_train_prediction)"
   ]
  },
  {
   "cell_type": "code",
   "execution_count": 103,
   "metadata": {},
   "outputs": [
    {
     "data": {
      "text/plain": [
       "0.9025670620650582"
      ]
     },
     "execution_count": 103,
     "metadata": {},
     "output_type": "execute_result"
    }
   ],
   "source": [
    "new_test_pred = GBR.predict(X_test)\n",
    "metrics.r2_score(y_test, new_test_pred)"
   ]
  },
  {
   "cell_type": "markdown",
   "metadata": {},
   "source": [
    "Well, it performed close, but this only slightly worse. But the intuition behind the optimization process is through GridSearchCV. I use it extensively, and with this prediction model, I only changed 1 parameter, so I don't expect it to change significantly. "
   ]
  },
  {
   "cell_type": "code",
   "execution_count": 104,
   "metadata": {},
   "outputs": [
    {
     "name": "stdout",
     "output_type": "stream",
     "text": [
      "315256583625.9715\n",
      "561477.1443487005\n"
     ]
    }
   ],
   "source": [
    "from sklearn.metrics import mean_squared_error\n",
    "final_mse = mean_squared_error(y_test, GBR.predict(X_test))\n",
    "print(final_mse)\n",
    "final_rmse = np.sqrt(final_mse)\n",
    "print(final_rmse)"
   ]
  },
  {
   "cell_type": "markdown",
   "metadata": {},
   "source": [
    "### *$PREDICT!$*"
   ]
  },
  {
   "cell_type": "code",
   "execution_count": null,
   "metadata": {},
   "outputs": [],
   "source": [
    "random = pd.DataFrame()\n",
    "random['# Won Deals'] = [1]\n",
    "random['Average Deal Size'] = [681410]\n",
    "random['Product Rank'] = [1]\n",
    "random['Top Product Total Price'] = [654600]"
   ]
  },
  {
   "cell_type": "code",
   "execution_count": 128,
   "metadata": {},
   "outputs": [
    {
     "data": {
      "text/plain": [
       "4"
      ]
     },
     "execution_count": 128,
     "metadata": {},
     "output_type": "execute_result"
    }
   ],
   "source": [
    "df1.shape[1]-1"
   ]
  },
  {
   "cell_type": "code",
   "execution_count": 165,
   "metadata": {},
   "outputs": [],
   "source": [
    "random1 = random.iloc[0]\n",
    "random1 = scaler.transform(random1.values.reshape(-1,4))\n",
    "random1\n"
   ]
  },
  {
   "cell_type": "code",
   "execution_count": 151,
   "metadata": {},
   "outputs": [],
   "source": [
    "random1 = random1.reshape(-1,4)"
   ]
  },
  {
   "cell_type": "code",
   "execution_count": 152,
   "metadata": {},
   "outputs": [
    {
     "data": {
      "text/plain": [
       "array([709227.7444116])"
      ]
     },
     "execution_count": 152,
     "metadata": {},
     "output_type": "execute_result"
    }
   ],
   "source": [
    "model.predict(random1)"
   ]
  },
  {
   "cell_type": "code",
   "execution_count": null,
   "metadata": {},
   "outputs": [],
   "source": [
    "random_total_rev = df1.drop('Total Revenue',axis=1).iloc[235]\n",
    "random_total_rev"
   ]
  },
  {
   "cell_type": "code",
   "execution_count": null,
   "metadata": {},
   "outputs": [],
   "source": [
    "random_total_rev = scaler.transform(random_total_rev.values.reshape(-1,df1.shape[1]-1))"
   ]
  },
  {
   "cell_type": "code",
   "execution_count": 175,
   "metadata": {},
   "outputs": [],
   "source": [
    "actual = df.iloc[235]['Total Revenue']\n",
    "mod = model.predict(random_total_rev)\n",
    "pred = mod.reshape(mod.shape[0])"
   ]
  },
  {
   "cell_type": "code",
   "execution_count": 176,
   "metadata": {},
   "outputs": [
    {
     "name": "stdout",
     "output_type": "stream",
     "text": [
      "actual: [368530]\n",
      "predicted: [368935.95579986]\n"
     ]
    }
   ],
   "source": [
    "print(f'actual: [{actual}]')\n",
    "print(f'predicted: {pred}')"
   ]
  },
  {
   "cell_type": "code",
   "execution_count": 171,
   "metadata": {},
   "outputs": [
    {
     "data": {
      "text/plain": [
       "array([3781.47660359])"
      ]
     },
     "execution_count": 171,
     "metadata": {},
     "output_type": "execute_result"
    }
   ],
   "source": [
    "pred-actual"
   ]
  },
  {
   "cell_type": "markdown",
   "metadata": {},
   "source": [
    "$50,000 off, ehh. Not bad"
   ]
  },
  {
   "cell_type": "markdown",
   "metadata": {},
   "source": [
    "Saving the Model:"
   ]
  },
  {
   "cell_type": "code",
   "execution_count": 113,
   "metadata": {},
   "outputs": [],
   "source": [
    "import pickle\n",
    "pickle.dump(GBR, open('Total_Rev.pkl','wb'))"
   ]
  },
  {
   "cell_type": "code",
   "execution_count": 114,
   "metadata": {},
   "outputs": [],
   "source": [
    "with open('Total_Rev.pkl','rb') as f:\n",
    "    model = pickle.load(f)"
   ]
  }
 ],
 "metadata": {
  "kernelspec": {
   "display_name": "Python 3.10.6 ('mytfenv')",
   "language": "python",
   "name": "python3"
  },
  "language_info": {
   "codemirror_mode": {
    "name": "ipython",
    "version": 3
   },
   "file_extension": ".py",
   "mimetype": "text/x-python",
   "name": "python",
   "nbconvert_exporter": "python",
   "pygments_lexer": "ipython3",
   "version": "3.10.6"
  },
  "orig_nbformat": 4,
  "vscode": {
   "interpreter": {
    "hash": "7a6141bb765aa3bbac06bf2c44817d253d74b01a0fc0a193c6da1ab26e07cb0a"
   }
  }
 },
 "nbformat": 4,
 "nbformat_minor": 2
}
